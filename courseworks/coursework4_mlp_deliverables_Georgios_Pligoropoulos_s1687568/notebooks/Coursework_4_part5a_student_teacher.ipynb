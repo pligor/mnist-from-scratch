{
 "cells": [
  {
   "cell_type": "markdown",
   "metadata": {},
   "source": [
    "2017\n",
    "\n",
    "Machine Learning Practical\n",
    "\n",
    "University of Edinburgh\n",
    "\n",
    "Georgios Pligoropoulos - s1687568\n",
    "\n",
    "Coursework 4 (part 5a)"
   ]
  },
  {
   "cell_type": "markdown",
   "metadata": {},
   "source": [
    "### Imports, Inits, and helper functions"
   ]
  },
  {
   "cell_type": "code",
   "execution_count": 1,
   "metadata": {
    "collapsed": false
   },
   "outputs": [],
   "source": [
    "jupyterNotebookEnabled = True\n",
    "plotting = True\n",
    "saving = True\n",
    "coursework, part = 4, \"5a\"\n",
    "\n",
    "if jupyterNotebookEnabled:\n",
    "    #%load_ext autoreload\n",
    "    %reload_ext autoreload\n",
    "    %autoreload 2"
   ]
  },
  {
   "cell_type": "code",
   "execution_count": 2,
   "metadata": {
    "collapsed": false
   },
   "outputs": [],
   "source": [
    "import sys\n",
    "import os\n",
    "mlpdir = os.path.expanduser(\n",
    "    '~/pligor.george@gmail.com/msc_Artificial_Intelligence/mlp_Machine_Learning_Practical/mlpractical'\n",
    ")\n",
    "sys.path.append(mlpdir)"
   ]
  },
  {
   "cell_type": "code",
   "execution_count": 3,
   "metadata": {
    "collapsed": false
   },
   "outputs": [],
   "source": [
    "import pickle\n",
    "import skopt\n",
    "from skopt.plots import plot_convergence\n",
    "import datetime\n",
    "import time\n",
    "import tensorflow as tf\n",
    "import numpy as np\n",
    "    \n",
    "import matplotlib.pyplot as plt\n",
    "\n",
    "from mylibs.tf_helper import tfRMSE, tfMSE, fully_connected_layer, trainEpoch, validateEpoch\n",
    "\n",
    "from mylibs.py_helper import merge_dicts\n",
    "    \n",
    "from mylibs.dropout_helper import constructProbs\n",
    "\n",
    "from skopt.space.space import Real, Integer\n",
    "from skopt import gp_minimize\n",
    "\n",
    "from mylibs.jupyter_notebook_helper import show_graph\n",
    "\n",
    "from mlp.data_providers import DataProvider, \\\n",
    "    MSD10GenreDataProvider, MSD25GenreDataProvider,\\\n",
    "    MSD10Genre_Autoencoder_DataProvider, MSD10Genre_StackedAutoEncoderDataProvider\n",
    "    \n",
    "from mylibs.batch_norm import batchNormWrapper_byExponentialMovingAvg, fully_connected_layer_with_batch_norm\n",
    "\n",
    "from mylibs.batch_norm import fully_connected_layer_with_batch_norm_and_l2\n",
    "\n",
    "from mylibs.stacked_autoencoder_pretrainer import \\\n",
    "    constructModelFromPretrainedByAutoEncoderStack,\\\n",
    "    buildGraphOfStackedAutoencoder, executeNonLinearAutoencoder\n",
    "    \n",
    "from mylibs.jupyter_notebook_helper import getRunTime, getTrainWriter, getValidWriter,\\\n",
    "    plotStats, initStats, gatherStats, renderStatsCollection"
   ]
  },
  {
   "cell_type": "code",
   "execution_count": 4,
   "metadata": {
    "collapsed": true
   },
   "outputs": [],
   "source": [
    "if jupyterNotebookEnabled:\n",
    "    %matplotlib inline\n",
    "\n",
    "seed = 16011984\n",
    "rng = np.random.RandomState(seed=seed)\n",
    "\n",
    "config = tf.ConfigProto(log_device_placement=True, allow_soft_placement=True)\n",
    "config.gpu_options.allow_growth = True\n",
    "\n",
    "figcount = 0\n",
    "\n",
    "tensorboardLogdir = 'tf_cw{}_{}'.format(coursework, part)\n",
    "\n",
    "curDtype = tf.float32\n",
    "\n",
    "reluBias = 0.1\n",
    "\n",
    "batch_size = 50\n",
    "numTestSongs = 9950\n",
    "numClasses = 10"
   ]
  },
  {
   "cell_type": "markdown",
   "metadata": {},
   "source": [
    "### MSD 10 genre task"
   ]
  },
  {
   "cell_type": "code",
   "execution_count": 5,
   "metadata": {
    "collapsed": true
   },
   "outputs": [],
   "source": [
    "segment_count = 120\n",
    "segment_len = 25"
   ]
  },
  {
   "cell_type": "code",
   "execution_count": 6,
   "metadata": {
    "collapsed": false
   },
   "outputs": [],
   "source": [
    "from models.teacher_student_nn import MSD10Genre_Teacher_DataProvider, StudentNN"
   ]
  },
  {
   "cell_type": "code",
   "execution_count": 7,
   "metadata": {
    "collapsed": true
   },
   "outputs": [],
   "source": [
    "from rnn.manual_rnn import ManualRNN"
   ]
  },
  {
   "cell_type": "code",
   "execution_count": 8,
   "metadata": {
    "collapsed": false
   },
   "outputs": [],
   "source": [
    "dataset_filename = 'msd-10-genre-train_valid.npz'"
   ]
  },
  {
   "cell_type": "code",
   "execution_count": 9,
   "metadata": {
    "collapsed": true
   },
   "outputs": [],
   "source": [
    "logits_filename = 'rnn_logits.npy'"
   ]
  },
  {
   "cell_type": "markdown",
   "metadata": {},
   "source": [
    "### Validating with Teacher"
   ]
  },
  {
   "cell_type": "code",
   "execution_count": 11,
   "metadata": {
    "collapsed": true
   },
   "outputs": [],
   "source": [
    "manualRNN = ManualRNN(batch_size=batch_size, rng = rng, dtype = curDtype, config=config,\n",
    "                      segment_count = segment_count, segment_len = segment_len)"
   ]
  },
  {
   "cell_type": "code",
   "execution_count": 12,
   "metadata": {
    "collapsed": false
   },
   "outputs": [
    {
     "data": {
      "text/plain": [
       "(341, 4)"
      ]
     },
     "execution_count": 12,
     "metadata": {},
     "output_type": "execute_result"
    }
   ],
   "source": [
    "best_params_filename = 'best_params_rnn.npy'\n",
    "(state_size, num_steps) = np.load(best_params_filename)\n",
    "(state_size, num_steps)"
   ]
  },
  {
   "cell_type": "code",
   "execution_count": 13,
   "metadata": {
    "collapsed": true
   },
   "outputs": [],
   "source": [
    "data_provider = manualRNN.get_dp(\"train_valid\", num_steps = num_steps)"
   ]
  },
  {
   "cell_type": "code",
   "execution_count": 14,
   "metadata": {
    "collapsed": true
   },
   "outputs": [],
   "source": [
    "graph = manualRNN.getGraph(num_steps=num_steps, state_size=state_size)"
   ]
  },
  {
   "cell_type": "code",
   "execution_count": 17,
   "metadata": {
    "collapsed": true
   },
   "outputs": [],
   "source": [
    "epochs = 20"
   ]
  },
  {
   "cell_type": "code",
   "execution_count": 18,
   "metadata": {
    "collapsed": false
   },
   "outputs": [
    {
     "name": "stdout",
     "output_type": "stream",
     "text": [
      "epochs: 20\n",
      "rnn steps: 4\n",
      "state size: 341\n",
      "End epoch 01 (46.634 secs): err(valid)=2.57, acc(valid)=0.12, \n",
      "End epoch 02 (46.672 secs): err(valid)=2.57, acc(valid)=0.12, \n",
      "End epoch 03 (46.347 secs): err(valid)=2.57, acc(valid)=0.12, \n",
      "End epoch 04 (46.027 secs): err(valid)=2.57, acc(valid)=0.12, \n",
      "End epoch 05 (45.852 secs): err(valid)=2.57, acc(valid)=0.12, \n",
      "End epoch 06 (45.920 secs): err(valid)=2.57, acc(valid)=0.12, \n",
      "End epoch 07 (45.909 secs): err(valid)=2.57, acc(valid)=0.12, \n",
      "End epoch 08 (45.864 secs): err(valid)=2.57, acc(valid)=0.12, \n",
      "End epoch 09 (46.181 secs): err(valid)=2.57, acc(valid)=0.12, \n",
      "End epoch 10 (45.946 secs): err(valid)=2.57, acc(valid)=0.12, \n",
      "End epoch 11 (46.052 secs): err(valid)=2.57, acc(valid)=0.12, \n",
      "End epoch 12 (45.538 secs): err(valid)=2.57, acc(valid)=0.12, \n",
      "End epoch 13 (45.458 secs): err(valid)=2.57, acc(valid)=0.12, \n",
      "End epoch 14 (45.520 secs): err(valid)=2.57, acc(valid)=0.12, \n",
      "End epoch 15 (45.849 secs): err(valid)=2.57, acc(valid)=0.12, \n",
      "End epoch 16 (45.888 secs): err(valid)=2.57, acc(valid)=0.12, \n",
      "End epoch 17 (45.531 secs): err(valid)=2.57, acc(valid)=0.12, \n",
      "End epoch 18 (45.583 secs): err(valid)=2.57, acc(valid)=0.12, \n",
      "End epoch 19 (45.557 secs): err(valid)=2.57, acc(valid)=0.12, \n",
      "End epoch 20 (45.947 secs): err(valid)=2.57, acc(valid)=0.12, \n",
      "\n",
      "CPU times: user 20min 31s, sys: 1min 57s, total: 22min 28s\n",
      "Wall time: 15min 18s\n"
     ]
    }
   ],
   "source": [
    "%%time\n",
    "\n",
    "stats, keys = manualRNN.validate(data_provider, state_size, graph, epochs=epochs, verbose=True)"
   ]
  },
  {
   "cell_type": "code",
   "execution_count": 1,
   "metadata": {
    "collapsed": true
   },
   "outputs": [],
   "source": [
    "times = [46.634,\n",
    "46.672,\n",
    "46.347,\n",
    "46.027,\n",
    "45.852,\n",
    "45.920,\n",
    "45.909,\n",
    "45.864,\n",
    "46.181,\n",
    "45.946,\n",
    "46.052,\n",
    "45.538,\n",
    "45.458,\n",
    "45.520,\n",
    "45.849,\n",
    "45.888,\n",
    "45.531,\n",
    "45.583,\n",
    "45.557,\n",
    "45.947,]"
   ]
  },
  {
   "cell_type": "code",
   "execution_count": 5,
   "metadata": {
    "collapsed": false
   },
   "outputs": [
    {
     "data": {
      "text/plain": [
       "45.913749999999993"
      ]
     },
     "execution_count": 5,
     "metadata": {},
     "output_type": "execute_result"
    }
   ],
   "source": [
    "np.mean(times)"
   ]
  },
  {
   "cell_type": "code",
   "execution_count": 6,
   "metadata": {
    "collapsed": false
   },
   "outputs": [
    {
     "data": {
      "text/plain": [
       "45.457999999999998"
      ]
     },
     "execution_count": 6,
     "metadata": {},
     "output_type": "execute_result"
    }
   ],
   "source": [
    "np.min(times)"
   ]
  },
  {
   "cell_type": "code",
   "execution_count": 7,
   "metadata": {
    "collapsed": false
   },
   "outputs": [
    {
     "data": {
      "text/plain": [
       "46.671999999999997"
      ]
     },
     "execution_count": 7,
     "metadata": {},
     "output_type": "execute_result"
    }
   ],
   "source": [
    "np.max(times)"
   ]
  },
  {
   "cell_type": "code",
   "execution_count": 8,
   "metadata": {
    "collapsed": false
   },
   "outputs": [
    {
     "data": {
      "text/plain": [
       "0.11426098749999994"
      ]
     },
     "execution_count": 8,
     "metadata": {},
     "output_type": "execute_result"
    }
   ],
   "source": [
    "np.var(times)"
   ]
  },
  {
   "cell_type": "markdown",
   "metadata": {},
   "source": [
    "### Running full training of shallow neural net"
   ]
  },
  {
   "cell_type": "code",
   "execution_count": 10,
   "metadata": {
    "collapsed": false
   },
   "outputs": [
    {
     "data": {
      "text/plain": [
       "array([  5.00000000e-01,   1.00000000e+00,   1.78400000e+03,\n",
       "         1.00000000e-03])"
      ]
     },
     "execution_count": 10,
     "metadata": {},
     "output_type": "execute_result"
    }
   ],
   "source": [
    "studentNN = StudentNN(batch_size=batch_size, rng=rng, dtype=curDtype, config=config)\n",
    "\n",
    "learning_rate = \"1e-4\"\n",
    "\n",
    "best_params_student_teacher_filename = 'student_teacher/{}/student_teacher_best_params.npy'.\\\n",
    "    format(learning_rate)\n",
    "best_params_student_teacher = np.load(best_params_student_teacher_filename)\n",
    "best_params_student_teacher"
   ]
  },
  {
   "cell_type": "code",
   "execution_count": 14,
   "metadata": {
    "collapsed": false
   },
   "outputs": [
    {
     "name": "stdout",
     "output_type": "stream",
     "text": [
      "lamda2: 0.001000\n",
      "hidden dim: 1784\n",
      "learning rate: 0.000100\n",
      "epochs: 20\n",
      "End epoch 01 (9.714 secs): err(valid)=4.55, acc(valid)=0.10, \n",
      "End epoch 02 (9.365 secs): err(valid)=4.48, acc(valid)=0.10, \n",
      "End epoch 03 (9.461 secs): err(valid)=4.47, acc(valid)=0.10, \n",
      "End epoch 04 (9.356 secs): err(valid)=4.48, acc(valid)=0.10, \n",
      "End epoch 05 (9.382 secs): err(valid)=4.48, acc(valid)=0.10, \n",
      "End epoch 06 (9.347 secs): err(valid)=4.48, acc(valid)=0.10, \n",
      "End epoch 07 (9.345 secs): err(valid)=4.48, acc(valid)=0.10, \n",
      "End epoch 08 (9.340 secs): err(valid)=4.48, acc(valid)=0.10, \n",
      "End epoch 09 (9.347 secs): err(valid)=4.48, acc(valid)=0.10, \n",
      "End epoch 10 (9.385 secs): err(valid)=4.48, acc(valid)=0.10, \n",
      "End epoch 11 (9.324 secs): err(valid)=4.48, acc(valid)=0.10, \n",
      "End epoch 12 (9.461 secs): err(valid)=4.48, acc(valid)=0.10, \n",
      "End epoch 13 (9.304 secs): err(valid)=4.48, acc(valid)=0.10, \n",
      "End epoch 14 (9.381 secs): err(valid)=4.48, acc(valid)=0.10, \n",
      "End epoch 15 (9.376 secs): err(valid)=4.48, acc(valid)=0.10, \n",
      "End epoch 16 (9.383 secs): err(valid)=4.48, acc(valid)=0.10, \n",
      "End epoch 17 (9.349 secs): err(valid)=4.48, acc(valid)=0.10, \n",
      "End epoch 18 (9.383 secs): err(valid)=4.48, acc(valid)=0.10, \n",
      "End epoch 19 (9.373 secs): err(valid)=4.48, acc(valid)=0.10, \n",
      "End epoch 20 (10.015 secs): err(valid)=4.48, acc(valid)=0.10, \n",
      "\n",
      "CPU times: user 1min 28s, sys: 10.4 s, total: 1min 38s\n",
      "Wall time: 3min 11s\n"
     ]
    }
   ],
   "source": [
    "%%time\n",
    "\n",
    "input_keep_prob, hidden_keep_prob, hidden_dim, lamda2 = best_params_student_teacher\n",
    "hidden_dim = int(hidden_dim)\n",
    "learning_rate = float(learning_rate)\n",
    "\n",
    "graph = studentNN.loadAndGetGraph(hidden_dim=hidden_dim, lamda2=lamda2, learningRate=learning_rate)\n",
    "\n",
    "data_provider = MSD10GenreDataProvider('train_valid', batch_size=batch_size, rng=rng)\n",
    "\n",
    "epochs = 20\n",
    "\n",
    "stats, keys, runTimes = studentNN.validate(\n",
    "    data_provider = data_provider,\n",
    "    graph = graph,\n",
    "    epochs = epochs,\n",
    ")"
   ]
  },
  {
   "cell_type": "code",
   "execution_count": 15,
   "metadata": {
    "collapsed": false
   },
   "outputs": [
    {
     "data": {
      "text/plain": [
       "9.4196129441261292"
      ]
     },
     "execution_count": 15,
     "metadata": {},
     "output_type": "execute_result"
    }
   ],
   "source": [
    "np.mean(runTimes)"
   ]
  },
  {
   "cell_type": "code",
   "execution_count": 16,
   "metadata": {
    "collapsed": false
   },
   "outputs": [
    {
     "data": {
      "text/plain": [
       "9.3039250373840332"
      ]
     },
     "execution_count": 16,
     "metadata": {},
     "output_type": "execute_result"
    }
   ],
   "source": [
    "np.min(runTimes)"
   ]
  },
  {
   "cell_type": "code",
   "execution_count": 17,
   "metadata": {
    "collapsed": false
   },
   "outputs": [
    {
     "data": {
      "text/plain": [
       "10.014816045761108"
      ]
     },
     "execution_count": 17,
     "metadata": {},
     "output_type": "execute_result"
    }
   ],
   "source": [
    "np.max(runTimes)"
   ]
  },
  {
   "cell_type": "code",
   "execution_count": 18,
   "metadata": {
    "collapsed": false
   },
   "outputs": [
    {
     "data": {
      "text/plain": [
       "0.02560755415333844"
      ]
     },
     "execution_count": 18,
     "metadata": {},
     "output_type": "execute_result"
    }
   ],
   "source": [
    "np.var(runTimes)"
   ]
  }
 ],
 "metadata": {
  "anaconda-cloud": {},
  "kernelspec": {
   "display_name": "Python 2",
   "language": "python",
   "name": "python2"
  },
  "language_info": {
   "codemirror_mode": {
    "name": "ipython",
    "version": 2
   },
   "file_extension": ".py",
   "mimetype": "text/x-python",
   "name": "python",
   "nbconvert_exporter": "python",
   "pygments_lexer": "ipython2",
   "version": "2.7.13"
  }
 },
 "nbformat": 4,
 "nbformat_minor": 1
}
