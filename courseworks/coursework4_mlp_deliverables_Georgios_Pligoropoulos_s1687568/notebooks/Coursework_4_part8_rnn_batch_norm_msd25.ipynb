{
 "cells": [
  {
   "cell_type": "code",
   "execution_count": 1,
   "metadata": {
    "collapsed": true
   },
   "outputs": [],
   "source": [
    "from __future__ import division"
   ]
  },
  {
   "cell_type": "markdown",
   "metadata": {},
   "source": [
    "# KAGGLE ONLY PURPOSES"
   ]
  },
  {
   "cell_type": "markdown",
   "metadata": {},
   "source": [
    "2017\n",
    "\n",
    "Machine Learning Practical\n",
    "\n",
    "University of Edinburgh\n",
    "\n",
    "Georgios Pligoropoulos - s1687568\n",
    "\n",
    "Coursework 4 (part 8)"
   ]
  },
  {
   "cell_type": "markdown",
   "metadata": {},
   "source": [
    "### Imports, Inits, and helper functions"
   ]
  },
  {
   "cell_type": "code",
   "execution_count": 2,
   "metadata": {
    "collapsed": true
   },
   "outputs": [],
   "source": [
    "jupyterNotebookEnabled = True\n",
    "plotting = True\n",
    "coursework, part = 4, 8\n",
    "saving = True\n",
    "\n",
    "if jupyterNotebookEnabled:\n",
    "    #%load_ext autoreload\n",
    "    %reload_ext autoreload\n",
    "    %autoreload 2"
   ]
  },
  {
   "cell_type": "code",
   "execution_count": 3,
   "metadata": {
    "collapsed": true
   },
   "outputs": [],
   "source": [
    "import sys, os\n",
    "mlpdir = os.path.expanduser(\n",
    "    '~/pligor.george@gmail.com/msc_Artificial_Intelligence/mlp_Machine_Learning_Practical/mlpractical'\n",
    ")\n",
    "sys.path.append(mlpdir)"
   ]
  },
  {
   "cell_type": "code",
   "execution_count": 4,
   "metadata": {
    "collapsed": false
   },
   "outputs": [],
   "source": [
    "from collections import OrderedDict\n",
    "import skopt\n",
    "from mylibs.jupyter_notebook_helper import show_graph\n",
    "import datetime\n",
    "import os\n",
    "import time\n",
    "import tensorflow as tf\n",
    "import numpy as np\n",
    "from mlp.data_providers import MSD10GenreDataProvider, MSD25GenreDataProvider,\\\n",
    "    MSD10Genre_Autoencoder_DataProvider, MSD10Genre_StackedAutoEncoderDataProvider\n",
    "import matplotlib.pyplot as plt\n",
    "from mylibs.batch_norm import fully_connected_layer_with_batch_norm_and_l2\n",
    "from mylibs.stacked_autoencoder_pretrainer import \\\n",
    "    constructModelFromPretrainedByAutoEncoderStack,\\\n",
    "    buildGraphOfStackedAutoencoder, executeNonLinearAutoencoder\n",
    "    \n",
    "from mylibs.jupyter_notebook_helper import getRunTime, getTrainWriter, getValidWriter,\\\n",
    "    plotStats, initStats, gatherStats, renderStatsCollection\n",
    "    \n",
    "from mylibs.tf_helper import tfRMSE, tfMSE, fully_connected_layer\n",
    "    #trainEpoch, validateEpoch\n",
    "\n",
    "from mylibs.py_helper import merge_dicts\n",
    "\n",
    "from mylibs.dropout_helper import constructProbs\n",
    "\n",
    "from mylibs.batch_norm import batchNormWrapper_byExponentialMovingAvg,\\\n",
    "    fully_connected_layer_with_batch_norm\n",
    "    \n",
    "import pickle\n",
    "from skopt.plots import plot_convergence\n",
    "from mylibs.jupyter_notebook_helper import DynStats\n",
    "import operator\n",
    "from skopt.space.space import Integer, Categorical, Real\n",
    "from skopt import gp_minimize\n",
    "from rnn.rnn_batch_norm import RNNBatchNorm\n",
    "\n",
    "if jupyterNotebookEnabled:\n",
    "    %matplotlib inline"
   ]
  },
  {
   "cell_type": "code",
   "execution_count": 5,
   "metadata": {
    "collapsed": true
   },
   "outputs": [],
   "source": [
    "seed = 16011984\n",
    "rng = np.random.RandomState(seed=seed)\n",
    "\n",
    "config = tf.ConfigProto(log_device_placement=True, allow_soft_placement=True)\n",
    "config.gpu_options.allow_growth = True\n",
    "\n",
    "figcount = 0\n",
    "\n",
    "tensorboardLogdir = 'tf_cw%d_%d' % (coursework, part)\n",
    "\n",
    "curDtype = tf.float32\n",
    "\n",
    "reluBias = 0.1"
   ]
  },
  {
   "cell_type": "code",
   "execution_count": 6,
   "metadata": {
    "collapsed": true
   },
   "outputs": [],
   "source": [
    "batch_size = 50\n",
    "segmentCount = 120\n",
    "segmentLen = 25"
   ]
  },
  {
   "cell_type": "code",
   "execution_count": 7,
   "metadata": {
    "collapsed": true
   },
   "outputs": [],
   "source": [
    "best_params_filename = 'rnn_msd25_best_params.npy'\n",
    "stats_coll_filename = 'rnn_msd25_bay_opt_stats_coll.npy'\n",
    "res_gp_save_filename = 'rnn_msd25_res_gp.pickle'\n",
    "stats_final_run_filename = 'rnn_msd25_final_run_stats.npy'"
   ]
  },
  {
   "cell_type": "markdown",
   "metadata": {},
   "source": [
    "here the state size is equal to the number of classes because we have given to the last output all the responsibility.\n",
    "\n",
    "We are going to follow a repetitive process. For example if num_steps=6 then we break the 120 segments into 20 parts\n",
    "\n",
    "The output of each part will be the genre. We are comparing against the genre every little part "
   ]
  },
  {
   "cell_type": "markdown",
   "metadata": {},
   "source": [
    "### MSD 25 genre Bayesian Optimization"
   ]
  },
  {
   "cell_type": "code",
   "execution_count": 8,
   "metadata": {
    "collapsed": true
   },
   "outputs": [],
   "source": [
    "num_classes=25"
   ]
  },
  {
   "cell_type": "code",
   "execution_count": 9,
   "metadata": {
    "collapsed": false
   },
   "outputs": [
    {
     "name": "stdout",
     "output_type": "stream",
     "text": [
      "14\n"
     ]
    },
    {
     "data": {
      "text/plain": [
       "array([ 2,  3,  4,  5,  6,  8, 10, 12, 15, 20, 24, 30, 40, 60])"
      ]
     },
     "execution_count": 9,
     "metadata": {},
     "output_type": "execute_result"
    }
   ],
   "source": [
    "numLens = np.sort(np.unique([2, 3, 4, 5, 6, 8, 10, 12, 15, 20, 24, 30, 40, 60]))\n",
    "assert np.all( segmentCount % numLens == 0 )\n",
    "print len(numLens)\n",
    "numLens"
   ]
  },
  {
   "cell_type": "code",
   "execution_count": 10,
   "metadata": {
    "collapsed": false
   },
   "outputs": [],
   "source": [
    "rnnModel = RNNBatchNorm(batch_size=batch_size, rng=rng, dtype = curDtype, config=config,\n",
    "                      segment_count=segmentCount, segment_len= segmentLen, num_classes=num_classes)"
   ]
  },
  {
   "cell_type": "code",
   "execution_count": 11,
   "metadata": {
    "collapsed": true
   },
   "outputs": [],
   "source": [
    "#it cannot accept global variables for some unknown reason ...\n",
    "def objective(params): # Here we define the metric we want to minimise    \n",
    "    (state_size, num_steps, learning_rate) = params\n",
    "    \n",
    "    epochs = 20\n",
    "    \n",
    "    stats, keys = rnnModel.run_rnn(state_size = state_size, num_steps=num_steps, epochs = epochs, \n",
    "                                  learning_rate = learning_rate)\n",
    "    \n",
    "    #save everytime in case it crashes\n",
    "    filename = stats_coll_filename\n",
    "    statsCollection = np.load(filename)[()] if os.path.isfile(filename) else dict()\n",
    "    statsCollection[(state_size, num_steps, learning_rate)] = stats\n",
    "    np.save(filename, statsCollection)\n",
    "    \n",
    "    if plotting:\n",
    "        fig_1, ax_1, fig_2, ax_2 = plotStats(stats, keys)\n",
    "        plt.show()\n",
    "    \n",
    "    # We want to maximise validation accuracy, i.e. minimise minus validation accuracy\n",
    "    validAccs = stats[:, -1]\n",
    "    length10percent = max(len(validAccs) // 10, 1)\n",
    "    best10percent = np.sort(validAccs)[-length10percent:]\n",
    "    return -np.mean(best10percent)\n",
    "    #return -max(stats[:, -1])"
   ]
  },
  {
   "cell_type": "code",
   "execution_count": 12,
   "metadata": {
    "collapsed": true
   },
   "outputs": [],
   "source": [
    "#it cannot accept global variables for some unknown reason ...\n",
    "def objective_min_epochs(params): # Here we define the metric we want to minimise    \n",
    "    (state_size, num_steps, learning_rate) = params\n",
    "    \n",
    "    targetValidAcc = 0.23\n",
    "    maxEpochs = 20\n",
    "    \n",
    "    stats, metric = rnnModel.run_until(targetValidAcc = targetValidAcc, maxEpochs=maxEpochs,\n",
    "                                       learning_rate=learning_rate, num_steps=num_steps, state_size =state_size)\n",
    "\n",
    "    \n",
    "    #save everytime in case it crashes\n",
    "    filename = stats_coll_filename\n",
    "    statsCollection = np.load(filename)[()] if os.path.isfile(filename) else dict()\n",
    "    statsCollection[(state_size, num_steps, learning_rate)] = stats\n",
    "    np.save(filename, statsCollection)\n",
    "    \n",
    "    if plotting:\n",
    "        fig_1, ax_1, fig_2, ax_2 = plotStats(stats, DynStats.keys)\n",
    "        plt.show()\n",
    "    \n",
    "    # We want to minimize the amount of epochs required to reach 23% accuracy\n",
    "    return metric"
   ]
  },
  {
   "cell_type": "code",
   "execution_count": 13,
   "metadata": {
    "collapsed": true
   },
   "outputs": [],
   "source": [
    "stateSizeSpace = Integer(15, 1000)\n",
    "numStepSpace = Categorical(numLens)\n",
    "learningRateSpace = Real(1e-6, 1e-1, prior=\"log-uniform\")\n",
    "space  = [stateSizeSpace, numStepSpace, learningRateSpace]"
   ]
  },
  {
   "cell_type": "code",
   "execution_count": 14,
   "metadata": {
    "collapsed": false
   },
   "outputs": [
    {
     "name": "stdout",
     "output_type": "stream",
     "text": [
      "CPU times: user 0 ns, sys: 0 ns, total: 0 ns\n",
      "Wall time: 8.11 µs\n",
      "rnn steps: 5\n",
      "state size: 365\n",
      "End epoch 01 (145.071 secs): err(train)=2.40, acc(train)=0.28, err(valid)=3.12, acc(valid)=0.12, \n",
      "\n",
      "End epoch 02 (142.585 secs): err(train)=2.43, acc(train)=0.28, err(valid)=2.99, acc(valid)=0.13, \n",
      "\n",
      "End epoch 03 (143.226 secs): err(train)=2.43, acc(train)=0.27, err(valid)=3.04, acc(valid)=0.13, \n",
      "\n",
      "End epoch 04 (143.390 secs): err(train)=2.43, acc(train)=0.27, err(valid)=3.00, acc(valid)=0.14, \n",
      "\n",
      "End epoch 05 (143.212 secs): err(train)=2.43, acc(train)=0.27, err(valid)=2.95, acc(valid)=0.16, \n",
      "\n",
      "End epoch 06 (142.701 secs): err(train)=2.42, acc(train)=0.27, err(valid)=2.98, acc(valid)=0.14, \n",
      "\n",
      "End epoch 07 (143.875 secs): err(train)=2.43, acc(train)=0.27, err(valid)=2.94, acc(valid)=0.15, \n",
      "\n",
      "End epoch 08 (143.300 secs): err(train)=2.43, acc(train)=0.27, err(valid)=2.89, acc(valid)=0.16, \n",
      "\n",
      "End epoch 09 (142.943 secs): err(train)=2.43, acc(train)=0.26, err(valid)=2.88, acc(valid)=0.16, \n",
      "\n",
      "End epoch 10 (142.741 secs): err(train)=2.43, acc(train)=0.27, err(valid)=2.88, acc(valid)=0.15, \n",
      "\n",
      "End epoch 11 (143.185 secs): err(train)=2.43, acc(train)=0.27, err(valid)=2.98, acc(valid)=0.14, \n",
      "\n",
      "End epoch 12 (142.831 secs): err(train)=2.42, acc(train)=0.27, err(valid)=3.06, acc(valid)=0.13, \n",
      "\n",
      "End epoch 13 (143.303 secs): err(train)=2.43, acc(train)=0.27, err(valid)=3.00, acc(valid)=0.11, \n",
      "\n",
      "End epoch 14 (143.030 secs): err(train)=2.43, acc(train)=0.26, err(valid)=2.92, acc(valid)=0.15, \n",
      "\n",
      "End epoch 15 (143.291 secs): err(train)=2.44, acc(train)=0.26, err(valid)=2.87, acc(valid)=0.16, \n",
      "\n",
      "End epoch 16 (143.003 secs): err(train)=2.42, acc(train)=0.27, err(valid)=2.91, acc(valid)=0.16, \n",
      "\n",
      "End epoch 17 (143.314 secs): err(train)=2.43, acc(train)=0.27, err(valid)=2.91, acc(valid)=0.15, \n",
      "\n",
      "End epoch 18 (143.056 secs): err(train)=2.43, acc(train)=0.26, err(valid)=2.92, acc(valid)=0.16, \n",
      "\n",
      "End epoch 19 (143.403 secs): err(train)=2.43, acc(train)=0.26, err(valid)=2.86, acc(valid)=0.15, \n",
      "\n",
      "End epoch 20 (143.069 secs): err(train)=2.42, acc(train)=0.26, err(valid)=2.92, acc(valid)=0.17, \n",
      "\n"
     ]
    },
    {
     "ename": "NameError",
     "evalue": "global name 'keys' is not defined",
     "output_type": "error",
     "traceback": [
      "\u001b[0;31m---------------------------------------------------------------------------\u001b[0m",
      "\u001b[0;31mNameError\u001b[0m                                 Traceback (most recent call last)",
      "\u001b[0;32m<ipython-input-14-0d8a529766c6>\u001b[0m in \u001b[0;36m<module>\u001b[0;34m()\u001b[0m\n\u001b[1;32m     15\u001b[0m                 \u001b[0;31m#before we start modelling the optimised function with a GP Regression\u001b[0m\u001b[0;34m\u001b[0m\u001b[0;34m\u001b[0m\u001b[0m\n\u001b[1;32m     16\u001b[0m                 \u001b[0;31m#model, we want to try a few random choices for the hyper-parameters.\u001b[0m\u001b[0;34m\u001b[0m\u001b[0;34m\u001b[0m\u001b[0m\n\u001b[0;32m---> 17\u001b[0;31m             \u001b[0mkappa\u001b[0m\u001b[0;34m=\u001b[0m\u001b[0;36m1.9\u001b[0m \u001b[0;31m#trade-off between exploration vs. exploitation.\u001b[0m\u001b[0;34m\u001b[0m\u001b[0m\n\u001b[0m\u001b[1;32m     18\u001b[0m         )\n",
      "\u001b[0;32m/home/studenthp/anaconda2/envs/mlp/lib/python2.7/site-packages/skopt/optimizer/gp.pyc\u001b[0m in \u001b[0;36mgp_minimize\u001b[0;34m(func, dimensions, base_estimator, n_calls, n_random_starts, acq_func, acq_optimizer, x0, y0, random_state, verbose, callback, n_points, n_restarts_optimizer, xi, kappa, noise, n_jobs)\u001b[0m\n\u001b[1;32m    245\u001b[0m         \u001b[0mn_restarts_optimizer\u001b[0m\u001b[0;34m=\u001b[0m\u001b[0mn_restarts_optimizer\u001b[0m\u001b[0;34m,\u001b[0m\u001b[0;34m\u001b[0m\u001b[0m\n\u001b[1;32m    246\u001b[0m         \u001b[0mx0\u001b[0m\u001b[0;34m=\u001b[0m\u001b[0mx0\u001b[0m\u001b[0;34m,\u001b[0m \u001b[0my0\u001b[0m\u001b[0;34m=\u001b[0m\u001b[0my0\u001b[0m\u001b[0;34m,\u001b[0m \u001b[0mrandom_state\u001b[0m\u001b[0;34m=\u001b[0m\u001b[0mrandom_state\u001b[0m\u001b[0;34m,\u001b[0m \u001b[0mverbose\u001b[0m\u001b[0;34m=\u001b[0m\u001b[0mverbose\u001b[0m\u001b[0;34m,\u001b[0m\u001b[0;34m\u001b[0m\u001b[0m\n\u001b[0;32m--> 247\u001b[0;31m         callback=callback, n_jobs=n_jobs)\n\u001b[0m",
      "\u001b[0;32m/home/studenthp/anaconda2/envs/mlp/lib/python2.7/site-packages/skopt/optimizer/base.pyc\u001b[0m in \u001b[0;36mbase_minimize\u001b[0;34m(func, dimensions, base_estimator, n_calls, n_random_starts, acq_func, acq_optimizer, x0, y0, random_state, verbose, callback, n_points, n_restarts_optimizer, xi, kappa, n_jobs)\u001b[0m\n\u001b[1;32m    235\u001b[0m         \u001b[0;31m# no need to fit a model on the last iteration\u001b[0m\u001b[0;34m\u001b[0m\u001b[0;34m\u001b[0m\u001b[0m\n\u001b[1;32m    236\u001b[0m         \u001b[0mfit_model\u001b[0m \u001b[0;34m=\u001b[0m \u001b[0mn\u001b[0m \u001b[0;34m<\u001b[0m \u001b[0mn_iterations\u001b[0m \u001b[0;34m-\u001b[0m \u001b[0;36m1\u001b[0m\u001b[0;34m\u001b[0m\u001b[0m\n\u001b[0;32m--> 237\u001b[0;31m         \u001b[0mnext_y\u001b[0m \u001b[0;34m=\u001b[0m \u001b[0mfunc\u001b[0m\u001b[0;34m(\u001b[0m\u001b[0mnext_x\u001b[0m\u001b[0;34m)\u001b[0m\u001b[0;34m\u001b[0m\u001b[0m\n\u001b[0m\u001b[1;32m    238\u001b[0m         \u001b[0;32mif\u001b[0m \u001b[0;32mnot\u001b[0m \u001b[0mnp\u001b[0m\u001b[0;34m.\u001b[0m\u001b[0misscalar\u001b[0m\u001b[0;34m(\u001b[0m\u001b[0mnext_y\u001b[0m\u001b[0;34m)\u001b[0m\u001b[0;34m:\u001b[0m\u001b[0;34m\u001b[0m\u001b[0m\n\u001b[1;32m    239\u001b[0m             \u001b[0;32mraise\u001b[0m \u001b[0mValueError\u001b[0m\u001b[0;34m(\u001b[0m\u001b[0;34m\"`func` should return a scalar\"\u001b[0m\u001b[0;34m)\u001b[0m\u001b[0;34m\u001b[0m\u001b[0m\n",
      "\u001b[0;32m<ipython-input-12-6cc930dbe22e>\u001b[0m in \u001b[0;36mobjective_min_epochs\u001b[0;34m(params)\u001b[0m\n\u001b[1;32m     17\u001b[0m \u001b[0;34m\u001b[0m\u001b[0m\n\u001b[1;32m     18\u001b[0m     \u001b[0;32mif\u001b[0m \u001b[0mplotting\u001b[0m\u001b[0;34m:\u001b[0m\u001b[0;34m\u001b[0m\u001b[0m\n\u001b[0;32m---> 19\u001b[0;31m         \u001b[0mfig_1\u001b[0m\u001b[0;34m,\u001b[0m \u001b[0max_1\u001b[0m\u001b[0;34m,\u001b[0m \u001b[0mfig_2\u001b[0m\u001b[0;34m,\u001b[0m \u001b[0max_2\u001b[0m \u001b[0;34m=\u001b[0m \u001b[0mplotStats\u001b[0m\u001b[0;34m(\u001b[0m\u001b[0mstats\u001b[0m\u001b[0;34m,\u001b[0m \u001b[0mkeys\u001b[0m\u001b[0;34m)\u001b[0m\u001b[0;34m\u001b[0m\u001b[0m\n\u001b[0m\u001b[1;32m     20\u001b[0m         \u001b[0mplt\u001b[0m\u001b[0;34m.\u001b[0m\u001b[0mshow\u001b[0m\u001b[0;34m(\u001b[0m\u001b[0;34m)\u001b[0m\u001b[0;34m\u001b[0m\u001b[0m\n\u001b[1;32m     21\u001b[0m \u001b[0;34m\u001b[0m\u001b[0m\n",
      "\u001b[0;31mNameError\u001b[0m: global name 'keys' is not defined"
     ]
    }
   ],
   "source": [
    "if jupyterNotebookEnabled:\n",
    "    %%time\n",
    "\n",
    "if not os.path.isfile(best_params_filename):\n",
    "    if os.path.isfile(stats_coll_filename):\n",
    "        os.remove(stats_coll_filename)\n",
    "    \n",
    "    res_gp = gp_minimize(\n",
    "            func=objective_min_epochs, # function that we wish to minimise\n",
    "            dimensions=space, #the search space for the hyper-parameters\n",
    "            #x0=x0, #inital values for the hyper-parameters\n",
    "            n_calls=25, #number of times the function will be evaluated\n",
    "            random_state = seed, #random seed\n",
    "            n_random_starts=5,\n",
    "                #before we start modelling the optimised function with a GP Regression\n",
    "                #model, we want to try a few random choices for the hyper-parameters.\n",
    "            kappa=1.9 #trade-off between exploration vs. exploitation.\n",
    "        )"
   ]
  },
  {
   "cell_type": "code",
   "execution_count": 14,
   "metadata": {
    "collapsed": true
   },
   "outputs": [],
   "source": [
    "if os.path.isfile(best_params_filename):\n",
    "    best_params = np.load(best_params_filename)\n",
    "else:\n",
    "    np.save(best_params_filename, res_gp.x)\n",
    "    best_params = res_gp.x"
   ]
  },
  {
   "cell_type": "code",
   "execution_count": 15,
   "metadata": {
    "collapsed": true
   },
   "outputs": [],
   "source": [
    "if os.path.isfile(res_gp_save_filename):\n",
    "    with open(res_gp_save_filename) as f:  # Python 3: open(..., 'rb')\n",
    "        (res_gp, ) = pickle.load(f)\n",
    "else:\n",
    "    with open(res_gp_save_filename, 'w') as f:  # Python 3: open(..., 'wb')\n",
    "        pickle.dump([res_gp], f)"
   ]
  },
  {
   "cell_type": "code",
   "execution_count": 16,
   "metadata": {
    "collapsed": false
   },
   "outputs": [
    {
     "data": {
      "text/plain": [
       "array([  8.10000000e+01,   2.40000000e+01,   3.30622086e-04])"
      ]
     },
     "execution_count": 16,
     "metadata": {},
     "output_type": "execute_result"
    }
   ],
   "source": [
    "best_params"
   ]
  },
  {
   "cell_type": "markdown",
   "metadata": {},
   "source": [
    "### Bayesian Optimization Plots"
   ]
  },
  {
   "cell_type": "code",
   "execution_count": 17,
   "metadata": {
    "collapsed": false
   },
   "outputs": [
    {
     "data": {
      "image/png": "[encoded data removed]",
      "text/plain": [
       "<matplotlib.figure.Figure at 0x7f53f7570750>"
      ]
     },
     "metadata": {},
     "output_type": "display_data"
    }
   ],
   "source": [
    "if plotting:\n",
    "    fig = plt.figure(figsize=(12,6))\n",
    "    plot_convergence(res_gp)\n",
    "    plt.grid()\n",
    "    plt.show()\n",
    "    if saving:\n",
    "        fig.savefig('cw{}_part{}_fig_{}.svg'.format(coursework, part, \"convergence plot\"))"
   ]
  },
  {
   "cell_type": "code",
   "execution_count": 19,
   "metadata": {
    "collapsed": false
   },
   "outputs": [
    {
     "name": "stderr",
     "output_type": "stream",
     "text": [
      "/home/studenthp/anaconda2/envs/mlp/lib/python2.7/site-packages/ipykernel/__main__.py:3: MatplotlibDeprecationWarning: pyplot.hold is deprecated.\n",
      "    Future behavior will be consistent with the long-time default:\n",
      "    plot commands add elements without first clearing the\n",
      "    Axes and/or Figure.\n",
      "  app.launch_new_instance()\n",
      "/home/studenthp/anaconda2/envs/mlp/lib/python2.7/site-packages/ipykernel/__main__.py:9: MatplotlibDeprecationWarning: pyplot.hold is deprecated.\n",
      "    Future behavior will be consistent with the long-time default:\n",
      "    plot commands add elements without first clearing the\n",
      "    Axes and/or Figure.\n"
     ]
    },
    {
     "data": {
      "image/png": "[encoded data removed]",
      "text/plain": [
       "<matplotlib.figure.Figure at 0x7f53d1afbd90>"
      ]
     },
     "metadata": {},
     "output_type": "display_data"
    }
   ],
   "source": [
    "if plotting:\n",
    "    fig = plt.figure(figsize=(12,6))\n",
    "    plt.hold(True)\n",
    "    plt.plot(res_gp.func_vals)\n",
    "    plt.scatter(range(len(res_gp.func_vals)), res_gp.func_vals)\n",
    "    plt.ylabel(r'$f(x)$')\n",
    "    plt.xlabel('Number of calls $n$')\n",
    "    plt.xlim([0, len(res_gp.func_vals)])\n",
    "    plt.hold(False)\n",
    "    plt.show()\n",
    "    if saving:\n",
    "        fig.savefig('cw{}_part{}_fig_{}.svg'.format(coursework, part, \"objective_function\"))"
   ]
  },
  {
   "cell_type": "markdown",
   "metadata": {},
   "source": [
    "### Experiment with Best Parameters"
   ]
  },
  {
   "cell_type": "code",
   "execution_count": 8,
   "metadata": {
    "collapsed": false
   },
   "outputs": [
    {
     "data": {
      "text/plain": [
       "array([  8.10000000e+01,   2.40000000e+01,   3.30622086e-04])"
      ]
     },
     "execution_count": 8,
     "metadata": {},
     "output_type": "execute_result"
    }
   ],
   "source": [
    "best_params = np.load(best_params_filename)\n",
    "best_params"
   ]
  },
  {
   "cell_type": "code",
   "execution_count": 10,
   "metadata": {
    "collapsed": false
   },
   "outputs": [
    {
     "data": {
      "text/plain": [
       "(162, 12, 0.00033062208565916263)"
      ]
     },
     "execution_count": 10,
     "metadata": {},
     "output_type": "execute_result"
    }
   ],
   "source": [
    "(state_size, num_steps, learning_rate) = best_params\n",
    "state_size = int(state_size* 2) \n",
    "num_steps = int(num_steps / 2)\n",
    "(state_size, num_steps, learning_rate)"
   ]
  },
  {
   "cell_type": "code",
   "execution_count": 11,
   "metadata": {
    "collapsed": true
   },
   "outputs": [],
   "source": [
    "num_classes = 25"
   ]
  },
  {
   "cell_type": "code",
   "execution_count": 12,
   "metadata": {
    "collapsed": false
   },
   "outputs": [],
   "source": [
    "rnnModel = RNNBatchNorm(batch_size=batch_size, rng=rng, dtype = curDtype, config=config, num_classes=num_classes,\n",
    "                      segment_count=segmentCount, segment_len= segmentLen,)"
   ]
  },
  {
   "cell_type": "code",
   "execution_count": 13,
   "metadata": {
    "collapsed": false
   },
   "outputs": [
    {
     "name": "stdout",
     "output_type": "stream",
     "text": [
      "epochs: 100\n",
      "rnn steps: 12\n",
      "state size: 162\n",
      "data_provider is divided exactly by batch size\n",
      "End epoch 01 (90.108 secs): err(train)=2.78, acc(train)=0.17, err(valid)=2.77, acc(valid)=0.17, \n",
      "data_provider is divided exactly by batch size\n",
      "End epoch 02 (89.832 secs): err(train)=2.69, acc(train)=0.19, err(valid)=2.71, acc(valid)=0.18, \n",
      "data_provider is divided exactly by batch size\n",
      "End epoch 03 (90.020 secs): err(train)=2.66, acc(train)=0.20, err(valid)=2.70, acc(valid)=0.19, \n",
      "data_provider is divided exactly by batch size\n",
      "End epoch 04 (90.305 secs): err(train)=2.64, acc(train)=0.21, err(valid)=2.69, acc(valid)=0.20, \n",
      "data_provider is divided exactly by batch size\n",
      "End epoch 05 (90.302 secs): err(train)=2.61, acc(train)=0.22, err(valid)=2.66, acc(valid)=0.20, \n",
      "data_provider is divided exactly by batch size\n",
      "End epoch 06 (89.947 secs): err(train)=2.60, acc(train)=0.22, err(valid)=2.65, acc(valid)=0.21, \n",
      "End epoch 07 (90.308 secs): err(train)=2.58, acc(train)=0.22, err(valid)=2.66, acc(valid)=0.20, \n",
      "data_provider is divided exactly by batch size\n",
      "End epoch 08 (90.378 secs): err(train)=2.56, acc(train)=0.23, err(valid)=2.60, acc(valid)=0.22, \n",
      "data_provider is divided exactly by batch size\n",
      "End epoch 09 (90.004 secs): err(train)=2.54, acc(train)=0.23, err(valid)=2.58, acc(valid)=0.22, \n",
      "End epoch 10 (90.346 secs): err(train)=2.53, acc(train)=0.24, err(valid)=2.58, acc(valid)=0.22, \n",
      "End epoch 11 (89.930 secs): err(train)=2.52, acc(train)=0.24, err(valid)=2.57, acc(valid)=0.22, \n",
      "data_provider is divided exactly by batch size\n",
      "End epoch 12 (90.009 secs): err(train)=2.51, acc(train)=0.24, err(valid)=2.57, acc(valid)=0.22, \n",
      "data_provider is divided exactly by batch size\n",
      "End epoch 13 (90.410 secs): err(train)=2.49, acc(train)=0.25, err(valid)=2.56, acc(valid)=0.22, \n",
      "data_provider is divided exactly by batch size\n",
      "End epoch 14 (89.793 secs): err(train)=2.48, acc(train)=0.25, err(valid)=2.54, acc(valid)=0.23, \n",
      "data_provider is divided exactly by batch size\n",
      "End epoch 15 (90.121 secs): err(train)=2.48, acc(train)=0.25, err(valid)=2.53, acc(valid)=0.23, \n",
      "data_provider is divided exactly by batch size\n",
      "End epoch 16 (90.434 secs): err(train)=2.47, acc(train)=0.25, err(valid)=2.53, acc(valid)=0.23, \n",
      "End epoch 17 (90.166 secs): err(train)=2.46, acc(train)=0.25, err(valid)=2.53, acc(valid)=0.23, \n",
      "data_provider is divided exactly by batch size\n",
      "End epoch 18 (89.890 secs): err(train)=2.45, acc(train)=0.25, err(valid)=2.53, acc(valid)=0.23, \n",
      "data_provider is divided exactly by batch size\n",
      "End epoch 19 (89.988 secs): err(train)=2.45, acc(train)=0.26, err(valid)=2.50, acc(valid)=0.24, \n",
      "data_provider is divided exactly by batch size\n",
      "End epoch 20 (90.470 secs): err(train)=2.43, acc(train)=0.26, err(valid)=2.51, acc(valid)=0.24, \n",
      "End epoch 21 (90.641 secs): err(train)=2.43, acc(train)=0.26, err(valid)=2.52, acc(valid)=0.24, \n",
      "data_provider is divided exactly by batch size\n",
      "End epoch 22 (89.825 secs): err(train)=2.42, acc(train)=0.26, err(valid)=2.49, acc(valid)=0.24, \n",
      "data_provider is divided exactly by batch size\n",
      "End epoch 23 (90.296 secs): err(train)=2.42, acc(train)=0.26, err(valid)=2.48, acc(valid)=0.24, \n",
      "data_provider is divided exactly by batch size\n",
      "End epoch 24 (90.508 secs): err(train)=2.42, acc(train)=0.26, err(valid)=2.49, acc(valid)=0.24, \n",
      "data_provider is divided exactly by batch size\n",
      "End epoch 25 (90.334 secs): err(train)=2.41, acc(train)=0.27, err(valid)=2.48, acc(valid)=0.25, \n",
      "data_provider is divided exactly by batch size\n",
      "End epoch 26 (90.113 secs): err(train)=2.41, acc(train)=0.27, err(valid)=2.48, acc(valid)=0.25, \n",
      "data_provider is divided exactly by batch size\n",
      "End epoch 27 (90.432 secs): err(train)=2.40, acc(train)=0.27, err(valid)=2.49, acc(valid)=0.25, \n",
      "data_provider is divided exactly by batch size\n",
      "End epoch 28 (90.155 secs): err(train)=2.40, acc(train)=0.27, err(valid)=2.49, acc(valid)=0.25, \n",
      "data_provider is divided exactly by batch size\n",
      "End epoch 29 (87.197 secs): err(train)=2.39, acc(train)=0.27, err(valid)=2.48, acc(valid)=0.25, \n",
      "End epoch 30 (86.293 secs): err(train)=2.38, acc(train)=0.27, err(valid)=2.46, acc(valid)=0.25, \n",
      "End epoch 31 (85.947 secs): err(train)=2.38, acc(train)=0.28, err(valid)=2.47, acc(valid)=0.25, \n",
      "End epoch 32 (85.872 secs): err(train)=2.38, acc(train)=0.28, err(valid)=2.48, acc(valid)=0.25, \n",
      "data_provider is divided exactly by batch size\n",
      "End epoch 33 (86.238 secs): err(train)=2.38, acc(train)=0.28, err(valid)=2.45, acc(valid)=0.26, \n",
      "End epoch 34 (85.829 secs): err(train)=2.37, acc(train)=0.28, err(valid)=2.47, acc(valid)=0.25, \n",
      "End epoch 35 (85.958 secs): err(train)=2.37, acc(train)=0.28, err(valid)=2.44, acc(valid)=0.26, \n",
      "End epoch 36 (86.028 secs): err(train)=2.37, acc(train)=0.28, err(valid)=2.44, acc(valid)=0.26, \n",
      "End epoch 37 (85.914 secs): err(train)=2.36, acc(train)=0.28, err(valid)=2.47, acc(valid)=0.25, \n",
      "End epoch 38 (85.655 secs): err(train)=2.35, acc(train)=0.28, err(valid)=2.46, acc(valid)=0.25, \n",
      "End epoch 39 (86.146 secs): err(train)=2.35, acc(train)=0.28, err(valid)=2.46, acc(valid)=0.26, \n",
      "End epoch 40 (85.952 secs): err(train)=2.36, acc(train)=0.28, err(valid)=2.46, acc(valid)=0.25, \n",
      "End epoch 41 (86.151 secs): err(train)=2.34, acc(train)=0.28, err(valid)=2.45, acc(valid)=0.26, \n",
      "data_provider is divided exactly by batch size\n",
      "End epoch 42 (86.345 secs): err(train)=2.35, acc(train)=0.28, err(valid)=2.45, acc(valid)=0.26, \n",
      "End epoch 43 (86.531 secs): err(train)=2.34, acc(train)=0.29, err(valid)=2.47, acc(valid)=0.25, \n",
      "End epoch 44 (86.260 secs): err(train)=2.33, acc(train)=0.29, err(valid)=2.45, acc(valid)=0.26, \n",
      "End epoch 45 (87.623 secs): err(train)=2.33, acc(train)=0.29, err(valid)=2.47, acc(valid)=0.26, \n",
      "End epoch 46 (86.209 secs): err(train)=2.34, acc(train)=0.29, err(valid)=2.45, acc(valid)=0.26, \n",
      "End epoch 47 (87.143 secs): err(train)=2.33, acc(train)=0.29, err(valid)=2.45, acc(valid)=0.26, \n",
      "End epoch 48 (86.854 secs): err(train)=2.33, acc(train)=0.29, err(valid)=2.46, acc(valid)=0.26, \n",
      "End epoch 49 (85.919 secs): err(train)=2.33, acc(train)=0.29, err(valid)=2.44, acc(valid)=0.26, \n",
      "End epoch 50 (86.124 secs): err(train)=2.32, acc(train)=0.29, err(valid)=2.43, acc(valid)=0.26, \n",
      "End epoch 51 (86.073 secs): err(train)=2.32, acc(train)=0.29, err(valid)=2.44, acc(valid)=0.26, \n",
      "data_provider is divided exactly by batch size\n",
      "End epoch 52 (86.278 secs): err(train)=2.32, acc(train)=0.29, err(valid)=2.43, acc(valid)=0.27, \n",
      "End epoch 53 (86.008 secs): err(train)=2.31, acc(train)=0.29, err(valid)=2.43, acc(valid)=0.26, \n",
      "data_provider is divided exactly by batch size\n",
      "End epoch 54 (86.036 secs): err(train)=2.31, acc(train)=0.30, err(valid)=2.42, acc(valid)=0.27, \n",
      "End epoch 55 (86.440 secs): err(train)=2.31, acc(train)=0.29, err(valid)=2.43, acc(valid)=0.27, \n",
      "End epoch 56 (86.234 secs): err(train)=2.31, acc(train)=0.29, err(valid)=2.42, acc(valid)=0.27, \n",
      "End epoch 57 (86.116 secs): err(train)=2.30, acc(train)=0.30, err(valid)=2.44, acc(valid)=0.27, \n",
      "End epoch 58 (86.282 secs): err(train)=2.30, acc(train)=0.30, err(valid)=2.41, acc(valid)=0.26, \n",
      "data_provider is divided exactly by batch size\n",
      "End epoch 59 (85.936 secs): err(train)=2.30, acc(train)=0.30, err(valid)=2.42, acc(valid)=0.27, \n",
      "End epoch 60 (86.226 secs): err(train)=2.30, acc(train)=0.30, err(valid)=2.44, acc(valid)=0.26, \n",
      "data_provider is divided exactly by batch size\n",
      "End epoch 61 (86.444 secs): err(train)=2.30, acc(train)=0.30, err(valid)=2.41, acc(valid)=0.27, \n",
      "data_provider is divided exactly by batch size\n",
      "End epoch 62 (86.349 secs): err(train)=2.29, acc(train)=0.30, err(valid)=2.41, acc(valid)=0.27, \n",
      "End epoch 63 (86.215 secs): err(train)=2.29, acc(train)=0.30, err(valid)=2.42, acc(valid)=0.27, \n",
      "End epoch 64 (86.351 secs): err(train)=2.29, acc(train)=0.30, err(valid)=2.42, acc(valid)=0.27, \n",
      "End epoch 65 (85.997 secs): err(train)=2.29, acc(train)=0.30, err(valid)=2.41, acc(valid)=0.27, \n",
      "End epoch 66 (85.957 secs): err(train)=2.29, acc(train)=0.30, err(valid)=2.39, acc(valid)=0.27, \n",
      "End epoch 67 (87.060 secs): err(train)=2.28, acc(train)=0.30, err(valid)=2.41, acc(valid)=0.27, \n",
      "End epoch 68 (85.944 secs): err(train)=2.28, acc(train)=0.30, err(valid)=2.41, acc(valid)=0.27, \n",
      "data_provider is divided exactly by batch size\n",
      "End epoch 69 (85.938 secs): err(train)=2.28, acc(train)=0.30, err(valid)=2.39, acc(valid)=0.28, \n",
      "End epoch 70 (89.882 secs): err(train)=2.28, acc(train)=0.30, err(valid)=2.40, acc(valid)=0.28, \n",
      "End epoch 71 (86.504 secs): err(train)=2.27, acc(train)=0.30, err(valid)=2.41, acc(valid)=0.27, \n",
      "data_provider is divided exactly by batch size\n",
      "End epoch 72 (91.318 secs): err(train)=2.27, acc(train)=0.30, err(valid)=2.40, acc(valid)=0.28, \n",
      "End epoch 73 (86.826 secs): err(train)=2.27, acc(train)=0.31, err(valid)=2.41, acc(valid)=0.27, \n",
      "End epoch 74 (86.526 secs): err(train)=2.26, acc(train)=0.31, err(valid)=2.38, acc(valid)=0.28, \n",
      "End epoch 75 (86.449 secs): err(train)=2.27, acc(train)=0.31, err(valid)=2.41, acc(valid)=0.27, \n",
      "End epoch 76 (86.678 secs): err(train)=2.27, acc(train)=0.31, err(valid)=2.39, acc(valid)=0.28, \n",
      "End epoch 77 (86.877 secs): err(train)=2.27, acc(train)=0.31, err(valid)=2.40, acc(valid)=0.27, \n",
      "End epoch 78 (87.411 secs): err(train)=2.26, acc(train)=0.31, err(valid)=2.39, acc(valid)=0.28, \n",
      "End epoch 79 (86.901 secs): err(train)=2.26, acc(train)=0.31, err(valid)=2.39, acc(valid)=0.28, \n",
      "End epoch 80 (86.842 secs): err(train)=2.26, acc(train)=0.31, err(valid)=2.39, acc(valid)=0.28, \n",
      "End epoch 81 (86.056 secs): err(train)=2.26, acc(train)=0.31, err(valid)=2.39, acc(valid)=0.27, \n",
      "End epoch 82 (86.487 secs): err(train)=2.26, acc(train)=0.31, err(valid)=2.39, acc(valid)=0.28, \n",
      "End epoch 83 (86.613 secs): err(train)=2.26, acc(train)=0.31, err(valid)=2.40, acc(valid)=0.27, \n",
      "End epoch 84 (86.333 secs): err(train)=2.25, acc(train)=0.31, err(valid)=2.38, acc(valid)=0.27, \n",
      "End epoch 85 (86.587 secs): err(train)=2.25, acc(train)=0.31, err(valid)=2.38, acc(valid)=0.28, \n",
      "data_provider is divided exactly by batch size\n",
      "End epoch 86 (86.579 secs): err(train)=2.25, acc(train)=0.31, err(valid)=2.38, acc(valid)=0.28, \n",
      "End epoch 87 (86.425 secs): err(train)=2.25, acc(train)=0.31, err(valid)=2.40, acc(valid)=0.28, \n",
      "End epoch 88 (86.147 secs): err(train)=2.25, acc(train)=0.31, err(valid)=2.38, acc(valid)=0.28, \n",
      "End epoch 89 (86.622 secs): err(train)=2.24, acc(train)=0.31, err(valid)=2.40, acc(valid)=0.27, \n",
      "End epoch 90 (86.385 secs): err(train)=2.25, acc(train)=0.31, err(valid)=2.40, acc(valid)=0.27, \n",
      "End epoch 91 (86.466 secs): err(train)=2.24, acc(train)=0.31, err(valid)=2.40, acc(valid)=0.27, \n",
      "End epoch 92 (86.909 secs): err(train)=2.24, acc(train)=0.32, err(valid)=2.39, acc(valid)=0.28, \n",
      "data_provider is divided exactly by batch size\n",
      "End epoch 93 (86.571 secs): err(train)=2.24, acc(train)=0.31, err(valid)=2.38, acc(valid)=0.28, \n",
      "End epoch 94 (86.799 secs): err(train)=2.24, acc(train)=0.32, err(valid)=2.39, acc(valid)=0.28, \n",
      "data_provider is divided exactly by batch size\n",
      "End epoch 95 (86.726 secs): err(train)=2.23, acc(train)=0.32, err(valid)=2.40, acc(valid)=0.28, \n",
      "End epoch 96 (86.240 secs): err(train)=2.23, acc(train)=0.31, err(valid)=2.40, acc(valid)=0.28, \n",
      "End epoch 97 (86.323 secs): err(train)=2.23, acc(train)=0.31, err(valid)=2.38, acc(valid)=0.28, \n",
      "End epoch 98 (86.559 secs): err(train)=2.23, acc(train)=0.31, err(valid)=2.40, acc(valid)=0.27, \n",
      "End epoch 99 (86.302 secs): err(train)=2.23, acc(train)=0.32, err(valid)=2.38, acc(valid)=0.28, \n",
      "End epoch 100 (87.424 secs): err(train)=2.23, acc(train)=0.32, err(valid)=2.38, acc(valid)=0.28, \n",
      "\n"
     ]
    },
    {
     "name": "stderr",
     "output_type": "stream",
     "text": [
      "/home/studenthp/pligor.george@gmail.com/msc_Artificial_Intelligence/mlp_Machine_Learning_Practical/mlpractical/mylibs/jupyter_notebook_helper.py:74: MatplotlibDeprecationWarning: axes.hold is deprecated.\n",
      "    See the API Changes document (http://matplotlib.org/api/api_changes.html)\n",
      "    for more details.\n",
      "  ax_1.hold(True)\n",
      "/home/studenthp/pligor.george@gmail.com/msc_Artificial_Intelligence/mlp_Machine_Learning_Practical/mlpractical/mylibs/jupyter_notebook_helper.py:78: MatplotlibDeprecationWarning: axes.hold is deprecated.\n",
      "    See the API Changes document (http://matplotlib.org/api/api_changes.html)\n",
      "    for more details.\n",
      "  ax_1.hold(False)\n",
      "/home/studenthp/pligor.george@gmail.com/msc_Artificial_Intelligence/mlp_Machine_Learning_Practical/mlpractical/mylibs/jupyter_notebook_helper.py:87: MatplotlibDeprecationWarning: axes.hold is deprecated.\n",
      "    See the API Changes document (http://matplotlib.org/api/api_changes.html)\n",
      "    for more details.\n",
      "  ax_2.hold(True)\n",
      "/home/studenthp/pligor.george@gmail.com/msc_Artificial_Intelligence/mlp_Machine_Learning_Practical/mlpractical/mylibs/jupyter_notebook_helper.py:91: MatplotlibDeprecationWarning: axes.hold is deprecated.\n",
      "    See the API Changes document (http://matplotlib.org/api/api_changes.html)\n",
      "    for more details.\n",
      "  ax_2.hold(False)\n"
     ]
    },
    {
     "data": {
      "image/png": "[encoded data removed]",
      "text/plain": [
       "<matplotlib.figure.Figure at 0x7fbbb7d6f4d0>"
      ]
     },
     "metadata": {},
     "output_type": "display_data"
    },
    {
     "data": {
      "image/png": "[encoded data removed]",
      "text/plain": [
       "<matplotlib.figure.Figure at 0x7fbbadba7050>"
      ]
     },
     "metadata": {},
     "output_type": "display_data"
    },
    {
     "name": "stdout",
     "output_type": "stream",
     "text": [
      "0.283499991074\n",
      "CPU times: user 3h 9min 36s, sys: 6min 36s, total: 3h 16min 12s\n",
      "Wall time: 2h 46min 3s\n"
     ]
    }
   ],
   "source": [
    "%%time\n",
    "\n",
    "epochs = 100\n",
    "\n",
    "stats, keys = rnnModel.run_rnn(state_size = state_size, num_steps=num_steps,\n",
    "                               learning_rate = learning_rate,\n",
    "                               epochs = epochs, kaggleEnabled = True)\n",
    "\n",
    "if plotting:\n",
    "    fig_1, ax_1, fig_2, ax_2 = plotStats(stats, keys)\n",
    "    plt.show()\n",
    "    if saving:\n",
    "        fig_1.savefig('cw%d_part%d_fig_error.svg' % (coursework, part))\n",
    "        fig_2.savefig('cw%d_part%d_fig_valid.svg' % (coursework, part))\n",
    "        np.save(stats_final_run_filename, stats)\n",
    "\n",
    "print max(stats[:, -1]) #maximum validation accuracy"
   ]
  },
  {
   "cell_type": "code",
   "execution_count": null,
   "metadata": {
    "collapsed": true
   },
   "outputs": [],
   "source": []
  }
 ],
 "metadata": {
  "anaconda-cloud": {},
  "kernelspec": {
   "display_name": "Python 2",
   "language": "python",
   "name": "python2"
  },
  "language_info": {
   "codemirror_mode": {
    "name": "ipython",
    "version": 2
   },
   "file_extension": ".py",
   "mimetype": "text/x-python",
   "name": "python",
   "nbconvert_exporter": "python",
   "pygments_lexer": "ipython2",
   "version": "2.7.13"
  }
 },
 "nbformat": 4,
 "nbformat_minor": 1
}
