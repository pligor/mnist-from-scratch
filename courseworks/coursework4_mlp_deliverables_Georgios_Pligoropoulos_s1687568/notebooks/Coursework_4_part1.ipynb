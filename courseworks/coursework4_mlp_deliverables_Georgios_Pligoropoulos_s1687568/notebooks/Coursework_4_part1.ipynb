{
 "cells": [
  {
   "cell_type": "markdown",
   "metadata": {},
   "source": [
    "2017\n",
    "\n",
    "Machine Learning Practical\n",
    "\n",
    "University of Edinburgh\n",
    "\n",
    "Georgios Pligoropoulos - s1687568\n",
    "\n",
    "Coursework 4 (part 1)"
   ]
  },
  {
   "cell_type": "markdown",
   "metadata": {},
   "source": [
    "## Baseline Architecture for coursework 4\n",
    "\n",
    "### Imports, Inits, and helper functions"
   ]
  },
  {
   "cell_type": "code",
   "execution_count": 1,
   "metadata": {
    "collapsed": true
   },
   "outputs": [],
   "source": [
    "import sys\n",
    "mlpdir = '/home/studenthp/pligor.george@gmail.com/msc_Artificial_Intelligence/mlp_Machine_Learning_Practical/mlpractical'\n",
    "sys.path.append(mlpdir)"
   ]
  },
  {
   "cell_type": "code",
   "execution_count": 2,
   "metadata": {
    "collapsed": true
   },
   "outputs": [],
   "source": [
    "jupyterNotebookEnabled = True\n",
    "plotting = True\n",
    "\n",
    "if jupyterNotebookEnabled:\n",
    "    %matplotlib inline"
   ]
  },
  {
   "cell_type": "code",
   "execution_count": 3,
   "metadata": {
    "collapsed": false
   },
   "outputs": [],
   "source": [
    "import pickle\n",
    "import skopt\n",
    "from skopt.plots import plot_convergence\n",
    "from mylibs.jupyter_notebook_helper import show_graph\n",
    "import datetime\n",
    "import os\n",
    "import time\n",
    "import tensorflow as tf\n",
    "import numpy as np\n",
    "from mlp.data_providers import MSD10GenreDataProvider, MSD25GenreDataProvider,\\\n",
    "    MSD10Genre_Autoencoder_DataProvider, MSD10Genre_StackedAutoEncoderDataProvider\n",
    "import matplotlib.pyplot as plt\n",
    "\n",
    "from mylibs.batch_norm import fully_connected_layer_with_batch_norm_and_l2\n",
    "from mylibs.stacked_autoencoder_pretrainer import \\\n",
    "    constructModelFromPretrainedByAutoEncoderStack,\\\n",
    "    buildGraphOfStackedAutoencoder, executeNonLinearAutoencoder\n",
    "    \n",
    "from mylibs.jupyter_notebook_helper import getRunTime, getTrainWriter, getValidWriter,\\\n",
    "    plotStats, initStats, gatherStats\n",
    "    \n",
    "from mylibs.tf_helper import tfRMSE, tfMSE, fully_connected_layer, trainEpoch, validateEpoch\n",
    "\n",
    "from mylibs.py_helper import merge_dicts\n",
    "\n",
    "from mylibs.batch_norm import batchNormWrapper_byExponentialMovingAvg,\\\n",
    "    fully_connected_layer_with_batch_norm\n",
    "    \n",
    "from mylibs.dropout_helper import constructProbs\n",
    "\n",
    "from skopt.space.space import Real\n",
    "from skopt import gp_minimize"
   ]
  },
  {
   "cell_type": "code",
   "execution_count": 4,
   "metadata": {
    "collapsed": true
   },
   "outputs": [],
   "source": [
    "coursework, part = 4, 1\n",
    "saving = True"
   ]
  },
  {
   "cell_type": "code",
   "execution_count": 5,
   "metadata": {
    "collapsed": true
   },
   "outputs": [],
   "source": [
    "seed = 16011984\n",
    "rng = np.random.RandomState(seed=seed)"
   ]
  },
  {
   "cell_type": "code",
   "execution_count": 6,
   "metadata": {
    "collapsed": true
   },
   "outputs": [],
   "source": [
    "config = tf.ConfigProto(log_device_placement=True, allow_soft_placement=True)\n",
    "config.gpu_options.allow_growth = True"
   ]
  },
  {
   "cell_type": "code",
   "execution_count": 7,
   "metadata": {
    "collapsed": true
   },
   "outputs": [],
   "source": [
    "figcount = 0"
   ]
  },
  {
   "cell_type": "code",
   "execution_count": 8,
   "metadata": {
    "collapsed": true
   },
   "outputs": [],
   "source": [
    "tensorboardLogdir = 'tf_cw%d_%d' % (coursework, part)"
   ]
  },
  {
   "cell_type": "code",
   "execution_count": 9,
   "metadata": {
    "collapsed": true
   },
   "outputs": [],
   "source": [
    "curDtype = tf.float32"
   ]
  },
  {
   "cell_type": "code",
   "execution_count": 10,
   "metadata": {
    "collapsed": true
   },
   "outputs": [],
   "source": [
    "reluBias = 0.1"
   ]
  },
  {
   "cell_type": "markdown",
   "metadata": {},
   "source": [
    "### Pretraining if necessary"
   ]
  },
  {
   "cell_type": "code",
   "execution_count": 11,
   "metadata": {
    "collapsed": false
   },
   "outputs": [
    {
     "data": {
      "text/plain": [
       "array([500, 500,  25,  10])"
      ]
     },
     "execution_count": 11,
     "metadata": {},
     "output_type": "execute_result"
    }
   ],
   "source": [
    "hidden_dims = np.array([500, 500, 25, 10]).astype(int)\n",
    "hidden_dims"
   ]
  },
  {
   "cell_type": "code",
   "execution_count": 12,
   "metadata": {
    "collapsed": false
   },
   "outputs": [],
   "source": [
    "pretrainedModelVarsFilename = 'pretrainedModelVars_base_model_cw4.npz'\n",
    "\n",
    "if os.path.isfile(pretrainedModelVarsFilename):\n",
    "    modelVars = np.load(pretrainedModelVarsFilename)\n",
    "    modelVars = modelVars[modelVars.keys()[0]]\n",
    "    \n",
    "else:\n",
    "    modelVars = constructModelFromPretrainedByAutoEncoderStack(hidden_dims,\n",
    "                                                               autoencoder= executeNonLinearAutoencoder,\n",
    "                                                               rng=rng,\n",
    "                                                               config=config,\n",
    "                                                               dataProviderClass= MSD10Genre_StackedAutoEncoderDataProvider)\n",
    "    np.savez(pretrainedModelVarsFilename, modelVars)"
   ]
  },
  {
   "cell_type": "markdown",
   "metadata": {},
   "source": [
    "### MSD 10 genre task"
   ]
  },
  {
   "cell_type": "code",
   "execution_count": 13,
   "metadata": {
    "collapsed": false
   },
   "outputs": [],
   "source": [
    "train_data = MSD10GenreDataProvider('train', batch_size=50, rng=rng) #((50, 3000), (50, 10))\n",
    "valid_data = MSD10GenreDataProvider('valid', batch_size=50, rng=rng)"
   ]
  },
  {
   "cell_type": "code",
   "execution_count": 14,
   "metadata": {
    "collapsed": false
   },
   "outputs": [],
   "source": [
    "#tf.reset_default_graph() #kind of redundant statement\n",
    "isPretrained = True\n",
    "learningRate = 1e-4 #default of Adam is 1e-3\n",
    "#learningRate = 1e-3 #default of Adam is 1e-3\n",
    "#momentum = 0.5\n",
    "lamda2 = 1e-2\n",
    "\n",
    "graph = tf.Graph() #create new graph\n",
    "\n",
    "hidden_layers = []\n",
    "regularizers = []\n",
    "keep_probs = []\n",
    "\n",
    "with graph.as_default():\n",
    "    with tf.name_scope('data'):\n",
    "        inputs = tf.placeholder(curDtype, [None, train_data.inputs.shape[1]], 'inputs')\n",
    "        targets = tf.placeholder(curDtype, [None, train_data.num_classes], 'targets')\n",
    "    \n",
    "    with tf.name_scope('params'):\n",
    "        training = tf.placeholder(tf.bool, name=\"training\")\n",
    "        \n",
    "    with tf.name_scope(\"dropout0\"):\n",
    "        keep_probs.append(tf.placeholder(tf.float32))\n",
    "        inputs_prob = tf.nn.dropout(inputs, keep_probs[0])\n",
    "    \n",
    "    with tf.name_scope('fullyConnected0'):\n",
    "        curLayer, curRegularizer = fully_connected_layer_with_batch_norm_and_l2(\n",
    "            0, inputs_prob,\n",
    "            train_data.inputs.shape[1], hidden_dims[0],\n",
    "            nonlinearity= tf.nn.tanh,\n",
    "            w = modelVars[0][0] if isPretrained else None,\n",
    "            b = modelVars[0][1] if isPretrained else None,\n",
    "            training=training,\n",
    "            lamda2 = lamda2\n",
    "        )\n",
    "        \n",
    "        hidden_layers.append(curLayer)\n",
    "        regularizers.append(curRegularizer)\n",
    "    \n",
    "    \n",
    "    for i in range(1, len(hidden_dims)-1):\n",
    "        with tf.name_scope(\"dropout%d\" % i):\n",
    "            keep_probs.append(tf.placeholder(tf.float32))\n",
    "            cur_hidden_layer_prob = tf.nn.dropout(hidden_layers[i-1], keep_probs[i])\n",
    "        \n",
    "        with tf.name_scope('fullyConnected%d' % i):\n",
    "            curLayer, curRegularizer = fully_connected_layer_with_batch_norm_and_l2(i,\n",
    "                                  cur_hidden_layer_prob,\n",
    "                                  hidden_dims[i-1], hidden_dims[i],\n",
    "                                  nonlinearity = tf.nn.tanh,\n",
    "                                  w = modelVars[i][0] if isPretrained else None,\n",
    "                                  b = modelVars[i][1] if isPretrained else None,\n",
    "                                  training = training,\n",
    "                                  lamda2 = lamda2)\n",
    "            \n",
    "            hidden_layers.append(curLayer)\n",
    "            regularizers.append(curRegularizer)\n",
    "\n",
    "    \n",
    "    finalIndex = len(hidden_dims)-1\n",
    "    \n",
    "    with tf.name_scope(\"dropout%d\" % finalIndex):\n",
    "        keep_probs.append(tf.placeholder(tf.float32))\n",
    "        final_hidden_layer_prob = tf.nn.dropout(hidden_layers[finalIndex-1], keep_probs[finalIndex])\n",
    "\n",
    "    with tf.name_scope('readout_output_layer'):\n",
    "        outputs, curRegularizer = fully_connected_layer_with_batch_norm_and_l2(finalIndex,\n",
    "            final_hidden_layer_prob,\n",
    "            hidden_dims[finalIndex-1], train_data.num_classes,\n",
    "            training=training,\n",
    "            nonlinearity=tf.identity,\n",
    "            w = modelVars[finalIndex][0] if isPretrained else None,\n",
    "            b = modelVars[finalIndex][1] if isPretrained else None,\n",
    "            lamda2 = lamda2\n",
    "        )\n",
    "\n",
    "        regularizers.append(curRegularizer)\n",
    "\n",
    "    with tf.name_scope('error'):\n",
    "        error = tf.reduce_mean(tf.nn.softmax_cross_entropy_with_logits(outputs, targets))\n",
    "        \n",
    "        for reg in regularizers:\n",
    "            error += reg\n",
    "\n",
    "    with tf.name_scope('accuracy'):\n",
    "        accuracy = tf.reduce_mean(tf.cast(tf.equal(tf.argmax(outputs, 1),\n",
    "                                                   tf.argmax(targets, 1)), dtype=curDtype))\n",
    "\n",
    "    with tf.name_scope('train'):\n",
    "        train_step = tf.train.AdamOptimizer(learning_rate=learningRate).minimize(error)\n",
    "#         train_step = tf.train.RMSPropOptimizer(\n",
    "#             learning_rate=learningRate,\n",
    "#             momentum=momentum\n",
    "#         ).minimize(error)\n",
    "\n",
    "    init = tf.global_variables_initializer()\n",
    "    \n",
    "if not isPretrained: #sorry it crashes otherwise\n",
    "    show_graph(graph)"
   ]
  },
  {
   "cell_type": "code",
   "execution_count": 15,
   "metadata": {
    "collapsed": false
   },
   "outputs": [],
   "source": [
    "def trainAndValidate(input_keep_prob=0.9, hidden_keep_prob=0.7, epochs=35, verbose=True):\n",
    "    if verbose:\n",
    "        print \"epochs: %d\" % epochs\n",
    "        print \"input_keep_prob: %f\" % input_keep_prob\n",
    "        print \"hidden_keep_prob: %f\" % hidden_keep_prob\n",
    "    \n",
    "    keep_prob_dict = constructProbs(keep_probs,\n",
    "                                    cur_input_prob=input_keep_prob,\n",
    "                                    cur_hidden_prob=hidden_keep_prob)\n",
    "\n",
    "    with tf.Session(graph=graph, config=config) as sess:\n",
    "        sess.run(init)\n",
    "\n",
    "        stats, keys = initStats(epochs)\n",
    "\n",
    "        for e in range(epochs):\n",
    "            (train_error, train_accuracy), runTime = getRunTime(lambda _ = None: \n",
    "                    trainEpoch(\n",
    "                        inputs, targets, sess, train_data, train_step, error, accuracy,\n",
    "                        extraFeedDict = merge_dicts(keep_prob_dict, {training: True})\n",
    "                )\n",
    "            )\n",
    "\n",
    "            #print 'End epoch %02d (%.3f secs): err(train)=%.2f acc(train)=%.2f' % (e+1, runTime, train_error,train_accuracy)\n",
    "\n",
    "            if (e + 1) % 1 == 0:\n",
    "                valid_error, valid_accuracy = validateEpoch(\n",
    "                    inputs, targets, sess, valid_data, error, accuracy,\n",
    "                    extraFeedDict = {training: False}, keep_prob_keys=keep_probs\n",
    "                )\n",
    "\n",
    "                #print((' ' * 27) + 'err(valid)={0:.2f} acc(valid)={1:.2f}'.format(valid_error, valid_accuracy))\n",
    "\n",
    "            if verbose:\n",
    "                print 'End epoch %02d (%.3f secs): err(train)=%.2f, acc(train)=%.2f, err(valid)=%.2f, acc(valid)=%.2f, ' %\\\n",
    "                    (e+1, runTime, train_error, train_accuracy, valid_error, valid_accuracy)\n",
    "\n",
    "            stats = gatherStats(e, train_error, train_accuracy,\n",
    "                                valid_error, valid_accuracy, stats)\n",
    "    print\n",
    "    \n",
    "    return stats, keys"
   ]
  },
  {
   "cell_type": "code",
   "execution_count": 16,
   "metadata": {
    "collapsed": false
   },
   "outputs": [],
   "source": [
    "def objective(params): # Here we define the metric we want to minimise\n",
    "    input_keep_prob, hidden_keep_prob = params\n",
    "    \n",
    "    stats, keys = trainAndValidate(input_keep_prob=input_keep_prob, epochs=35,\n",
    "                                   hidden_keep_prob=hidden_keep_prob)\n",
    "    \n",
    "    if plotting:\n",
    "        fig_1, ax_1, fig_2, ax_2 = plotStats(stats, keys)\n",
    "    \n",
    "    # We want to maximise validation accuracy, i.e. minimise minus validation accuracy\n",
    "    return -max(stats[:, -1])"
   ]
  },
  {
   "cell_type": "code",
   "execution_count": 17,
   "metadata": {
    "collapsed": true
   },
   "outputs": [],
   "source": [
    "inputKeepProbSpace = Real(0.7, 1.0, \"uniform\")\n",
    "hiddenKeepProbSpace = Real(0.4, 1.0, \"uniform\")\n",
    "space  = [inputKeepProbSpace, hiddenKeepProbSpace]"
   ]
  },
  {
   "cell_type": "code",
   "execution_count": 18,
   "metadata": {
    "collapsed": true
   },
   "outputs": [],
   "source": [
    "res_gp_save_filename = 'res_gp_base_classifier.pickle'"
   ]
  },
  {
   "cell_type": "code",
   "execution_count": 19,
   "metadata": {
    "collapsed": false
   },
   "outputs": [
    {
     "name": "stdout",
     "output_type": "stream",
     "text": [
      "CPU times: user 0 ns, sys: 0 ns, total: 0 ns\n",
      "Wall time: 5.01 µs\n"
     ]
    }
   ],
   "source": [
    "if jupyterNotebookEnabled:\n",
    "    %%time\n",
    "\n",
    "#this might crash so you need to run it outside as a python file (file -> save as python)\n",
    "if not os.path.isfile(res_gp_save_filename):\n",
    "    res_gp = gp_minimize(\n",
    "        func=objective, # function that we wish to minimise\n",
    "        dimensions=space, #the search space for the hyper-parameters\n",
    "        #x0=x0, #inital values for the hyper-parameters\n",
    "        n_calls=25, #number of times the function will be evaluated\n",
    "        random_state = seed, #random seed\n",
    "        n_random_starts=5,\n",
    "            #before we start modelling the optimised function with a GP Regression\n",
    "            #model, we want to try a few random choices for the hyper-parameters.\n",
    "        kappa=1.9 #trade-off between exploration vs. exploitation.\n",
    "    )"
   ]
  },
  {
   "cell_type": "code",
   "execution_count": 20,
   "metadata": {
    "collapsed": true
   },
   "outputs": [],
   "source": [
    "#http://stackoverflow.com/questions/6568007/how-do-i-save-and-restore-multiple-variables-in-python\n",
    "if os.path.isfile(res_gp_save_filename):\n",
    "    with open(res_gp_save_filename) as f:  # Python 3: open(..., 'rb')\n",
    "        (res_gp, ) = pickle.load(f)\n",
    "else:\n",
    "    with open(res_gp_save_filename, 'w') as f:  # Python 3: open(..., 'wb')\n",
    "        pickle.dump([res_gp], f)"
   ]
  },
  {
   "cell_type": "code",
   "execution_count": 21,
   "metadata": {
    "collapsed": false
   },
   "outputs": [],
   "source": [
    "best_probs_base_classifier_filename = 'best_probs_base_classifier.npy'\n",
    "if os.path.isfile(res_gp_save_filename):\n",
    "    assert os.path.isfile(best_probs_base_classifier_filename)\n",
    "    best_probs_base_classifier = np.load(best_probs_base_classifier_filename)\n",
    "else:\n",
    "    np.save(best_probs_base_classifier_filename, res_gp.x)\n",
    "    best_probs_base_classifier = res_gp.x"
   ]
  },
  {
   "cell_type": "code",
   "execution_count": 22,
   "metadata": {
    "collapsed": false
   },
   "outputs": [
    {
     "name": "stdout",
     "output_type": "stream",
     "text": [
      "Best score with Bayesian optimisation: 0.499\n",
      "\n",
      "Best parameters with Bayesian optimisation:\n"
     ]
    },
    {
     "data": {
      "text/plain": [
       "[0.69999999999999996, 0.83712465744447184]"
      ]
     },
     "execution_count": 22,
     "metadata": {},
     "output_type": "execute_result"
    }
   ],
   "source": [
    "print \"Best score with Bayesian optimisation: {:.3f}\".format(-res_gp.fun)\n",
    "print\n",
    "print \"Best parameters with Bayesian optimisation:\"\n",
    "res_gp.x"
   ]
  },
  {
   "cell_type": "code",
   "execution_count": 23,
   "metadata": {
    "collapsed": false
   },
   "outputs": [
    {
     "data": {
      "text/plain": [
       "array([ 0.7       ,  0.83712466])"
      ]
     },
     "execution_count": 23,
     "metadata": {},
     "output_type": "execute_result"
    }
   ],
   "source": [
    "best_probs_base_classifier"
   ]
  },
  {
   "cell_type": "code",
   "execution_count": 24,
   "metadata": {
    "collapsed": false
   },
   "outputs": [
    {
     "data": {
      "image/png": "[encoded data removed]",
      "text/plain": [
       "<matplotlib.figure.Figure at 0x7f09cb180790>"
      ]
     },
     "metadata": {},
     "output_type": "display_data"
    }
   ],
   "source": [
    "if plotting:\n",
    "    fig = plt.figure(figsize=(12,6))\n",
    "    plot_convergence(res_gp)\n",
    "    plt.grid()\n",
    "    plt.show()\n",
    "    if saving:\n",
    "        fig.savefig('cw%d_part%d_%02d_fig.svg' % (coursework, part, figcount))\n",
    "        figcount += 1"
   ]
  },
  {
   "cell_type": "code",
   "execution_count": 25,
   "metadata": {
    "collapsed": false
   },
   "outputs": [
    {
     "data": {
      "image/png": "[encoded data removed]",
      "text/plain": [
       "<matplotlib.figure.Figure at 0x7f09c8fb6590>"
      ]
     },
     "metadata": {},
     "output_type": "display_data"
    }
   ],
   "source": [
    "if plotting:\n",
    "    fig = plt.figure(figsize=(12,6))\n",
    "    plt.plot(res_gp.func_vals)\n",
    "    plt.scatter(range(len(res_gp.func_vals)), res_gp.func_vals)\n",
    "    plt.ylabel(r'$f(x)$')\n",
    "    plt.xlabel('Number of calls $n$')\n",
    "    plt.xlim([0, len(res_gp.func_vals)])\n",
    "    plt.show()\n",
    "    if saving:\n",
    "        fig.savefig('cw%d_part%d_%02d_fig.svg' % (coursework, part, figcount))\n",
    "        figcount += 1"
   ]
  },
  {
   "cell_type": "code",
   "execution_count": 26,
   "metadata": {
    "collapsed": false
   },
   "outputs": [
    {
     "name": "stdout",
     "output_type": "stream",
     "text": [
      "[ 0.7         0.83712466]\n",
      "epochs: 100\n",
      "input_keep_prob: 0.700000\n",
      "hidden_keep_prob: 0.837125\n",
      "End epoch 01 (18.819 secs): err(train)=7.67, acc(train)=0.34, err(valid)=5.51, acc(valid)=0.43, \n",
      "End epoch 02 (16.988 secs): err(train)=4.34, acc(train)=0.41, err(valid)=3.44, acc(valid)=0.44, \n",
      "End epoch 03 (17.163 secs): err(train)=2.99, acc(train)=0.43, err(valid)=2.61, acc(valid)=0.44, \n",
      "End epoch 04 (17.069 secs): err(train)=2.40, acc(train)=0.44, err(valid)=2.24, acc(valid)=0.44, \n",
      "End epoch 05 (16.965 secs): err(train)=2.11, acc(train)=0.46, err(valid)=2.05, acc(valid)=0.45, \n",
      "End epoch 06 (16.972 secs): err(train)=1.95, acc(train)=0.46, err(valid)=1.93, acc(valid)=0.45, \n",
      "End epoch 07 (16.956 secs): err(train)=1.86, acc(train)=0.47, err(valid)=1.87, acc(valid)=0.45, \n",
      "End epoch 08 (16.958 secs): err(train)=1.80, acc(train)=0.47, err(valid)=1.83, acc(valid)=0.45, \n",
      "End epoch 09 (16.948 secs): err(train)=1.75, acc(train)=0.48, err(valid)=1.81, acc(valid)=0.45, \n",
      "End epoch 10 (16.948 secs): err(train)=1.73, acc(train)=0.49, err(valid)=1.77, acc(valid)=0.46, \n",
      "End epoch 11 (17.035 secs): err(train)=1.70, acc(train)=0.49, err(valid)=1.77, acc(valid)=0.46, \n",
      "End epoch 12 (16.985 secs): err(train)=1.69, acc(train)=0.50, err(valid)=1.75, acc(valid)=0.47, \n",
      "End epoch 13 (16.938 secs): err(train)=1.67, acc(train)=0.50, err(valid)=1.73, acc(valid)=0.47, \n",
      "End epoch 14 (17.011 secs): err(train)=1.65, acc(train)=0.51, err(valid)=1.75, acc(valid)=0.47, \n",
      "End epoch 15 (16.980 secs): err(train)=1.64, acc(train)=0.51, err(valid)=1.73, acc(valid)=0.48, \n",
      "End epoch 16 (16.952 secs): err(train)=1.63, acc(train)=0.52, err(valid)=1.73, acc(valid)=0.47, \n",
      "End epoch 17 (16.990 secs): err(train)=1.62, acc(train)=0.52, err(valid)=1.73, acc(valid)=0.47, \n",
      "End epoch 18 (16.911 secs): err(train)=1.61, acc(train)=0.52, err(valid)=1.74, acc(valid)=0.47, \n",
      "End epoch 19 (16.922 secs): err(train)=1.60, acc(train)=0.53, err(valid)=1.72, acc(valid)=0.48, \n",
      "End epoch 20 (16.973 secs): err(train)=1.59, acc(train)=0.53, err(valid)=1.71, acc(valid)=0.48, \n",
      "End epoch 21 (16.927 secs): err(train)=1.57, acc(train)=0.54, err(valid)=1.72, acc(valid)=0.48, \n",
      "End epoch 22 (16.922 secs): err(train)=1.57, acc(train)=0.55, err(valid)=1.72, acc(valid)=0.49, \n",
      "End epoch 23 (16.908 secs): err(train)=1.56, acc(train)=0.55, err(valid)=1.73, acc(valid)=0.48, \n",
      "End epoch 24 (17.000 secs): err(train)=1.55, acc(train)=0.56, err(valid)=1.73, acc(valid)=0.48, \n",
      "End epoch 25 (16.921 secs): err(train)=1.54, acc(train)=0.56, err(valid)=1.73, acc(valid)=0.48, \n",
      "End epoch 26 (16.926 secs): err(train)=1.54, acc(train)=0.56, err(valid)=1.73, acc(valid)=0.49, \n",
      "End epoch 27 (16.900 secs): err(train)=1.53, acc(train)=0.56, err(valid)=1.74, acc(valid)=0.49, \n",
      "End epoch 28 (17.068 secs): err(train)=1.52, acc(train)=0.57, err(valid)=1.74, acc(valid)=0.49, \n",
      "End epoch 29 (18.221 secs): err(train)=1.51, acc(train)=0.58, err(valid)=1.76, acc(valid)=0.48, \n",
      "End epoch 30 (17.044 secs): err(train)=1.51, acc(train)=0.58, err(valid)=1.76, acc(valid)=0.49, \n",
      "End epoch 31 (16.885 secs): err(train)=1.50, acc(train)=0.58, err(valid)=1.77, acc(valid)=0.49, \n",
      "End epoch 32 (16.934 secs): err(train)=1.49, acc(train)=0.59, err(valid)=1.76, acc(valid)=0.49, \n",
      "End epoch 33 (16.889 secs): err(train)=1.48, acc(train)=0.59, err(valid)=1.79, acc(valid)=0.49, \n",
      "End epoch 34 (16.909 secs): err(train)=1.48, acc(train)=0.60, err(valid)=1.78, acc(valid)=0.49, \n",
      "End epoch 35 (16.918 secs): err(train)=1.47, acc(train)=0.60, err(valid)=1.78, acc(valid)=0.50, \n",
      "End epoch 36 (16.976 secs): err(train)=1.47, acc(train)=0.60, err(valid)=1.79, acc(valid)=0.49, \n",
      "End epoch 37 (17.024 secs): err(train)=1.45, acc(train)=0.61, err(valid)=1.81, acc(valid)=0.49, \n",
      "End epoch 38 (16.909 secs): err(train)=1.45, acc(train)=0.61, err(valid)=1.80, acc(valid)=0.49, \n",
      "End epoch 39 (16.891 secs): err(train)=1.44, acc(train)=0.61, err(valid)=1.81, acc(valid)=0.49, \n",
      "End epoch 40 (16.911 secs): err(train)=1.43, acc(train)=0.62, err(valid)=1.82, acc(valid)=0.49, \n",
      "End epoch 41 (16.926 secs): err(train)=1.44, acc(train)=0.62, err(valid)=1.81, acc(valid)=0.49, \n",
      "End epoch 42 (16.919 secs): err(train)=1.42, acc(train)=0.63, err(valid)=1.85, acc(valid)=0.48, \n",
      "End epoch 43 (16.916 secs): err(train)=1.42, acc(train)=0.63, err(valid)=1.84, acc(valid)=0.49, \n",
      "End epoch 44 (16.945 secs): err(train)=1.41, acc(train)=0.63, err(valid)=1.84, acc(valid)=0.49, \n",
      "End epoch 45 (16.917 secs): err(train)=1.40, acc(train)=0.64, err(valid)=1.87, acc(valid)=0.48, \n",
      "End epoch 46 (16.913 secs): err(train)=1.39, acc(train)=0.64, err(valid)=1.85, acc(valid)=0.49, \n",
      "End epoch 47 (16.900 secs): err(train)=1.40, acc(train)=0.64, err(valid)=1.86, acc(valid)=0.49, \n",
      "End epoch 48 (16.897 secs): err(train)=1.40, acc(train)=0.64, err(valid)=1.89, acc(valid)=0.48, \n",
      "End epoch 49 (16.896 secs): err(train)=1.38, acc(train)=0.65, err(valid)=1.89, acc(valid)=0.49, \n",
      "End epoch 50 (16.983 secs): err(train)=1.38, acc(train)=0.65, err(valid)=1.88, acc(valid)=0.49, \n",
      "End epoch 51 (16.878 secs): err(train)=1.37, acc(train)=0.66, err(valid)=1.88, acc(valid)=0.49, \n",
      "End epoch 52 (16.905 secs): err(train)=1.37, acc(train)=0.66, err(valid)=1.89, acc(valid)=0.49, \n",
      "End epoch 53 (17.346 secs): err(train)=1.37, acc(train)=0.66, err(valid)=1.92, acc(valid)=0.49, \n",
      "End epoch 54 (16.900 secs): err(train)=1.35, acc(train)=0.67, err(valid)=1.92, acc(valid)=0.49, \n",
      "End epoch 55 (16.869 secs): err(train)=1.36, acc(train)=0.66, err(valid)=1.92, acc(valid)=0.48, \n",
      "End epoch 56 (17.322 secs): err(train)=1.35, acc(train)=0.67, err(valid)=1.91, acc(valid)=0.50, \n",
      "End epoch 57 (16.976 secs): err(train)=1.35, acc(train)=0.67, err(valid)=1.94, acc(valid)=0.49, \n",
      "End epoch 58 (16.891 secs): err(train)=1.34, acc(train)=0.67, err(valid)=1.96, acc(valid)=0.49, \n",
      "End epoch 59 (16.880 secs): err(train)=1.33, acc(train)=0.68, err(valid)=1.95, acc(valid)=0.49, \n",
      "End epoch 60 (16.885 secs): err(train)=1.33, acc(train)=0.68, err(valid)=1.96, acc(valid)=0.49, \n",
      "End epoch 61 (16.884 secs): err(train)=1.33, acc(train)=0.68, err(valid)=1.97, acc(valid)=0.49, \n",
      "End epoch 62 (16.886 secs): err(train)=1.33, acc(train)=0.68, err(valid)=1.97, acc(valid)=0.48, \n",
      "End epoch 63 (16.987 secs): err(train)=1.33, acc(train)=0.68, err(valid)=1.98, acc(valid)=0.49, \n",
      "End epoch 64 (16.954 secs): err(train)=1.32, acc(train)=0.69, err(valid)=1.98, acc(valid)=0.49, \n",
      "End epoch 65 (16.898 secs): err(train)=1.32, acc(train)=0.69, err(valid)=1.99, acc(valid)=0.48, \n",
      "End epoch 66 (16.900 secs): err(train)=1.31, acc(train)=0.69, err(valid)=2.00, acc(valid)=0.49, \n",
      "End epoch 67 (16.860 secs): err(train)=1.31, acc(train)=0.69, err(valid)=2.02, acc(valid)=0.48, \n",
      "End epoch 68 (16.885 secs): err(train)=1.31, acc(train)=0.69, err(valid)=1.99, acc(valid)=0.49, \n",
      "End epoch 69 (16.919 secs): err(train)=1.32, acc(train)=0.69, err(valid)=2.02, acc(valid)=0.49, \n",
      "End epoch 70 (17.429 secs): err(train)=1.31, acc(train)=0.70, err(valid)=2.01, acc(valid)=0.49, \n",
      "End epoch 71 (17.039 secs): err(train)=1.30, acc(train)=0.70, err(valid)=2.01, acc(valid)=0.49, \n",
      "End epoch 72 (16.885 secs): err(train)=1.29, acc(train)=0.70, err(valid)=2.02, acc(valid)=0.49, \n",
      "End epoch 73 (16.870 secs): err(train)=1.29, acc(train)=0.70, err(valid)=2.03, acc(valid)=0.49, \n",
      "End epoch 74 (16.877 secs): err(train)=1.29, acc(train)=0.71, err(valid)=2.03, acc(valid)=0.49, \n",
      "End epoch 75 (16.885 secs): err(train)=1.28, acc(train)=0.71, err(valid)=2.06, acc(valid)=0.49, \n",
      "End epoch 76 (16.928 secs): err(train)=1.29, acc(train)=0.71, err(valid)=2.06, acc(valid)=0.49, \n",
      "End epoch 77 (16.913 secs): err(train)=1.29, acc(train)=0.71, err(valid)=2.03, acc(valid)=0.49, \n",
      "End epoch 78 (16.877 secs): err(train)=1.28, acc(train)=0.71, err(valid)=2.06, acc(valid)=0.49, \n",
      "End epoch 79 (16.862 secs): err(train)=1.28, acc(train)=0.71, err(valid)=2.06, acc(valid)=0.49, \n",
      "End epoch 80 (16.880 secs): err(train)=1.28, acc(train)=0.71, err(valid)=2.07, acc(valid)=0.49, \n",
      "End epoch 81 (16.888 secs): err(train)=1.28, acc(train)=0.71, err(valid)=2.07, acc(valid)=0.49, \n",
      "End epoch 82 (16.877 secs): err(train)=1.28, acc(train)=0.71, err(valid)=2.09, acc(valid)=0.49, \n",
      "End epoch 83 (16.950 secs): err(train)=1.26, acc(train)=0.72, err(valid)=2.06, acc(valid)=0.50, \n",
      "End epoch 84 (16.883 secs): err(train)=1.27, acc(train)=0.72, err(valid)=2.08, acc(valid)=0.49, \n",
      "End epoch 85 (16.866 secs): err(train)=1.27, acc(train)=0.72, err(valid)=2.08, acc(valid)=0.49, \n",
      "End epoch 86 (16.917 secs): err(train)=1.27, acc(train)=0.72, err(valid)=2.09, acc(valid)=0.49, \n",
      "End epoch 87 (16.901 secs): err(train)=1.27, acc(train)=0.72, err(valid)=2.08, acc(valid)=0.49, \n",
      "End epoch 88 (17.058 secs): err(train)=1.27, acc(train)=0.72, err(valid)=2.10, acc(valid)=0.49, \n",
      "End epoch 89 (16.892 secs): err(train)=1.26, acc(train)=0.72, err(valid)=2.10, acc(valid)=0.49, \n",
      "End epoch 90 (17.021 secs): err(train)=1.27, acc(train)=0.72, err(valid)=2.09, acc(valid)=0.49, \n",
      "End epoch 91 (17.797 secs): err(train)=1.26, acc(train)=0.72, err(valid)=2.11, acc(valid)=0.49, \n",
      "End epoch 92 (16.875 secs): err(train)=1.26, acc(train)=0.72, err(valid)=2.11, acc(valid)=0.49, \n",
      "End epoch 93 (17.767 secs): err(train)=1.25, acc(train)=0.73, err(valid)=2.12, acc(valid)=0.49, \n",
      "End epoch 94 (17.352 secs): err(train)=1.26, acc(train)=0.73, err(valid)=2.12, acc(valid)=0.49, \n",
      "End epoch 95 (16.924 secs): err(train)=1.26, acc(train)=0.73, err(valid)=2.14, acc(valid)=0.49, \n",
      "End epoch 96 (17.209 secs): err(train)=1.26, acc(train)=0.73, err(valid)=2.14, acc(valid)=0.49, \n",
      "End epoch 97 (16.979 secs): err(train)=1.26, acc(train)=0.73, err(valid)=2.12, acc(valid)=0.49, \n",
      "End epoch 98 (17.417 secs): err(train)=1.25, acc(train)=0.73, err(valid)=2.14, acc(valid)=0.50, \n",
      "End epoch 99 (16.986 secs): err(train)=1.25, acc(train)=0.73, err(valid)=2.16, acc(valid)=0.49, \n",
      "End epoch 100 (17.897 secs): err(train)=1.24, acc(train)=0.73, err(valid)=2.16, acc(valid)=0.49, \n",
      "\n",
      "CPU times: user 25min 33s, sys: 3min 15s, total: 28min 49s\n",
      "Wall time: 30min 30s\n"
     ]
    },
    {
     "data": {
      "image/png": "[encoded data removed]",
      "text/plain": [
       "<matplotlib.figure.Figure at 0x7f09c8f48e10>"
      ]
     },
     "metadata": {},
     "output_type": "display_data"
    },
    {
     "data": {
      "image/png": "[encoded data removed]",
      "text/plain": [
       "<matplotlib.figure.Figure at 0x7f09c90d0990>"
      ]
     },
     "metadata": {},
     "output_type": "display_data"
    }
   ],
   "source": [
    "%%time\n",
    "\n",
    "input_keep_prob, hidden_keep_prob = best_probs_base_classifier\n",
    "\n",
    "print best_probs_base_classifier\n",
    "\n",
    "stats, keys = trainAndValidate(epochs=100,\n",
    "    input_keep_prob=input_keep_prob,\n",
    "    hidden_keep_prob=hidden_keep_prob\n",
    ")\n",
    "\n",
    "if plotting:\n",
    "    fig_1, ax_1, fig_2, ax_2 = plotStats(stats, keys)\n",
    "    figcount += 1\n",
    "    if saving:\n",
    "        fig_1.savefig('cw%d_part%d_%02d_fig_error.svg' % (coursework, part, figcount))\n",
    "        fig_2.savefig('cw%d_part%d_%02d_fig_valid.svg' % (coursework, part, figcount))\n",
    "        figcount += 1"
   ]
  },
  {
   "cell_type": "code",
   "execution_count": null,
   "metadata": {
    "collapsed": true
   },
   "outputs": [],
   "source": []
  }
 ],
 "metadata": {
  "anaconda-cloud": {},
  "kernelspec": {
   "display_name": "Python 2",
   "language": "python",
   "name": "python2"
  },
  "language_info": {
   "codemirror_mode": {
    "name": "ipython",
    "version": 2
   },
   "file_extension": ".py",
   "mimetype": "text/x-python",
   "name": "python",
   "nbconvert_exporter": "python",
   "pygments_lexer": "ipython2",
   "version": "2.7.13"
  }
 },
 "nbformat": 4,
 "nbformat_minor": 1
}
