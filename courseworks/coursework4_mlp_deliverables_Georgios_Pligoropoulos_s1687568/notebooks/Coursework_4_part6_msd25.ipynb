{
 "cells": [
  {
   "cell_type": "markdown",
   "metadata": {},
   "source": [
    "2017\n",
    "\n",
    "Machine Learning Practical\n",
    "\n",
    "University of Edinburgh\n",
    "\n",
    "Georgios Pligoropoulos - s1687568\n",
    "\n",
    "Coursework 4 (part 6)"
   ]
  },
  {
   "cell_type": "markdown",
   "metadata": {},
   "source": [
    "### Imports, Inits, and helper functions"
   ]
  },
  {
   "cell_type": "code",
   "execution_count": 1,
   "metadata": {
    "collapsed": true
   },
   "outputs": [],
   "source": [
    "jupyterNotebookEnabled = True\n",
    "plotting = True\n",
    "\n",
    "coursework, part = 4, 6\n",
    "saving = True"
   ]
  },
  {
   "cell_type": "code",
   "execution_count": 2,
   "metadata": {
    "collapsed": false
   },
   "outputs": [],
   "source": [
    "if jupyterNotebookEnabled:\n",
    "    %load_ext autoreload\n",
    "    %autoreload 2"
   ]
  },
  {
   "cell_type": "code",
   "execution_count": 3,
   "metadata": {
    "collapsed": true
   },
   "outputs": [],
   "source": [
    "import sys, os\n",
    "mlpdir = os.path.expanduser(\n",
    "    '~/pligor.george@gmail.com/msc_Artificial_Intelligence/mlp_Machine_Learning_Practical/mlpractical'\n",
    ")\n",
    "sys.path.append(mlpdir)"
   ]
  },
  {
   "cell_type": "code",
   "execution_count": 4,
   "metadata": {
    "collapsed": false
   },
   "outputs": [],
   "source": [
    "from collections import OrderedDict\n",
    "from __future__ import division\n",
    "import skopt\n",
    "from mylibs.jupyter_notebook_helper import show_graph\n",
    "import datetime\n",
    "import os\n",
    "import time\n",
    "import tensorflow as tf\n",
    "import numpy as np\n",
    "from mlp.data_providers import MSD10GenreDataProvider, MSD25GenreDataProvider,\\\n",
    "    MSD10Genre_Autoencoder_DataProvider, MSD10Genre_StackedAutoEncoderDataProvider\n",
    "import matplotlib.pyplot as plt\n",
    "%matplotlib inline\n",
    "from mylibs.batch_norm import fully_connected_layer_with_batch_norm_and_l2\n",
    "from mylibs.stacked_autoencoder_pretrainer import \\\n",
    "    constructModelFromPretrainedByAutoEncoderStack,\\\n",
    "    buildGraphOfStackedAutoencoder, executeNonLinearAutoencoder\n",
    "    \n",
    "from mylibs.jupyter_notebook_helper import getRunTime, getTrainWriter, getValidWriter,\\\n",
    "    plotStats, initStats, gatherStats\n",
    "    \n",
    "from mylibs.tf_helper import tfRMSE, tfMSE, fully_connected_layer\n",
    "    #trainEpoch, validateEpoch\n",
    "\n",
    "from mylibs.py_helper import merge_dicts\n",
    "\n",
    "from mylibs.dropout_helper import constructProbs\n",
    "\n",
    "from mylibs.batch_norm import batchNormWrapper_byExponentialMovingAvg,\\\n",
    "    fully_connected_layer_with_batch_norm\n",
    "    \n",
    "import pickle\n",
    "from skopt.plots import plot_convergence\n",
    "from mylibs.jupyter_notebook_helper import DynStats\n",
    "import operator\n",
    "from skopt.space.space import Integer, Categorical\n",
    "from skopt import gp_minimize\n",
    "from rnn.manual_rnn import ManualRNN\n",
    "from rnn.msd10_data_providers import MSD10Genre_120_rnn_DataProvider\n",
    "from mylibs.kaggle_helper import create_kaggle_submission_file"
   ]
  },
  {
   "cell_type": "code",
   "execution_count": 5,
   "metadata": {
    "collapsed": true
   },
   "outputs": [],
   "source": [
    "seed = 16011984\n",
    "rng = np.random.RandomState(seed=seed)\n",
    "\n",
    "config = tf.ConfigProto(log_device_placement=True, allow_soft_placement=True)\n",
    "config.gpu_options.allow_growth = True\n",
    "\n",
    "figcount = 0\n",
    "\n",
    "tensorboardLogdir = 'tf_cw%d_%d' % (coursework, part)\n",
    "\n",
    "curDtype = tf.float32\n",
    "\n",
    "reluBias = 0.1"
   ]
  },
  {
   "cell_type": "code",
   "execution_count": 6,
   "metadata": {
    "collapsed": false
   },
   "outputs": [
    {
     "data": {
      "text/plain": [
       "array([500, 500,  25,  10])"
      ]
     },
     "execution_count": 6,
     "metadata": {},
     "output_type": "execute_result"
    }
   ],
   "source": [
    "hidden_dims = np.array([500, 500, 25, 10]).astype(int)\n",
    "hidden_dims"
   ]
  },
  {
   "cell_type": "code",
   "execution_count": 7,
   "metadata": {
    "collapsed": true
   },
   "outputs": [],
   "source": [
    "batch_size = 50\n",
    "\n",
    "num_steps = 6 # number of truncated backprop steps ('n' in the discussion above)\n",
    "#num_classes = 2\n",
    "state_size = 10      #each state is represented with a certain width, a vector\n",
    "learningRate = 1e-4 #default of Adam is 1e-3\n",
    "#momentum = 0.5\n",
    "#lamda2 = 1e-2"
   ]
  },
  {
   "cell_type": "code",
   "execution_count": 8,
   "metadata": {
    "collapsed": true
   },
   "outputs": [],
   "source": [
    "best_params_filename = 'best_params_rnn.npy'"
   ]
  },
  {
   "cell_type": "markdown",
   "metadata": {},
   "source": [
    "here the state size is equal to the number of classes because we have given to the last output all the responsibility.\n",
    "\n",
    "We are going to follow a repetitive process. For example if num_steps=6 then we break the 120 segments into 20 parts\n",
    "\n",
    "The output of each part will be the genre. We are comparing against the genre every little part "
   ]
  },
  {
   "cell_type": "markdown",
   "metadata": {},
   "source": [
    "### MSD 25 genre task"
   ]
  },
  {
   "cell_type": "code",
   "execution_count": 9,
   "metadata": {
    "collapsed": true
   },
   "outputs": [],
   "source": [
    "segmentCount = 120\n",
    "segmentLen = 25"
   ]
  },
  {
   "cell_type": "code",
   "execution_count": 10,
   "metadata": {
    "collapsed": false
   },
   "outputs": [],
   "source": [
    "# test = np.load('../data/msd-25-genre-test.npz')\n",
    "# test['targets'][:10]"
   ]
  },
  {
   "cell_type": "code",
   "execution_count": 11,
   "metadata": {
    "collapsed": true
   },
   "outputs": [],
   "source": [
    "#train = np.load('../data/msd-25-genre-train.npz')"
   ]
  },
  {
   "cell_type": "code",
   "execution_count": 12,
   "metadata": {
    "collapsed": false
   },
   "outputs": [],
   "source": [
    "#train['targets'][:10]"
   ]
  },
  {
   "cell_type": "code",
   "execution_count": 13,
   "metadata": {
    "collapsed": false
   },
   "outputs": [],
   "source": [
    "#np.zeros(10).astype(np.int)"
   ]
  },
  {
   "cell_type": "markdown",
   "metadata": {},
   "source": [
    "### Experiment with Best Parameters for MSD-25 classification task"
   ]
  },
  {
   "cell_type": "code",
   "execution_count": 14,
   "metadata": {
    "collapsed": false
   },
   "outputs": [
    {
     "data": {
      "text/plain": [
       "array([341,   4])"
      ]
     },
     "execution_count": 14,
     "metadata": {},
     "output_type": "execute_result"
    }
   ],
   "source": [
    "best_params = np.load(best_params_filename)\n",
    "best_params"
   ]
  },
  {
   "cell_type": "code",
   "execution_count": 15,
   "metadata": {
    "collapsed": false
   },
   "outputs": [],
   "source": [
    "manualRNN = ManualRNN(batch_size=batch_size, rng=rng, dtype = curDtype, config=config,\n",
    "                      segment_count=segmentCount, segment_len= segmentLen, num_classes = 25)"
   ]
  },
  {
   "cell_type": "code",
   "execution_count": 16,
   "metadata": {
    "collapsed": false
   },
   "outputs": [
    {
     "name": "stdout",
     "output_type": "stream",
     "text": [
      "epochs: 50\n",
      "rnn steps: 4\n",
      "state size: 341\n",
      "End epoch 01 (101.236 secs): err(train)=2.47, acc(train)=0.26, err(valid)=2.99, acc(valid)=0.14, \n",
      "End epoch 02 (98.595 secs): err(train)=2.47, acc(train)=0.26, err(valid)=2.81, acc(valid)=0.17, \n",
      "End epoch 03 (97.079 secs): err(train)=2.47, acc(train)=0.26, err(valid)=2.80, acc(valid)=0.16, \n",
      "End epoch 04 (96.809 secs): err(train)=2.45, acc(train)=0.27, err(valid)=2.79, acc(valid)=0.16, \n",
      "End epoch 05 (97.524 secs): err(train)=2.44, acc(train)=0.27, err(valid)=2.76, acc(valid)=0.18, \n",
      "End epoch 06 (96.619 secs): err(train)=2.42, acc(train)=0.27, err(valid)=2.79, acc(valid)=0.17, \n",
      "End epoch 07 (96.854 secs): err(train)=2.42, acc(train)=0.27, err(valid)=2.76, acc(valid)=0.17, \n",
      "End epoch 08 (97.030 secs): err(train)=2.41, acc(train)=0.27, err(valid)=2.69, acc(valid)=0.19, \n",
      "End epoch 09 (96.562 secs): err(train)=2.40, acc(train)=0.28, err(valid)=2.75, acc(valid)=0.19, \n",
      "End epoch 10 (97.179 secs): err(train)=2.39, acc(train)=0.28, err(valid)=2.68, acc(valid)=0.20, \n",
      "End epoch 11 (96.979 secs): err(train)=2.38, acc(train)=0.28, err(valid)=2.77, acc(valid)=0.19, \n",
      "End epoch 12 (96.880 secs): err(train)=2.37, acc(train)=0.28, err(valid)=2.70, acc(valid)=0.19, \n",
      "End epoch 13 (97.380 secs): err(train)=2.37, acc(train)=0.29, err(valid)=2.67, acc(valid)=0.21, \n",
      "End epoch 14 (96.888 secs): err(train)=2.35, acc(train)=0.29, err(valid)=2.75, acc(valid)=0.18, \n",
      "End epoch 15 (96.678 secs): err(train)=2.35, acc(train)=0.29, err(valid)=2.66, acc(valid)=0.20, \n",
      "End epoch 16 (97.065 secs): err(train)=2.34, acc(train)=0.29, err(valid)=2.64, acc(valid)=0.21, \n",
      "End epoch 17 (96.603 secs): err(train)=2.34, acc(train)=0.29, err(valid)=2.66, acc(valid)=0.19, \n",
      "End epoch 18 (96.640 secs): err(train)=2.33, acc(train)=0.30, err(valid)=2.65, acc(valid)=0.21, \n",
      "End epoch 19 (97.869 secs): err(train)=2.32, acc(train)=0.30, err(valid)=2.64, acc(valid)=0.20, \n",
      "End epoch 20 (96.969 secs): err(train)=2.31, acc(train)=0.30, err(valid)=2.69, acc(valid)=0.20, \n",
      "End epoch 21 (96.676 secs): err(train)=2.31, acc(train)=0.30, err(valid)=2.63, acc(valid)=0.21, \n",
      "End epoch 22 (97.099 secs): err(train)=2.30, acc(train)=0.30, err(valid)=2.62, acc(valid)=0.21, \n",
      "End epoch 23 (96.635 secs): err(train)=2.30, acc(train)=0.30, err(valid)=2.70, acc(valid)=0.19, \n",
      "End epoch 24 (97.002 secs): err(train)=2.29, acc(train)=0.30, err(valid)=2.65, acc(valid)=0.21, \n",
      "End epoch 25 (96.704 secs): err(train)=2.29, acc(train)=0.31, err(valid)=2.62, acc(valid)=0.22, \n",
      "End epoch 26 (96.767 secs): err(train)=2.28, acc(train)=0.31, err(valid)=2.63, acc(valid)=0.21, \n",
      "End epoch 27 (97.321 secs): err(train)=2.28, acc(train)=0.31, err(valid)=2.65, acc(valid)=0.20, \n",
      "End epoch 28 (96.988 secs): err(train)=2.27, acc(train)=0.31, err(valid)=2.62, acc(valid)=0.22, \n",
      "End epoch 29 (96.847 secs): err(train)=2.27, acc(train)=0.31, err(valid)=2.62, acc(valid)=0.22, \n",
      "End epoch 30 (97.083 secs): err(train)=2.26, acc(train)=0.31, err(valid)=2.62, acc(valid)=0.22, \n",
      "End epoch 31 (96.937 secs): err(train)=2.26, acc(train)=0.31, err(valid)=2.66, acc(valid)=0.21, \n",
      "End epoch 32 (96.826 secs): err(train)=2.26, acc(train)=0.31, err(valid)=2.64, acc(valid)=0.22, \n",
      "End epoch 33 (97.097 secs): err(train)=2.25, acc(train)=0.32, err(valid)=2.66, acc(valid)=0.20, \n",
      "End epoch 34 (96.745 secs): err(train)=2.25, acc(train)=0.32, err(valid)=2.63, acc(valid)=0.21, \n",
      "End epoch 35 (97.223 secs): err(train)=2.24, acc(train)=0.32, err(valid)=2.63, acc(valid)=0.21, \n",
      "End epoch 36 (97.041 secs): err(train)=2.24, acc(train)=0.32, err(valid)=2.62, acc(valid)=0.22, \n",
      "End epoch 37 (96.884 secs): err(train)=2.23, acc(train)=0.32, err(valid)=2.64, acc(valid)=0.21, \n",
      "End epoch 38 (96.880 secs): err(train)=2.23, acc(train)=0.32, err(valid)=2.61, acc(valid)=0.22, \n",
      "End epoch 39 (96.744 secs): err(train)=2.23, acc(train)=0.32, err(valid)=2.66, acc(valid)=0.21, \n",
      "End epoch 40 (96.529 secs): err(train)=2.22, acc(train)=0.32, err(valid)=2.63, acc(valid)=0.22, \n",
      "End epoch 41 (97.036 secs): err(train)=2.22, acc(train)=0.32, err(valid)=2.62, acc(valid)=0.21, \n",
      "End epoch 42 (96.598 secs): err(train)=2.22, acc(train)=0.32, err(valid)=2.58, acc(valid)=0.23, \n",
      "End epoch 43 (96.555 secs): err(train)=2.22, acc(train)=0.32, err(valid)=2.62, acc(valid)=0.22, \n",
      "End epoch 44 (96.762 secs): err(train)=2.21, acc(train)=0.33, err(valid)=2.62, acc(valid)=0.22, \n",
      "End epoch 45 (96.654 secs): err(train)=2.21, acc(train)=0.33, err(valid)=2.60, acc(valid)=0.23, \n",
      "End epoch 46 (96.565 secs): err(train)=2.21, acc(train)=0.33, err(valid)=2.62, acc(valid)=0.21, \n",
      "End epoch 47 (97.122 secs): err(train)=2.21, acc(train)=0.33, err(valid)=2.63, acc(valid)=0.22, \n",
      "End epoch 48 (96.489 secs): err(train)=2.20, acc(train)=0.33, err(valid)=2.60, acc(valid)=0.23, \n",
      "End epoch 49 (96.899 secs): err(train)=2.20, acc(train)=0.33, err(valid)=2.58, acc(valid)=0.22, \n",
      "End epoch 50 (96.999 secs): err(train)=2.20, acc(train)=0.33, err(valid)=2.64, acc(valid)=0.20, \n",
      "\n"
     ]
    },
    {
     "name": "stderr",
     "output_type": "stream",
     "text": [
      "/home/studenthp/pligor.george@gmail.com/msc_Artificial_Intelligence/mlp_Machine_Learning_Practical/mlpractical/mylibs/jupyter_notebook_helper.py:74: MatplotlibDeprecationWarning: axes.hold is deprecated.\n",
      "    See the API Changes document (http://matplotlib.org/api/api_changes.html)\n",
      "    for more details.\n",
      "  ax_1.hold(True)\n",
      "/home/studenthp/pligor.george@gmail.com/msc_Artificial_Intelligence/mlp_Machine_Learning_Practical/mlpractical/mylibs/jupyter_notebook_helper.py:78: MatplotlibDeprecationWarning: axes.hold is deprecated.\n",
      "    See the API Changes document (http://matplotlib.org/api/api_changes.html)\n",
      "    for more details.\n",
      "  ax_1.hold(False)\n",
      "/home/studenthp/pligor.george@gmail.com/msc_Artificial_Intelligence/mlp_Machine_Learning_Practical/mlpractical/mylibs/jupyter_notebook_helper.py:87: MatplotlibDeprecationWarning: axes.hold is deprecated.\n",
      "    See the API Changes document (http://matplotlib.org/api/api_changes.html)\n",
      "    for more details.\n",
      "  ax_2.hold(True)\n",
      "/home/studenthp/pligor.george@gmail.com/msc_Artificial_Intelligence/mlp_Machine_Learning_Practical/mlpractical/mylibs/jupyter_notebook_helper.py:91: MatplotlibDeprecationWarning: axes.hold is deprecated.\n",
      "    See the API Changes document (http://matplotlib.org/api/api_changes.html)\n",
      "    for more details.\n",
      "  ax_2.hold(False)\n"
     ]
    },
    {
     "data": {
      "image/png": "[encoded data removed]",
      "text/plain": [
       "<matplotlib.figure.Figure at 0x7fe901a3afd0>"
      ]
     },
     "metadata": {},
     "output_type": "display_data"
    },
    {
     "data": {
      "image/png": "[encoded data removed]",
      "text/plain": [
       "<matplotlib.figure.Figure at 0x7fe9000c3a90>"
      ]
     },
     "metadata": {},
     "output_type": "display_data"
    },
    {
     "name": "stdout",
     "output_type": "stream",
     "text": [
      "0.229399992861\n",
      "CPU times: user 1h 42min 20s, sys: 11min 57s, total: 1h 54min 17s\n",
      "Wall time: 1h 29min 50s\n"
     ]
    }
   ],
   "source": [
    "%%time\n",
    "\n",
    "epochs = 50\n",
    "\n",
    "(state_size, num_steps) = best_params\n",
    "\n",
    "stats, keys = manualRNN.run_rnn(state_size = state_size, num_steps=num_steps,\n",
    "                                epochs = epochs, kaggleEnabled = False)\n",
    "\n",
    "if plotting:\n",
    "    fig_1, ax_1, fig_2, ax_2 = plotStats(stats, keys)\n",
    "    plt.show()\n",
    "    if saving:\n",
    "        figcount += 1\n",
    "        fig_1.savefig('cw%d_part%d_%02d_fig_error.svg' % (coursework, part, figcount))\n",
    "        fig_2.savefig('cw%d_part%d_%02d_fig_valid.svg' % (coursework, part, figcount))\n",
    "\n",
    "print max(stats[:, -1]) #maximum validation accuracy"
   ]
  },
  {
   "cell_type": "code",
   "execution_count": null,
   "metadata": {
    "collapsed": true
   },
   "outputs": [],
   "source": []
  }
 ],
 "metadata": {
  "anaconda-cloud": {},
  "kernelspec": {
   "display_name": "Python 2",
   "language": "python",
   "name": "python2"
  },
  "language_info": {
   "codemirror_mode": {
    "name": "ipython",
    "version": 2
   },
   "file_extension": ".py",
   "mimetype": "text/x-python",
   "name": "python",
   "nbconvert_exporter": "python",
   "pygments_lexer": "ipython2",
   "version": "2.7.13"
  }
 },
 "nbformat": 4,
 "nbformat_minor": 1
}
