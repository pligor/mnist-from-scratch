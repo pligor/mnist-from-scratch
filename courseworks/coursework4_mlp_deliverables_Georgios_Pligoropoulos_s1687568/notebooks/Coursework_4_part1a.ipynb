{
 "cells": [
  {
   "cell_type": "markdown",
   "metadata": {},
   "source": [
    "2017\n",
    "\n",
    "Machine Learning Practical\n",
    "\n",
    "University of Edinburgh\n",
    "\n",
    "Georgios Pligoropoulos - s1687568\n",
    "\n",
    "Coursework 4 (part 1a)"
   ]
  },
  {
   "cell_type": "markdown",
   "metadata": {},
   "source": [
    "### Imports, Inits, and helper functions"
   ]
  },
  {
   "cell_type": "code",
   "execution_count": 18,
   "metadata": {
    "collapsed": true
   },
   "outputs": [],
   "source": [
    "import sys, os\n",
    "mlpdir = os.path.expanduser(\n",
    "    '~/pligor.george@gmail.com/msc_Artificial_Intelligence/mlp_Machine_Learning_Practical/mlpractical'\n",
    ")\n",
    "sys.path.append(mlpdir)"
   ]
  },
  {
   "cell_type": "code",
   "execution_count": 19,
   "metadata": {
    "collapsed": true
   },
   "outputs": [],
   "source": [
    "jupyterNotebookEnabled = True\n",
    "plotting = True\n",
    "\n",
    "if jupyterNotebookEnabled:\n",
    "    %matplotlib inline"
   ]
  },
  {
   "cell_type": "code",
   "execution_count": 54,
   "metadata": {
    "collapsed": true
   },
   "outputs": [],
   "source": [
    "coursework, part = 4, \"1a\"\n",
    "saving = True"
   ]
  },
  {
   "cell_type": "code",
   "execution_count": 21,
   "metadata": {
    "collapsed": false
   },
   "outputs": [],
   "source": [
    "import pickle\n",
    "import skopt\n",
    "from skopt.plots import plot_convergence\n",
    "from mylibs.jupyter_notebook_helper import show_graph\n",
    "import datetime\n",
    "import os\n",
    "import time\n",
    "import tensorflow as tf\n",
    "import numpy as np\n",
    "from mlp.data_providers import MSD10GenreDataProvider, MSD25GenreDataProvider,\\\n",
    "    MSD10Genre_Autoencoder_DataProvider, MSD10Genre_StackedAutoEncoderDataProvider\n",
    "import matplotlib.pyplot as plt\n",
    "\n",
    "from mylibs.batch_norm import fully_connected_layer_with_batch_norm_and_l2\n",
    "from mylibs.stacked_autoencoder_pretrainer import \\\n",
    "    constructModelFromPretrainedByAutoEncoderStack,\\\n",
    "    buildGraphOfStackedAutoencoder, executeNonLinearAutoencoder\n",
    "    \n",
    "from mylibs.jupyter_notebook_helper import getRunTime, getTrainWriter, getValidWriter,\\\n",
    "    plotStats, initStats, gatherStats\n",
    "    \n",
    "from mylibs.tf_helper import tfRMSE, tfMSE, fully_connected_layer,validateEpoch\n",
    "    #trainEpoch, \n",
    "\n",
    "from mylibs.py_helper import merge_dicts\n",
    "\n",
    "from mylibs.batch_norm import batchNormWrapper_byExponentialMovingAvg,\\\n",
    "    fully_connected_layer_with_batch_norm\n",
    "    \n",
    "from mylibs.dropout_helper import constructProbs\n",
    "\n",
    "from skopt.space.space import Real\n",
    "from skopt import gp_minimize"
   ]
  },
  {
   "cell_type": "code",
   "execution_count": 22,
   "metadata": {
    "collapsed": true
   },
   "outputs": [],
   "source": [
    "seed = 16011984\n",
    "rng = np.random.RandomState(seed=seed)"
   ]
  },
  {
   "cell_type": "code",
   "execution_count": 23,
   "metadata": {
    "collapsed": true
   },
   "outputs": [],
   "source": [
    "config = tf.ConfigProto(log_device_placement=True, allow_soft_placement=True)\n",
    "config.gpu_options.allow_growth = True"
   ]
  },
  {
   "cell_type": "code",
   "execution_count": 24,
   "metadata": {
    "collapsed": true
   },
   "outputs": [],
   "source": [
    "figcount = 0"
   ]
  },
  {
   "cell_type": "code",
   "execution_count": 25,
   "metadata": {
    "collapsed": false
   },
   "outputs": [
    {
     "data": {
      "text/plain": [
       "'tf_cw4_1a'"
      ]
     },
     "execution_count": 25,
     "metadata": {},
     "output_type": "execute_result"
    }
   ],
   "source": [
    "tensorboardLogdir = 'tf_cw{}_{}'.format(coursework, part)\n",
    "tensorboardLogdir"
   ]
  },
  {
   "cell_type": "code",
   "execution_count": 26,
   "metadata": {
    "collapsed": true
   },
   "outputs": [],
   "source": [
    "curDtype = tf.float32"
   ]
  },
  {
   "cell_type": "code",
   "execution_count": 27,
   "metadata": {
    "collapsed": true
   },
   "outputs": [],
   "source": [
    "reluBias = 0.1"
   ]
  },
  {
   "cell_type": "code",
   "execution_count": 28,
   "metadata": {
    "collapsed": true
   },
   "outputs": [],
   "source": [
    "batch_size = 50"
   ]
  },
  {
   "cell_type": "code",
   "execution_count": 29,
   "metadata": {
    "collapsed": true
   },
   "outputs": [],
   "source": [
    "total_songs = 40000"
   ]
  },
  {
   "cell_type": "markdown",
   "metadata": {},
   "source": [
    "### Pretraining if necessary"
   ]
  },
  {
   "cell_type": "code",
   "execution_count": 30,
   "metadata": {
    "collapsed": false
   },
   "outputs": [
    {
     "data": {
      "text/plain": [
       "array([500, 500,  25,  10])"
      ]
     },
     "execution_count": 30,
     "metadata": {},
     "output_type": "execute_result"
    }
   ],
   "source": [
    "hidden_dims = np.array([500, 500, 25, 10]).astype(int)\n",
    "hidden_dims"
   ]
  },
  {
   "cell_type": "code",
   "execution_count": 31,
   "metadata": {
    "collapsed": false
   },
   "outputs": [],
   "source": [
    "pretrainedModelVarsFilename = 'pretrainedModelVars_base_model_cw4.npz'\n",
    "\n",
    "if os.path.isfile(pretrainedModelVarsFilename):\n",
    "    modelVars = np.load(pretrainedModelVarsFilename)\n",
    "    modelVars = modelVars[modelVars.keys()[0]]\n",
    "    \n",
    "else:\n",
    "    modelVars = constructModelFromPretrainedByAutoEncoderStack(hidden_dims,\n",
    "                                                               autoencoder= executeNonLinearAutoencoder,\n",
    "                                                               rng=rng,\n",
    "                                                               config=config,\n",
    "                                                               dataProviderClass= MSD10Genre_StackedAutoEncoderDataProvider)\n",
    "    np.savez(pretrainedModelVarsFilename, modelVars)"
   ]
  },
  {
   "cell_type": "markdown",
   "metadata": {},
   "source": [
    "### MSD 10 genre task"
   ]
  },
  {
   "cell_type": "code",
   "execution_count": 32,
   "metadata": {
    "collapsed": false
   },
   "outputs": [],
   "source": [
    "#re-initialize the random state in order to get eventually the same order of songs at the\n",
    "#end of the epochs, the _current_order attribute keeps the order of the songs\n",
    "rng = np.random.RandomState(seed=seed)\n",
    "train_data = MSD10GenreDataProvider('train', batch_size=batch_size, rng=rng)\n",
    "#((50, 3000), (50, 10))\n",
    "valid_data = MSD10GenreDataProvider('valid', batch_size=batch_size, rng=rng)"
   ]
  },
  {
   "cell_type": "code",
   "execution_count": 33,
   "metadata": {
    "collapsed": false
   },
   "outputs": [],
   "source": [
    "#tf.reset_default_graph() #kind of redundant statement\n",
    "isPretrained = True\n",
    "learningRate = 1e-4 #default of Adam is 1e-3\n",
    "#learningRate = 1e-3 #default of Adam is 1e-3\n",
    "#momentum = 0.5\n",
    "lamda2 = 1e-2\n",
    "\n",
    "graph = tf.Graph() #create new graph\n",
    "\n",
    "hidden_layers = []\n",
    "regularizers = []\n",
    "keep_probs = []\n",
    "\n",
    "with graph.as_default():\n",
    "    with tf.name_scope('data'):\n",
    "        inputs = tf.placeholder(curDtype, [batch_size, train_data.inputs.shape[1]], 'inputs')\n",
    "        targets = tf.placeholder(curDtype, [batch_size, train_data.num_classes], 'targets')\n",
    "    \n",
    "    with tf.name_scope('params'):\n",
    "        training = tf.placeholder(tf.bool, name=\"training\")\n",
    "        \n",
    "    with tf.name_scope(\"dropout0\"):\n",
    "        keep_probs.append(tf.placeholder(tf.float32))\n",
    "        inputs_prob = tf.nn.dropout(inputs, keep_probs[0])\n",
    "    \n",
    "    with tf.name_scope('fullyConnected0'):\n",
    "        curLayer, curRegularizer = fully_connected_layer_with_batch_norm_and_l2(\n",
    "            0, inputs_prob,\n",
    "            train_data.inputs.shape[1], hidden_dims[0],\n",
    "            nonlinearity= tf.nn.tanh,\n",
    "            w = modelVars[0][0] if isPretrained else None,\n",
    "            b = modelVars[0][1] if isPretrained else None,\n",
    "            training=training,\n",
    "            lamda2 = lamda2\n",
    "        )\n",
    "        \n",
    "        hidden_layers.append(curLayer)\n",
    "        regularizers.append(curRegularizer)\n",
    "    \n",
    "    \n",
    "    for i in range(1, len(hidden_dims)-1):\n",
    "        with tf.name_scope(\"dropout%d\" % i):\n",
    "            keep_probs.append(tf.placeholder(tf.float32))\n",
    "            cur_hidden_layer_prob = tf.nn.dropout(hidden_layers[i-1], keep_probs[i])\n",
    "        \n",
    "        with tf.name_scope('fullyConnected%d' % i):\n",
    "            curLayer, curRegularizer = fully_connected_layer_with_batch_norm_and_l2(i,\n",
    "                                  cur_hidden_layer_prob,\n",
    "                                  hidden_dims[i-1], hidden_dims[i],\n",
    "                                  nonlinearity = tf.nn.tanh,\n",
    "                                  w = modelVars[i][0] if isPretrained else None,\n",
    "                                  b = modelVars[i][1] if isPretrained else None,\n",
    "                                  training = training,\n",
    "                                  lamda2 = lamda2)\n",
    "            \n",
    "            hidden_layers.append(curLayer)\n",
    "            regularizers.append(curRegularizer)\n",
    "\n",
    "    \n",
    "    finalIndex = len(hidden_dims)-1\n",
    "    \n",
    "    with tf.name_scope(\"dropout%d\" % finalIndex):\n",
    "        keep_probs.append(tf.placeholder(tf.float32))\n",
    "        final_hidden_layer_prob = tf.nn.dropout(hidden_layers[finalIndex-1], keep_probs[finalIndex])\n",
    "\n",
    "    with tf.name_scope('readout_output_layer'):\n",
    "        outputs, curRegularizer = fully_connected_layer_with_batch_norm_and_l2(finalIndex,\n",
    "            final_hidden_layer_prob,\n",
    "            hidden_dims[finalIndex-1], train_data.num_classes,\n",
    "            training=training,\n",
    "            nonlinearity=tf.identity,\n",
    "            w = modelVars[finalIndex][0] if isPretrained else None,\n",
    "            b = modelVars[finalIndex][1] if isPretrained else None,\n",
    "            lamda2 = lamda2\n",
    "        )\n",
    "\n",
    "        regularizers.append(curRegularizer)\n",
    "\n",
    "    with tf.name_scope('error'):\n",
    "        #smaller cross entropy is better\n",
    "        cross_entropy = tf.nn.softmax_cross_entropy_with_logits(outputs, targets) #(50, )\n",
    "        error = tf.reduce_mean(cross_entropy) #() <-- scalar value\n",
    "        \n",
    "        for reg in regularizers:\n",
    "            error += reg\n",
    "\n",
    "    with tf.name_scope('accuracy'):\n",
    "        accuracy = tf.reduce_mean(tf.cast(tf.equal(tf.argmax(outputs, 1),\n",
    "                                                   tf.argmax(targets, 1)), dtype=curDtype))\n",
    "\n",
    "    with tf.name_scope('train'):\n",
    "        train_step = tf.train.AdamOptimizer(learning_rate=learningRate).minimize(error)\n",
    "#         train_step = tf.train.RMSPropOptimizer(\n",
    "#             learning_rate=learningRate,\n",
    "#             momentum=momentum\n",
    "#         ).minimize(error)\n",
    "\n",
    "    init = tf.global_variables_initializer()\n",
    "    \n",
    "if not isPretrained: #sorry it crashes otherwise\n",
    "    show_graph(graph)"
   ]
  },
  {
   "cell_type": "code",
   "execution_count": 34,
   "metadata": {
    "collapsed": true
   },
   "outputs": [],
   "source": [
    "def trainEpoch(inputs, targets, sess, e, train_data, train_step, error, accuracy, extraFeedDict):\n",
    "    train_error = 0.\n",
    "    train_accuracy = 0.\n",
    "    \n",
    "    num_batches = train_data.num_batches\n",
    "    \n",
    "    cross_entropies = np.zeros(total_songs)\n",
    "    \n",
    "    for step, (input_batch, target_batch) in enumerate(train_data):\n",
    "        batch_cross_entr, _, batch_error, batch_acc = sess.run(\n",
    "            [cross_entropy, train_step, error, accuracy], \n",
    "            feed_dict= merge_dicts({inputs: input_batch, targets: target_batch}, extraFeedDict)\n",
    "        )\n",
    "        #print batch_cross_entr\n",
    "        #time.sleep(10)\n",
    "        #we are only keeping the last one\n",
    "        \n",
    "#         (0, 50)\n",
    "#         (50, 100)\n",
    "#         (100, 150)\n",
    "        inds = train_data._current_order[step * batch_size : (step+1)*batch_size]\n",
    "        cross_entropies[inds] = batch_cross_entr\n",
    "        \n",
    "        train_error += batch_error\n",
    "        train_accuracy += batch_acc\n",
    "    \n",
    "    train_error /= num_batches\n",
    "    \n",
    "    train_accuracy /= num_batches\n",
    "    \n",
    "    return train_error, train_accuracy, cross_entropies"
   ]
  },
  {
   "cell_type": "code",
   "execution_count": 35,
   "metadata": {
    "collapsed": true
   },
   "outputs": [],
   "source": [
    "def trainAndValidate(input_keep_prob=0.9, hidden_keep_prob=0.7, epochs=35, verbose=True):\n",
    "    if verbose:\n",
    "        print \"epochs: %d\" % epochs\n",
    "        print \"input_keep_prob: %f\" % input_keep_prob\n",
    "        print \"hidden_keep_prob: %f\" % hidden_keep_prob\n",
    "    \n",
    "    keep_prob_dict = constructProbs(keep_probs,\n",
    "                                    cur_input_prob=input_keep_prob,\n",
    "                                    cur_hidden_prob=hidden_keep_prob)\n",
    "\n",
    "    with tf.Session(graph=graph, config=config) as sess:\n",
    "        sess.run(init)\n",
    "\n",
    "        stats, keys = initStats(epochs)\n",
    "        \n",
    "        #this is going to be overwritten multiple times, it is ok\n",
    "        #the intention is to keep only the last one\n",
    "        cross_entropies = None\n",
    "\n",
    "        for e in range(epochs):\n",
    "            (train_error, train_accuracy, cross_entropies), runTime = getRunTime(lambda : \n",
    "                    trainEpoch(\n",
    "                        inputs, targets, sess, e, train_data, train_step, error, accuracy,\n",
    "                        extraFeedDict = merge_dicts(keep_prob_dict, {training: True})\n",
    "                )\n",
    "            )\n",
    "\n",
    "            #print 'End epoch %02d (%.3f secs): err(train)=%.2f acc(train)=%.2f' % (e+1, runTime, train_error,train_accuracy)\n",
    "\n",
    "            if (e + 1) % 1 == 0:\n",
    "                valid_error, valid_accuracy = validateEpoch(\n",
    "                    inputs, targets, sess, e, valid_data, error, accuracy,\n",
    "                    extraFeedDict = {training: False}, keep_prob_keys=keep_probs\n",
    "                )\n",
    "\n",
    "                #print((' ' * 27) + 'err(valid)={0:.2f} acc(valid)={1:.2f}'.format(valid_error, valid_accuracy))\n",
    "\n",
    "            if verbose:\n",
    "                print 'End epoch %02d (%.3f secs): err(train)=%.2f, acc(train)=%.2f, err(valid)=%.2f, acc(valid)=%.2f, ' %\\\n",
    "                    (e+1, runTime, train_error, train_accuracy, valid_error, valid_accuracy)\n",
    "\n",
    "            stats = gatherStats(e, train_error, train_accuracy,\n",
    "                                valid_error, valid_accuracy, stats)\n",
    "    \n",
    "    if verbose:\n",
    "        print\n",
    "    \n",
    "    return stats, keys, cross_entropies"
   ]
  },
  {
   "cell_type": "code",
   "execution_count": 37,
   "metadata": {
    "collapsed": false
   },
   "outputs": [
    {
     "data": {
      "text/plain": [
       "array([ 0.7       ,  0.83712466])"
      ]
     },
     "execution_count": 37,
     "metadata": {},
     "output_type": "execute_result"
    }
   ],
   "source": [
    "best_probs_base_classifier_filename = 'best_probs_base_classifier.npy'\n",
    "best_probs_base_classifier = np.load(best_probs_base_classifier_filename)\n",
    "best_probs_base_classifier"
   ]
  },
  {
   "cell_type": "code",
   "execution_count": 38,
   "metadata": {
    "collapsed": true
   },
   "outputs": [],
   "source": [
    "cross_entropies_filename = 'cross_entropies_base_classifier.npy'"
   ]
  },
  {
   "cell_type": "code",
   "execution_count": 39,
   "metadata": {
    "collapsed": false
   },
   "outputs": [
    {
     "name": "stdout",
     "output_type": "stream",
     "text": [
      "CPU times: user 0 ns, sys: 0 ns, total: 0 ns\n",
      "Wall time: 16.6 ms\n"
     ]
    }
   ],
   "source": [
    "%%time\n",
    "\n",
    "if os.path.isfile(cross_entropies_filename):\n",
    "    cross_entropies = np.load(cross_entropies_filename)\n",
    "else:\n",
    "    input_keep_prob, hidden_keep_prob = best_probs_base_classifier\n",
    "\n",
    "    print best_probs_base_classifier\n",
    "\n",
    "    stats, keys, cross_entropies = trainAndValidate(epochs=100,\n",
    "        input_keep_prob=input_keep_prob,\n",
    "        hidden_keep_prob=hidden_keep_prob\n",
    "    )\n",
    "\n",
    "    if plotting:\n",
    "        fig_1, ax_1, fig_2, ax_2 = plotStats(stats, keys)\n",
    "        figcount += 1\n",
    "\n",
    "    np.save(cross_entropies_filename, cross_entropies)"
   ]
  },
  {
   "cell_type": "code",
   "execution_count": 46,
   "metadata": {
    "collapsed": false
   },
   "outputs": [
    {
     "data": {
      "text/plain": [
       "array([36530, 22504, 23923, 14754, 36193,  5299,  8800,  7080, 23828, 21521])"
      ]
     },
     "execution_count": 46,
     "metadata": {},
     "output_type": "execute_result"
    }
   ],
   "source": [
    "np.argsort(cross_entropies)[:10]"
   ]
  },
  {
   "cell_type": "code",
   "execution_count": 45,
   "metadata": {
    "collapsed": false
   },
   "outputs": [
    {
     "data": {
      "text/plain": [
       "array([ 0.00018655,  0.00040487,  0.00047792,  0.00050687,  0.00051187,\n",
       "        0.00063399,  0.00075622,  0.00076277,  0.00079064,  0.00084424])"
      ]
     },
     "execution_count": 45,
     "metadata": {},
     "output_type": "execute_result"
    }
   ],
   "source": [
    "np.sort(cross_entropies)[:10]"
   ]
  },
  {
   "cell_type": "code",
   "execution_count": 47,
   "metadata": {
    "collapsed": false
   },
   "outputs": [
    {
     "data": {
      "text/plain": [
       "array([ 4277, 20715, 10365, 21103, 35860, 19281, 33962, 22192, 17289, 22241])"
      ]
     },
     "execution_count": 47,
     "metadata": {},
     "output_type": "execute_result"
    }
   ],
   "source": [
    "np.argsort(cross_entropies)[-10:]"
   ]
  },
  {
   "cell_type": "code",
   "execution_count": 48,
   "metadata": {
    "collapsed": false
   },
   "outputs": [
    {
     "data": {
      "text/plain": [
       "array([ 6.81745005,  6.82365227,  7.14912271,  7.1554656 ,  7.25000525,\n",
       "        7.38539267,  7.66791773,  8.00147915,  8.09997749,  9.0351572 ])"
      ]
     },
     "execution_count": 48,
     "metadata": {},
     "output_type": "execute_result"
    }
   ],
   "source": [
    "np.sort(cross_entropies)[-10:]"
   ]
  },
  {
   "cell_type": "code",
   "execution_count": 49,
   "metadata": {
    "collapsed": false
   },
   "outputs": [
    {
     "data": {
      "text/plain": [
       "0.7685535595076799"
      ]
     },
     "execution_count": 49,
     "metadata": {},
     "output_type": "execute_result"
    }
   ],
   "source": [
    "np.mean(cross_entropies)"
   ]
  },
  {
   "cell_type": "code",
   "execution_count": 50,
   "metadata": {
    "collapsed": false
   },
   "outputs": [
    {
     "data": {
      "text/plain": [
       "0.96230627796890367"
      ]
     },
     "execution_count": 50,
     "metadata": {},
     "output_type": "execute_result"
    }
   ],
   "source": [
    "np.var(cross_entropies)"
   ]
  },
  {
   "cell_type": "code",
   "execution_count": 56,
   "metadata": {
    "collapsed": false
   },
   "outputs": [
    {
     "data": {
      "image/png": "[encoded data removed]",
      "text/plain": [
       "<matplotlib.figure.Figure at 0x7ff62e6e1790>"
      ]
     },
     "metadata": {},
     "output_type": "display_data"
    }
   ],
   "source": [
    "if plotting:\n",
    "    fig = plt.figure(figsize=(12,6))\n",
    "    plt.plot(np.sort(cross_entropies))\n",
    "    plt.xlabel('easier to more difficult songs')\n",
    "    plt.ylabel('cross entropy')\n",
    "    plt.title('cross entropy of each of the instance of training data of fixed-length of MSD-10')\n",
    "    plt.show()\n",
    "    if saving:\n",
    "        fig.savefig('cw{}_part{}_{:02d}_fig.svg'.format(coursework, part, figcount))"
   ]
  },
  {
   "cell_type": "code",
   "execution_count": null,
   "metadata": {
    "collapsed": true
   },
   "outputs": [],
   "source": []
  }
 ],
 "metadata": {
  "anaconda-cloud": {},
  "kernelspec": {
   "display_name": "Python 2",
   "language": "python",
   "name": "python2"
  },
  "language_info": {
   "codemirror_mode": {
    "name": "ipython",
    "version": 2
   },
   "file_extension": ".py",
   "mimetype": "text/x-python",
   "name": "python",
   "nbconvert_exporter": "python",
   "pygments_lexer": "ipython2",
   "version": "2.7.13"
  }
 },
 "nbformat": 4,
 "nbformat_minor": 1
}
