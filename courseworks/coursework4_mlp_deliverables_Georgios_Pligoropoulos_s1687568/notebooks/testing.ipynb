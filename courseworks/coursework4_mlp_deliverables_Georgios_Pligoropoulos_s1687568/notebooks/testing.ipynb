{
 "cells": [
  {
   "cell_type": "code",
   "execution_count": 10,
   "metadata": {
    "collapsed": true
   },
   "outputs": [],
   "source": [
    "import sys\n",
    "mlpdir = '/home/student/Dropbox/msc_Artificial_Intelligence/mlp_Machine_Learning_Practical/mlpractical'\n",
    "sys.path.append(mlpdir)"
   ]
  },
  {
   "cell_type": "code",
   "execution_count": 11,
   "metadata": {
    "collapsed": false
   },
   "outputs": [],
   "source": [
    "from mlp.data_providers import MNISTDataProvider, MNISTAutoencoderDataProvider, StackedAutoEncoderDataProvider\n",
    "\n",
    "from mlp.layers import AffineLayer, SoftmaxLayer, SigmoidLayer, MaxPoolingLayer, DropoutLayer, ReluLayer\n",
    "\n",
    "from mlp.errors import CrossEntropySoftmaxError, SumOfSquaredDiffsError\n",
    "\n",
    "from mlp.models import MultipleLayerModel\n",
    "\n",
    "from mlp.initialisers import ConstantInit, GlorotUniformInit\n",
    "\n",
    "from mlp.optimisers import Optimiser\n",
    "\n",
    "from mlp.learning_rules import GradientDescentLearningRule, MomentumLearningRule, AdamLearningRule, \\\n",
    "    AdaGradLearningRule, RmsPropLearningRule\n",
    "    \n",
    "from mlp.schedulers import AnnealedDropoutScheduler, MomentumCoefficientScheduler, ConstantLearningRateScheduler,\\\n",
    "    ReciprocalLearningRateScheduler, ExponentialLearningRateScheduler"
   ]
  },
  {
   "cell_type": "code",
   "execution_count": 12,
   "metadata": {
    "collapsed": true
   },
   "outputs": [],
   "source": [
    "import matplotlib.pyplot as plt\n",
    "import numpy as np\n",
    "import logging\n",
    "\n",
    "#%matplotlib notebook\n",
    "%matplotlib inline"
   ]
  },
  {
   "cell_type": "code",
   "execution_count": 13,
   "metadata": {
    "collapsed": true
   },
   "outputs": [],
   "source": [
    "# Seed a random number generator\n",
    "seed = 16011984\n",
    "rng = np.random.RandomState(seed)"
   ]
  },
  {
   "cell_type": "code",
   "execution_count": 14,
   "metadata": {
    "collapsed": false
   },
   "outputs": [],
   "source": [
    "weightsInit = GlorotUniformInit(rng=rng)\n",
    "biasesInit = ConstantInit(0.)"
   ]
  },
  {
   "cell_type": "code",
   "execution_count": 15,
   "metadata": {
    "collapsed": false
   },
   "outputs": [],
   "source": [
    "model = MultipleLayerModel([\n",
    "        AffineLayer(100, 100, weightsInit, biasesInit),\n",
    "        ReluLayer(),\n",
    "        AffineLayer(100, 100, weightsInit, biasesInit),\n",
    "        SigmoidLayer()\n",
    "    ])"
   ]
  },
  {
   "cell_type": "code",
   "execution_count": 12,
   "metadata": {
    "collapsed": false
   },
   "outputs": [],
   "source": [
    "acts = model.fprop(np.arange(100))"
   ]
  },
  {
   "cell_type": "code",
   "execution_count": 13,
   "metadata": {
    "collapsed": false
   },
   "outputs": [],
   "source": [
    "# Plot the change in the validation and training set error over training.\n",
    "def plotTrainValidErrorAcc(trainErrs, validErrs, trainAccs, validAccs, x):\n",
    "    fig_1 = plt.figure(figsize=(8, 4))\n",
    "    ax_1 = fig_1.add_subplot(111)\n",
    "    \n",
    "    ax_1.plot(x, trainErrs, label='Training Errors')\n",
    "    ax_1.plot(x, validErrs, label='Testing Errors')\n",
    "    \n",
    "    ax_1.legend(loc=0)\n",
    "    ax_1.set_xlabel('Hidden Layer Dimensionality')\n",
    "\n",
    "    # Plot the change in the validation and training set accuracy over training.\n",
    "    fig_2 = plt.figure(figsize=(8, 4))\n",
    "    ax_2 = fig_2.add_subplot(111)\n",
    "    \n",
    "    ax_2.plot(x, trainAccs, label='Training Accuracies')\n",
    "    ax_2.plot(x, validAccs, label='Testing Accuracies')\n",
    "    \n",
    "    ax_2.legend(loc=0)\n",
    "    ax_2.set_xlabel('Hidden Layer Dimensionality')"
   ]
  },
  {
   "cell_type": "code",
   "execution_count": 1,
   "metadata": {
    "collapsed": false
   },
   "outputs": [],
   "source": [
    "test = {'Final Testing Accuracy': 0.977799999999999,\n",
    " 'Final Testing Error': 0.075975952329264115,\n",
    " 'Final Training Accuracy': 0.99798000000000131,\n",
    " 'Final Training Error': 0.018910997655838327}"
   ]
  },
  {
   "cell_type": "code",
   "execution_count": 3,
   "metadata": {
    "collapsed": true
   },
   "outputs": [],
   "source": [
    "test1 = {'Final Testing Accuracy': 1.977799999999999,\n",
    " 'Final Testing Error': 1.075975952329264115,\n",
    " 'Final Training Accuracy': 1.99798000000000131,\n",
    " 'Final Training Error': 1.018910997655838327}"
   ]
  },
  {
   "cell_type": "code",
   "execution_count": 4,
   "metadata": {
    "collapsed": false
   },
   "outputs": [],
   "source": [
    "tests = [test, test1, test, test1, test]"
   ]
  },
  {
   "cell_type": "code",
   "execution_count": 8,
   "metadata": {
    "collapsed": false
   },
   "outputs": [
    {
     "data": {
      "text/plain": [
       "[0.977799999999999,\n",
       " 1.977799999999999,\n",
       " 0.977799999999999,\n",
       " 1.977799999999999,\n",
       " 0.977799999999999]"
      ]
     },
     "execution_count": 8,
     "metadata": {},
     "output_type": "execute_result"
    }
   ],
   "source": [
    "accuracies = [x['Final Testing Accuracy'] for x in tests]\n",
    "accuracies"
   ]
  },
  {
   "cell_type": "code",
   "execution_count": 9,
   "metadata": {
    "collapsed": false
   },
   "outputs": [
    {
     "data": {
      "text/plain": [
       "[0.07597595232926412,\n",
       " 1.075975952329264,\n",
       " 0.07597595232926412,\n",
       " 1.075975952329264,\n",
       " 0.07597595232926412]"
      ]
     },
     "execution_count": 9,
     "metadata": {},
     "output_type": "execute_result"
    }
   ],
   "source": [
    "errors = [x['Final Testing Error'] for x in tests]\n",
    "errors"
   ]
  },
  {
   "cell_type": "code",
   "execution_count": 18,
   "metadata": {
    "collapsed": false
   },
   "outputs": [
    {
     "data": {
      "image/png": "[encoded data removed]",
      "text/plain": [
       "<matplotlib.figure.Figure at 0x7f7830201110>"
      ]
     },
     "metadata": {},
     "output_type": "display_data"
    }
   ],
   "source": [
    "fig = plt.figure()\n",
    "plt.title('Final Testing Accuracies for various randomly initialized weights')\n",
    "plt.plot(range(len(tests)), accuracies, 'b.-')\n",
    "plt.xlabel('seed of random generator')\n",
    "plt.ylabel('Final Testing Accuracy')\n",
    "plt.show()"
   ]
  },
  {
   "cell_type": "code",
   "execution_count": 19,
   "metadata": {
    "collapsed": false
   },
   "outputs": [
    {
     "data": {
      "image/png": "[encoded data removed]",
      "text/plain": [
       "<matplotlib.figure.Figure at 0x7f782fe15290>"
      ]
     },
     "metadata": {},
     "output_type": "display_data"
    }
   ],
   "source": [
    "fig = plt.figure()\n",
    "plt.title('Final Testing Errors for various randomly initialized weights')\n",
    "plt.plot(range(len(tests)), errors, 'r.-')\n",
    "plt.xlabel('seed of random generator')\n",
    "plt.ylabel('Final Testing Error')\n",
    "plt.show()"
   ]
  },
  {
   "cell_type": "code",
   "execution_count": 20,
   "metadata": {
    "collapsed": true
   },
   "outputs": [],
   "source": [
    "epochs1 = 0"
   ]
  },
  {
   "cell_type": "code",
   "execution_count": 26,
   "metadata": {
    "collapsed": false
   },
   "outputs": [
    {
     "data": {
      "text/plain": [
       "array([ 1.])"
      ]
     },
     "execution_count": 26,
     "metadata": {},
     "output_type": "execute_result"
    }
   ],
   "source": [
    "dummy = np.ones(1)#epochs1)\n",
    "dummy"
   ]
  },
  {
   "cell_type": "code",
   "execution_count": 28,
   "metadata": {
    "collapsed": false
   },
   "outputs": [
    {
     "data": {
      "text/plain": [
       "array([ 0.1       ,  0.10909091,  0.11818182,  0.12727273,  0.13636364,\n",
       "        0.14545455,  0.15454545,  0.16363636,  0.17272727,  0.18181818,\n",
       "        0.19090909,  0.2       ,  0.20909091,  0.21818182,  0.22727273,\n",
       "        0.23636364,  0.24545455,  0.25454545,  0.26363636,  0.27272727,\n",
       "        0.28181818,  0.29090909,  0.3       ,  0.30909091,  0.31818182,\n",
       "        0.32727273,  0.33636364,  0.34545455,  0.35454545,  0.36363636,\n",
       "        0.37272727,  0.38181818,  0.39090909,  0.4       ,  0.40909091,\n",
       "        0.41818182,  0.42727273,  0.43636364,  0.44545455,  0.45454545,\n",
       "        0.46363636,  0.47272727,  0.48181818,  0.49090909,  0.5       ,\n",
       "        0.50909091,  0.51818182,  0.52727273,  0.53636364,  0.54545455,\n",
       "        0.55454545,  0.56363636,  0.57272727,  0.58181818,  0.59090909,\n",
       "        0.6       ,  0.60909091,  0.61818182,  0.62727273,  0.63636364,\n",
       "        0.64545455,  0.65454545,  0.66363636,  0.67272727,  0.68181818,\n",
       "        0.69090909,  0.7       ,  0.70909091,  0.71818182,  0.72727273,\n",
       "        0.73636364,  0.74545455,  0.75454545,  0.76363636,  0.77272727,\n",
       "        0.78181818,  0.79090909,  0.8       ,  0.80909091,  0.81818182,\n",
       "        0.82727273,  0.83636364,  0.84545455,  0.85454545,  0.86363636,\n",
       "        0.87272727,  0.88181818,  0.89090909,  0.9       ,  0.90909091,\n",
       "        0.91818182,  0.92727273,  0.93636364,  0.94545455,  0.95454545,\n",
       "        0.96363636,  0.97272727,  0.98181818,  0.99090909,  1.        ,  1.        ])"
      ]
     },
     "execution_count": 28,
     "metadata": {},
     "output_type": "execute_result"
    }
   ],
   "source": [
    "np.concatenate((test, dummy))"
   ]
  },
  {
   "cell_type": "code",
   "execution_count": 30,
   "metadata": {
    "collapsed": false
   },
   "outputs": [
    {
     "data": {
      "text/plain": [
       "array([], dtype=float64)"
      ]
     },
     "execution_count": 30,
     "metadata": {},
     "output_type": "execute_result"
    }
   ],
   "source": [
    "np.linspace(10, 100, 0)"
   ]
  },
  {
   "cell_type": "code",
   "execution_count": null,
   "metadata": {
    "collapsed": true
   },
   "outputs": [],
   "source": []
  }
 ],
 "metadata": {
  "anaconda-cloud": {},
  "kernelspec": {
   "display_name": "Python [conda env:mlp]",
   "language": "python",
   "name": "conda-env-mlp-py"
  },
  "language_info": {
   "codemirror_mode": {
    "name": "ipython",
    "version": 2
   },
   "file_extension": ".py",
   "mimetype": "text/x-python",
   "name": "python",
   "nbconvert_exporter": "python",
   "pygments_lexer": "ipython2",
   "version": "2.7.12"
  }
 },
 "nbformat": 4,
 "nbformat_minor": 1
}
