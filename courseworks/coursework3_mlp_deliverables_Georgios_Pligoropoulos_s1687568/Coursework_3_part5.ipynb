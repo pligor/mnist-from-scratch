{
 "cells": [
  {
   "cell_type": "markdown",
   "metadata": {},
   "source": [
    "## Genre classification with the Million Song Dataset\n",
    "\n",
    "The [Million Song Dataset](http://labrosa.ee.columbia.edu/millionsong/) is a \n",
    "\n",
    ">  freely-available collection of audio features and metadata for a million contemporary popular music tracks\n",
    "\n",
    "originally collected and compiled by Thierry Bertin-Mahieux, Daniel P.W. Ellis, Brian Whitman, and Paul Lamere.\n",
    "\n",
    "The dataset is intended to encourage development of algorithms in the field of [music information retrieval](https://en.wikipedia.org/wiki/Music_information_retrieval). The [data for each track](http://labrosa.ee.columbia.edu/millionsong/pages/example-track-description) includes both textual features such as artist and album names, numerical descriptors such as duration and various audio features derived using a music analysis platform provided by [The Echo Nest](https://en.wikipedia.org/wiki/The_Echo_Nest) (since acquired by Spotify). Of the various audio features and segmentations included in the full dataset, the most detailed information is included at a 'segment' level: each segment corresponds to an automatically identified 'quasi-stable music event' - roughly contiguous sections of the audio with similar perceptual quality. The number of segments per track is variable and each segment can itself be of variable length - typically they seem to be around 0.2 - 0.4 seconds but can be as long as 10 seconds or more. \n",
    "\n",
    "For each segment of the track various extracted audio features are available - a 12 dimensional vector of [chroma features](https://en.wikipedia.org/wiki/Chroma_feature), a 12 dimensional vector of ['MFCC-like'](https://en.wikipedia.org/wiki/Mel-frequency_cepstrum) timbre features and various measures of the loudness of the segment, including loudness at the segment start and maximum loudness.\n",
    "\n",
    "#### EACH SEGMENT IS REPRESENTED BY THIS:\n",
    "In the version of the data we provide, we include a 25 dimensional vector for each included segment, consisting of the 12 timbre features, 12 chroma features and loudness at start of segment concatenated in that order.\n",
    "\n",
    "#### FEEDFORWARD\n",
    "To allow easier integration in to standard feedforward models, the basic version of the data we provide includes features only for a fixed length crop of the central 120 segments of each track (with tracks with less than 120 segments therefore not being included).  \n",
    "This gives an overall input dimension per track of 120×25=3000.\n",
    "\n",
    "#### ALREADY NORMALIZED\n",
    "Each of the 3000 input dimensions has been been preprocessed by subtracting the per-dimension mean across the training data and dividing by the per-dimension standard deviation across the training data.\n",
    "\n",
    "We provide data providers for the fixed length crops versions of the input features, with the inputs being returned in batches of 3000 dimensional vectors (these can be reshaped to (120, 25) to get the per-segment features). To allow for more complex variable-length sequence modelling with for example recurrent neural networks, we also provide a variable length version of the data. This is only provided as compressed NumPy (`.npz`) data files rather than data provider objects - you will need to write your own data provider if you wish to use this version of the data. As the inputs are of variable number of segments they have been ['bucketed'](https://www.tensorflow.org/tutorials/seq2seq/#bucketing_and_padding) into groups of similar maximum length, with the following binning scheme used:\n",
    "\n",
    "     120 - 250  segments\n",
    "     251 - 500  segments\n",
    "     501 - 650  segments\n",
    "     651 - 800  segments\n",
    "     801 - 950  segments\n",
    "     951 - 1200 segments\n",
    "    1201 - 2000 segments\n",
    "    2000 - 4000 segments\n",
    "    \n",
    "For each bucket the NumPy data files include inputs and targets arrays with second dimension equal to the maximum segment size in the bucket (e.g. 250 for the bucket) and first dimension equal to the number of tracks with number of segments in that bucket. These are named `inputs_{n}` and `targets_{n}` in the data file where `{n}` is the maximal number of segments in the bucket e.g. `inputs_250` and `targets_250` for the first bucket. For tracks with less segments than the maximum size in the bucket, the features for the track have been padded with `NaN` values. For tracks with more segments than the maximum bucket size of 4000, only the first 4000 segments have been included.\n",
    "\n",
    "To allow you to match tracks between the fixed length and variable length datasets, the data files also include an array for each bucket giving the indices of the corresponding track in the fixed length input arrays. For example the array `indices_250` will be an array of the same size as the first dimension of `inputs_250` and `targets_250` with the first element of `indices_250` giving the index into the `inputs` and `targets` array of the fixed length data corresponding to first element of `inputs_250` and `targets_250`.\n",
    "\n",
    "The Million Song Dataset in its original form does not provide any genre labels, however various external groups have proposed genre labels for portions of the data by cross-referencing the track IDs against external music tagging databases. Analagously to the provision of both simpler and more complex classifications tasks for the CIFAR-10 / CIFAR-100 datasets, we provide two classification task datasets derived from the Million Song Dataset - one with 10 coarser level genre classes, and another with 25 finer-grained genre / style classifications.\n",
    "\n",
    "The 10-genre classification task uses the [*CD2C tagtraum genre annotations*](http://www.tagtraum.com/msd_genre_datasets.html) derived from multiple source databases (beaTunes genre dataset, Last.fm dataset, Top-MAGD dataset), with the *CD2C* variant using only non-ambiguous annotations (i.e. not including tracks with multiple genre labels). Of the 15 genre labels provided in the CD2C annotations, 5 (World, Latin, Punk, Folk and New Age) were not included due to having fewer than 5000 examples available. This left 10 remaining genre classes:\n",
    "\n",
    "    Rap\n",
    "    Rock\n",
    "    RnB\n",
    "    Electronic\n",
    "    Metal\n",
    "    Blues\n",
    "    Pop\n",
    "    Jazz\n",
    "    Country\n",
    "    Reggae\n",
    "\n",
    "For each of these 10 classes, 5000 labelled examples have been collected for training / validation (i.e. 50000 example in total) and a further 1000 example per class for testing, with the exception of the `Blues` class for which only 991 testing examples are provided due to there being insufficient labelled tracks of the minimum required length (i.e. a total of 9991 test examples). \n",
    "\n",
    "The 9991 test set examples have labels provided: however to avoid any accidental over-fitting to the test set **you should only use these for the final evaluation of your model(s)**. If you repeatedly evaluate models on the test set during model development it is easy to end up indirectly fitting to the test labels - for those who have not already read it see this [excellent cautionary note int the MLPR notes by Iain Murray](http://www.inf.ed.ac.uk/teaching/courses/mlpr/2016/notes/w2a_train_test_val.html#warning-dont-fool-yourself-or-make-a-fool-of-yourself). \n",
    "\n",
    "\n",
    "The 25-genre classification tasks uses the [*MSD Allmusic Style Dataset*](http://www.ifs.tuwien.ac.at/mir/msd/MASD.html) labels derived from the [AllMusic.com](http://www.allmusic.com/) database by [Alexander Schindler, Rudolf Mayer and Andreas Rauber of Vienna University of Technology](http://www.ifs.tuwien.ac.at/~schindler/pubs/ISMIR2012.pdf). The 25 genre / style labels used are:\n",
    "\n",
    "    Big Band\n",
    "    Blues Contemporary\n",
    "    Country Traditional\n",
    "    Dance\n",
    "    Electronica\n",
    "    Experimental\n",
    "    Folk International\n",
    "    Gospel\n",
    "    Grunge Emo\n",
    "    Hip Hop Rap\n",
    "    Jazz Classic\n",
    "    Metal Alternative\n",
    "    Metal Death\n",
    "    Metal Heavy\n",
    "    Pop Contemporary\n",
    "    Pop Indie\n",
    "    Pop Latin\n",
    "    Punk\n",
    "    Reggae\n",
    "    RnB Soul\n",
    "    Rock Alternative\n",
    "    Rock College\n",
    "    Rock Contemporary\n",
    "    Rock Hard\n",
    "    Rock Neo Psychedelia\n",
    "    \n",
    "For each of these 25 classes, 2000 labelled examples have been collected for training / validation (i.e. 50000 example in total). A further 400 example per class have been collected for testing (i.e. 10000 examples in total), which you are provided inputs but not targets for. The optional Kaggle competition being run for this dataset (see email) is scored based on the 25-genre class label predictions on these unlabelled test inputs. \n",
    "\n",
    "The tracks used for the 25-genre classification task only partially overlap with those used for the 10-genre classification task and we do not provide any mapping between the two.\n",
    "\n",
    "For each of the two tasks, the 50000 examples collected for training have been pre-split in to a 40000 example training dataset and a 10000 example validation dataset. If you wish to use a more complex cross-fold validation scheme you may want to combine these two portions of the dataset and define your own functions / classes for separating out a validation set.\n",
    "\n",
    "Data provider classes for both fixed length input data for the 10 and 25 genre classification tasks in the `mlp.data_providers` module as `MSD10GenreDataProvider` and `MSD25GenreDataProvider`. Both have similar behaviour to the `MNISTDataProvider` used extensively last semester. A `which_set` argument can be used to specify whether to return a data provided for the training dataset (`which_set='train'`) or validation dataset (`which_set='valid'`).  Both data provider classes provide a `label_map` attribute which is a list of strings which are the class labels corresponding to the integer targets (i.e. prior to conversion to a 1-of-K encoded binary vector).\n",
    "\n",
    "The test dataset files for the 10 genre classification task are provided as two separate NumPy data files `msd-10-genre-test-inputs.npz` and `msd-10-genre-test-targets.npz`. These can be loaded using [`np.load`](https://docs.scipy.org/doc/numpy/reference/generated/numpy.load.html) function. The inputs are stored as a $10000\\times3000$ array under the key `inputs` in the file `msd-10-genre-test-inputs.npz` and the targets in a 10000 element array of integer labels under the key `targets` in `msd-10-genre-test-targets.npz`. A corresponding `msd-25-genre-test-inputs.npz` file is provided for the 25 genre task inputs."
   ]
  },
  {
   "cell_type": "markdown",
   "metadata": {},
   "source": [
    "### Accessing the Million Song Dataset data\n",
    "\n",
    "Before using the data provider objects you will need to make sure the data files are accessible to the `mlp` package by existing under the directory specified by the `MLP_DATA_DIR` path.\n",
    "\n",
    "The fixed length input data and associated targets is available as compressed NumPy `.npz` files\n",
    "\n",
    "    msd-10-genre-train.npz          210MB\n",
    "    msd-10-genre-valid.npz           53MB\n",
    "    msd-10-genre-test-inputs.npz     53MB\n",
    "    msd-10-genre-test-targets.npz   5.2KB\n",
    "    msd-25-genre-train.npz          210MB\n",
    "    msd-25-genre-valid.npz           53MB\n",
    "    msd-25-genre-test-inputs.npz     53MB\n",
    "\n",
    "in the AFS directory `/afs/inf.ed.ac.uk/group/teaching/mlp/data`.\n",
    "\n",
    "If you are working on DICE one option is to redefine your `MLP_DATA_DIR` to directly point to the shared AFS data directory by editing the `env_vars.sh` start up file for your environment. This will avoid using up your DICE quota by storing the data files in your homespace but may involve slower initial loading of the data on initialising the data providers if many people are trying access the same files at once. The environment variable can be redefined by running\n",
    "\n",
    "```\n",
    "gedit ~/miniconda2/envs/mlp/etc/conda/activate.d/env_vars.sh\n",
    "```\n",
    "\n",
    "in a terminal window (assuming you installed `miniconda2` to your home directory), and changing the line\n",
    "\n",
    "```\n",
    "export MLP_DATA_DIR=$HOME/mlpractical/data\n",
    "```\n",
    "\n",
    "to\n",
    "\n",
    "```\n",
    "export MLP_DATA_DIR=\"/afs/inf.ed.ac.uk/group/teaching/mlp/data\"\n",
    "```\n",
    "\n",
    "and then saving and closing the editor. You will need reload the `mlp` environment using `source activate mlp` and restart the Jupyter notebook server in the reloaded environment for the new environment variable definition to be available.\n",
    "\n",
    "For those working on DICE who have sufficient quota remaining or those using there own machine, an alternative option is to copy the data files in to your local `mlp/data` directory (or wherever your `MLP_DATA_DIR` environment variable currently points to if different). \n",
    "\n",
    "\n",
    "Assuming your local `mlpractical` repository is in your home directory you should be able to copy the required files on DICE by running\n",
    "\n",
    "```\n",
    "cp /afs/inf.ed.ac.uk/group/teaching/mlp/data/msd-*-train.npz ~/mlpractical/data\n",
    "cp /afs/inf.ed.ac.uk/group/teaching/mlp/data/msd-*-valid.npz ~/mlpractical/data\n",
    "cp /afs/inf.ed.ac.uk/group/teaching/mlp/data/msd-*-test-*.npz ~/mlpractical/data\n",
    "```\n",
    "\n",
    "On a non-DICE machine, you will need to either [set up local access to AFS](http://computing.help.inf.ed.ac.uk/informatics-filesystem), use a remote file transfer client like `scp` or you can alternatively download the files using the iFile web interface [here](https://ifile.inf.ed.ac.uk/?path=%2Fafs%2Finf.ed.ac.uk%2Fgroup%2Fteaching%2Fmlp%2Fdata&goChange=Go) (requires DICE credentials).\n",
    "\n",
    "As some of the files are quite large you may wish to copy only those you are using (e.g. only the files for one of the two tasks) to your local filespace to avoid filling up your quota. The `msd-25-genre-test-inputs.npz` files will only be needed by those intending to enter the associated optional Kaggle competition.\n",
    "\n",
    "In addition to the fixed length input files there are also corresponding files with the variable length input data in the same AFS directory\n",
    "\n",
    "    msd-10-genre-train-var-length.npz          1.6GB\n",
    "    msd-10-genre-valid-var-length.npz          403MB\n",
    "    msd-10-genre-test-inputs-var-length.npz    403MB\n",
    "    msd-10-genre-test-targets-var-length.npz   3.1KB\n",
    "    msd-25-genre-train-var-length.npz          1.5GB\n",
    "    msd-25-genre-valid-var-length.npz          367MB\n",
    "    msd-25-genre-test-inputs-var-length.npz    363MB\n",
    "    \n",
    "As you can see some of these files, particularly the training sets, are very large so you will need to be careful if copying to your filespace to make sure you have sufficient quota available."
   ]
  },
  {
   "cell_type": "code",
   "execution_count": 1,
   "metadata": {
    "collapsed": false
   },
   "outputs": [
    {
     "data": {
      "text/plain": [
       "[u'/gpu:0']"
      ]
     },
     "execution_count": 1,
     "metadata": {},
     "output_type": "execute_result"
    }
   ],
   "source": [
    "from tensorflow.python.client import device_lib\n",
    "\n",
    "def get_available_gpus():\n",
    "    local_device_protos = device_lib.list_local_devices()\n",
    "    return [x.name for x in local_device_protos if x.device_type == 'GPU']\n",
    "\n",
    "get_available_gpus()"
   ]
  },
  {
   "cell_type": "markdown",
   "metadata": {},
   "source": [
    "### Imports, Inits, and helper functions"
   ]
  },
  {
   "cell_type": "code",
   "execution_count": 2,
   "metadata": {
    "collapsed": true
   },
   "outputs": [],
   "source": [
    "import sys\n",
    "mlpdir = '/home/student/Dropbox/msc_Artificial_Intelligence/mlp_Machine_Learning_Practical/mlpractical'\n",
    "sys.path.append(mlpdir)"
   ]
  },
  {
   "cell_type": "code",
   "execution_count": 3,
   "metadata": {
    "collapsed": false
   },
   "outputs": [],
   "source": [
    "from mylibs.jupyter_notebook_helper import show_graph\n",
    "import datetime\n",
    "import os\n",
    "import time\n",
    "import tensorflow as tf\n",
    "import numpy as np\n",
    "from mlp.data_providers import MSD10GenreDataProvider, MSD25GenreDataProvider, MSD10Genre_Autoencoder_DataProvider,\\\n",
    "    MSD10Genre_StackedAutoEncoderDataProvider, MSD25Genre_StackedAutoEncoderDataProvider\n",
    "import matplotlib.pyplot as plt\n",
    "%matplotlib inline"
   ]
  },
  {
   "cell_type": "code",
   "execution_count": 4,
   "metadata": {
    "collapsed": false
   },
   "outputs": [],
   "source": [
    "from mylibs.jupyter_notebook_helper import getRunTime, getTrainWriter, getValidWriter, plotStats, initStats,\\\n",
    "    gatherStats"
   ]
  },
  {
   "cell_type": "code",
   "execution_count": 5,
   "metadata": {
    "collapsed": true
   },
   "outputs": [],
   "source": [
    "from mylibs.tf_helper import tfRMSE, tfMSE, fully_connected_layer, trainEpoch, validateEpoch"
   ]
  },
  {
   "cell_type": "code",
   "execution_count": 6,
   "metadata": {
    "collapsed": true
   },
   "outputs": [],
   "source": [
    "from mylibs.py_helper import merge_dicts"
   ]
  },
  {
   "cell_type": "code",
   "execution_count": 7,
   "metadata": {
    "collapsed": true
   },
   "outputs": [],
   "source": [
    "from mylibs.batch_norm import batchNormWrapper_byExponentialMovingAvg, fully_connected_layer_with_batch_norm"
   ]
  },
  {
   "cell_type": "code",
   "execution_count": 8,
   "metadata": {
    "collapsed": true
   },
   "outputs": [],
   "source": [
    "from mylibs.stacked_autoencoder_pretrainer import constructModelFromPretrainedByAutoEncoderStack,\\\n",
    "    buildGraphOfStackedAutoencoder, executeNonLinearAutoencoder"
   ]
  },
  {
   "cell_type": "code",
   "execution_count": 9,
   "metadata": {
    "collapsed": true
   },
   "outputs": [],
   "source": [
    "seed = 16011984\n",
    "rng = np.random.RandomState(seed=seed)"
   ]
  },
  {
   "cell_type": "code",
   "execution_count": 10,
   "metadata": {
    "collapsed": true
   },
   "outputs": [],
   "source": [
    "config = tf.ConfigProto(log_device_placement=True, allow_soft_placement=True)\n",
    "config.gpu_options.allow_growth = True"
   ]
  },
  {
   "cell_type": "code",
   "execution_count": 11,
   "metadata": {
    "collapsed": true
   },
   "outputs": [],
   "source": [
    "tensorboardLogdir = 'tf_cw3_5'"
   ]
  },
  {
   "cell_type": "code",
   "execution_count": 12,
   "metadata": {
    "collapsed": true
   },
   "outputs": [],
   "source": [
    "curDtype = tf.float32"
   ]
  },
  {
   "cell_type": "code",
   "execution_count": 13,
   "metadata": {
    "collapsed": true
   },
   "outputs": [],
   "source": [
    "reluBias = 0.1"
   ]
  },
  {
   "cell_type": "code",
   "execution_count": 14,
   "metadata": {
    "collapsed": true
   },
   "outputs": [],
   "source": [
    "figcount = 0"
   ]
  },
  {
   "cell_type": "code",
   "execution_count": 40,
   "metadata": {
    "collapsed": true
   },
   "outputs": [],
   "source": [
    "def constructProbs(keep_probs, cur_input_prob, cur_hidden_prob):\n",
    "    keep_prob_dict = {keep_probs[0]: cur_input_prob}\n",
    "    \n",
    "    for i in range(1, len(keep_probs)):\n",
    "        keep_prob_dict[keep_probs[i]] = cur_hidden_prob\n",
    "        \n",
    "    return keep_prob_dict"
   ]
  },
  {
   "cell_type": "markdown",
   "metadata": {},
   "source": [
    "### MSD 25-genre task"
   ]
  },
  {
   "cell_type": "markdown",
   "metadata": {},
   "source": [
    "For MSD-25 we will follow the same protocol as we did for MSD-10 but we will use a deeper architecture since we expect that a more rich model will be needed to represent the 25 genres"
   ]
  },
  {
   "cell_type": "markdown",
   "metadata": {},
   "source": [
    "### Stacked Autoencoder Pretraining"
   ]
  },
  {
   "cell_type": "code",
   "execution_count": 15,
   "metadata": {
    "collapsed": false
   },
   "outputs": [
    {
     "data": {
      "text/plain": [
       "array([1000,  860,  721,  582,  442,  303,  164,   25])"
      ]
     },
     "execution_count": 15,
     "metadata": {},
     "output_type": "execute_result"
    }
   ],
   "source": [
    "hidden_dims = np.linspace(1000, 25, 8).astype(int)\n",
    "hidden_dims"
   ]
  },
  {
   "cell_type": "code",
   "execution_count": 16,
   "metadata": {
    "collapsed": false
   },
   "outputs": [],
   "source": [
    "filename = 'pretrained25ModelVars.npz'\n",
    "\n",
    "if not os.path.isfile(filename):\n",
    "    modelVars = constructModelFromPretrainedByAutoEncoderStack(hidden_dims,\n",
    "                                                               autoencoder= executeNonLinearAutoencoder,\n",
    "                                                               rng=rng,\n",
    "                                                               config=config,\n",
    "                                                               dataProviderClass= MSD25Genre_StackedAutoEncoderDataProvider)\n",
    "\n",
    "    np.savez(filename, modelVars)\n",
    "\n",
    "else:\n",
    "    modelVars = np.load(filename)\n",
    "    modelVars = modelVars[modelVars.keys()[0]]"
   ]
  },
  {
   "cell_type": "markdown",
   "metadata": {},
   "source": [
    "### Batch Normalization and Dynamic Dropout"
   ]
  },
  {
   "cell_type": "code",
   "execution_count": 17,
   "metadata": {
    "collapsed": true
   },
   "outputs": [],
   "source": [
    "train_data = MSD25GenreDataProvider('train', batch_size=50)\n",
    "valid_data = MSD25GenreDataProvider('valid', batch_size=50)"
   ]
  },
  {
   "cell_type": "code",
   "execution_count": 18,
   "metadata": {
    "collapsed": false
   },
   "outputs": [
    {
     "data": {
      "text/plain": [
       "(40000, 10000)"
      ]
     },
     "execution_count": 18,
     "metadata": {},
     "output_type": "execute_result"
    }
   ],
   "source": [
    "len(train_data.inputs), len(valid_data.inputs)"
   ]
  },
  {
   "cell_type": "code",
   "execution_count": 19,
   "metadata": {
    "collapsed": false
   },
   "outputs": [
    {
     "data": {
      "text/plain": [
       "array([1000,  860,  721,  582,  442,  303,  164,   25])"
      ]
     },
     "execution_count": 19,
     "metadata": {},
     "output_type": "execute_result"
    }
   ],
   "source": [
    "hidden_dims = np.linspace(1000, 25, 8).astype(int)\n",
    "hidden_dims"
   ]
  },
  {
   "cell_type": "code",
   "execution_count": 20,
   "metadata": {
    "collapsed": false
   },
   "outputs": [
    {
     "name": "stdout",
     "output_type": "stream",
     "text": [
      "[1000  860  721  582  442  303  164   25]\n"
     ]
    }
   ],
   "source": [
    "#tf.reset_default_graph() #kind of redundant statement\n",
    "learningRate = 1e-3 #default of Adam is 1e-3\n",
    "\n",
    "graph = tf.Graph() #create new graph\n",
    "\n",
    "hidden_layers = []\n",
    "keep_probs = []\n",
    "\n",
    "with graph.as_default(), tf.device('/gpu:0'):\n",
    "    with tf.name_scope('data'):\n",
    "        inputs = tf.placeholder(curDtype, [None, train_data.inputs.shape[1]], 'inputs')\n",
    "        targets = tf.placeholder(curDtype, [None, train_data.num_classes], 'targets')\n",
    "    \n",
    "    with tf.name_scope('params'):\n",
    "        training = tf.placeholder(tf.bool, name=\"training\")\n",
    "    \n",
    "    \n",
    "    with tf.name_scope(\"dropout0\"):\n",
    "        keep_probs.append(tf.placeholder(tf.float32))\n",
    "        inputs_prob = tf.nn.dropout(inputs, keep_probs[0])\n",
    "    \n",
    "    with tf.name_scope('fullyConnected0'):\n",
    "        hidden_layers.append(\n",
    "            fully_connected_layer_with_batch_norm(0, inputs_prob,\n",
    "                                                  train_data.inputs.shape[1], hidden_dims[0],\n",
    "                                                  nonlinearity= tf.nn.tanh,\n",
    "                                                  training=training,\n",
    "                                                  w = modelVars[0][0], b = modelVars[0][1])\n",
    "        )\n",
    "    \n",
    "    for i in range(1, len(hidden_dims)-1):\n",
    "        with tf.name_scope(\"dropout%d\" % i):\n",
    "            keep_probs.append(tf.placeholder(tf.float32))\n",
    "            cur_hidden_layer_prob = tf.nn.dropout(hidden_layers[i-1], keep_probs[i])\n",
    "        \n",
    "        with tf.name_scope('fullyConnected%d' % i):\n",
    "            hidden_layers.append(\n",
    "                fully_connected_layer_with_batch_norm(i, cur_hidden_layer_prob,\n",
    "                                      hidden_dims[i-1], hidden_dims[i],\n",
    "                                      nonlinearity= tf.nn.tanh,\n",
    "                                      training=training,\n",
    "                                      w=modelVars[i][0], b=modelVars[i][1])\n",
    "            )\n",
    "    \n",
    "    finalIndex = len(hidden_dims)-1\n",
    "    assert hidden_dims[-1] == train_data.num_classes\n",
    "    \n",
    "    with tf.name_scope(\"dropout%d\" % finalIndex):\n",
    "        keep_probs.append(tf.placeholder(tf.float32))\n",
    "        final_hidden_layer_prob = tf.nn.dropout(hidden_layers[-1], keep_probs[-1])\n",
    "\n",
    "    with tf.name_scope('readout_output_layer'):\n",
    "        outputs = fully_connected_layer_with_batch_norm(finalIndex, final_hidden_layer_prob,\n",
    "                                        hidden_dims[-2], train_data.num_classes,\n",
    "                                        training=training,\n",
    "                                        w=modelVars[-1][0], b=modelVars[-1][1],\n",
    "                                        nonlinearity=tf.identity)\n",
    "\n",
    "    with tf.name_scope('error'):\n",
    "        error = tf.reduce_mean(tf.nn.softmax_cross_entropy_with_logits(outputs, targets))\n",
    "\n",
    "    with tf.name_scope('accuracy'):\n",
    "        accuracy = tf.reduce_mean(tf.cast(tf.equal(tf.argmax(outputs, 1), tf.argmax(targets, 1)), dtype=curDtype))\n",
    "\n",
    "    with tf.name_scope('train'):\n",
    "        train_step = tf.train.AdamOptimizer(learning_rate=learningRate).minimize(error)\n",
    "\n",
    "    init = tf.global_variables_initializer()\n",
    "    \n",
    "print hidden_dims"
   ]
  },
  {
   "cell_type": "code",
   "execution_count": 21,
   "metadata": {
    "collapsed": false
   },
   "outputs": [],
   "source": [
    "#show_graph(graph)"
   ]
  },
  {
   "cell_type": "code",
   "execution_count": 30,
   "metadata": {
    "collapsed": false,
    "scrolled": true
   },
   "outputs": [
    {
     "name": "stdout",
     "output_type": "stream",
     "text": [
      "curInputProb: 0.50, curHiddenProb: 0.50\n",
      "End epoch 01 (37.48 secs): err(train)=2.98, acc(train)=0.112, err(valid)=2.85, acc(valid)=0.154, \n",
      "prevValidError: 7.14\n",
      "curInputProb: 0.55, curHiddenProb: 0.59\n",
      "End epoch 02 (36.52 secs): err(train)=2.80, acc(train)=0.155, err(valid)=2.76, acc(valid)=0.173, \n",
      "prevValidError: 5.39\n",
      "curInputProb: 0.60, curHiddenProb: 0.68\n",
      "End epoch 03 (36.37 secs): err(train)=2.73, acc(train)=0.177, err(valid)=2.72, acc(valid)=0.185, \n",
      "prevValidError: 4.32\n",
      "curInputProb: 0.65, curHiddenProb: 0.77\n",
      "End epoch 04 (36.46 secs): err(train)=2.69, acc(train)=0.190, err(valid)=2.70, acc(valid)=0.191, \n",
      "prevValidError: 3.67\n",
      "curInputProb: 0.70, curHiddenProb: 0.86\n",
      "End epoch 05 (37.58 secs): err(train)=2.65, acc(train)=0.200, err(valid)=2.69, acc(valid)=0.188, \n",
      "prevValidError: 3.28\n",
      "curInputProb: 0.75, curHiddenProb: 0.95\n",
      "End epoch 06 (36.59 secs): err(train)=2.61, acc(train)=0.212, err(valid)=2.69, acc(valid)=0.190, \n",
      "prevValidError: 3.04\n",
      "curInputProb: 0.80, curHiddenProb: 1.00\n",
      "End epoch 07 (35.91 secs): err(train)=2.56, acc(train)=0.223, err(valid)=2.69, acc(valid)=0.194, \n",
      "prevValidError: 2.90\n",
      "curInputProb: 0.85, curHiddenProb: 1.00\n",
      "End epoch 08 (36.02 secs): err(train)=2.53, acc(train)=0.236, err(valid)=2.70, acc(valid)=0.194, \n",
      "prevValidError: 2.82\n",
      "curInputProb: 0.90, curHiddenProb: 1.00\n",
      "End epoch 09 (36.55 secs): err(train)=2.47, acc(train)=0.252, err(valid)=2.72, acc(valid)=0.197, \n",
      "prevValidError: 2.78\n",
      "curInputProb: 0.95, curHiddenProb: 1.00\n",
      "End epoch 10 (39.03 secs): err(train)=2.39, acc(train)=0.275, err(valid)=2.75, acc(valid)=0.190, \n",
      "prevValidError: 2.77\n",
      "curInputProb: 1.00, curHiddenProb: 1.00\n",
      "End epoch 11 (39.23 secs): err(train)=2.27, acc(train)=0.310, err(valid)=2.81, acc(valid)=0.186, \n",
      "prevValidError: 2.79\n",
      "curInputProb: 0.90, curHiddenProb: 0.82\n",
      "End epoch 12 (35.73 secs): err(train)=2.25, acc(train)=0.315, err(valid)=2.85, acc(valid)=0.193, \n",
      "prevValidError: 2.81\n",
      "curInputProb: 0.80, curHiddenProb: 0.64\n",
      "End epoch 13 (35.87 secs): err(train)=2.31, acc(train)=0.298, err(valid)=2.83, acc(valid)=0.203, \n",
      "prevValidError: 2.82\n",
      "curInputProb: 0.70, curHiddenProb: 0.46\n",
      "End epoch 14 (35.85 secs): err(train)=2.43, acc(train)=0.264, err(valid)=2.77, acc(valid)=0.206, \n",
      "prevValidError: 2.80\n",
      "curInputProb: 0.75, curHiddenProb: 0.55\n",
      "End epoch 15 (35.78 secs): err(train)=2.32, acc(train)=0.297, err(valid)=2.76, acc(valid)=0.205, \n",
      "prevValidError: 2.78\n",
      "curInputProb: 0.80, curHiddenProb: 0.64\n",
      "End epoch 16 (35.77 secs): err(train)=2.21, acc(train)=0.324, err(valid)=2.78, acc(valid)=0.203, \n",
      "prevValidError: 2.78\n",
      "curInputProb: 0.85, curHiddenProb: 0.73\n",
      "End epoch 17 (35.72 secs): err(train)=2.07, acc(train)=0.363, err(valid)=2.82, acc(valid)=0.201, \n",
      "prevValidError: 2.80\n",
      "curInputProb: 0.75, curHiddenProb: 0.55\n",
      "End epoch 18 (35.87 secs): err(train)=2.23, acc(train)=0.321, err(valid)=2.81, acc(valid)=0.207, \n",
      "prevValidError: 2.80\n",
      "curInputProb: 0.65, curHiddenProb: 0.37\n",
      "End epoch 19 (35.88 secs): err(train)=2.44, acc(train)=0.268, err(valid)=2.74, acc(valid)=0.218, \n",
      "prevValidError: 2.78\n",
      "curInputProb: 0.70, curHiddenProb: 0.46\n",
      "End epoch 20 (35.92 secs): err(train)=2.30, acc(train)=0.303, err(valid)=2.74, acc(valid)=0.211, \n",
      "prevValidError: 2.76\n",
      "curInputProb: 0.75, curHiddenProb: 0.55\n",
      "End epoch 21 (35.99 secs): err(train)=2.17, acc(train)=0.339, err(valid)=2.76, acc(valid)=0.208, \n",
      "prevValidError: 2.76\n",
      "curInputProb: 0.80, curHiddenProb: 0.64\n",
      "End epoch 22 (35.85 secs): err(train)=2.03, acc(train)=0.376, err(valid)=2.85, acc(valid)=0.199, \n",
      "prevValidError: 2.80\n",
      "curInputProb: 0.70, curHiddenProb: 0.46\n",
      "End epoch 23 (35.88 secs): err(train)=2.25, acc(train)=0.313, err(valid)=2.79, acc(valid)=0.213, \n",
      "prevValidError: 2.80\n",
      "curInputProb: 0.75, curHiddenProb: 0.55\n",
      "End epoch 24 (35.94 secs): err(train)=2.10, acc(train)=0.356, err(valid)=2.81, acc(valid)=0.201, \n",
      "prevValidError: 2.80\n",
      "curInputProb: 0.65, curHiddenProb: 0.37\n",
      "End epoch 25 (36.08 secs): err(train)=2.37, acc(train)=0.287, err(valid)=2.76, acc(valid)=0.210, \n",
      "prevValidError: 2.79\n",
      "curInputProb: 0.70, curHiddenProb: 0.46\n",
      "End epoch 26 (39.27 secs): err(train)=2.22, acc(train)=0.323, err(valid)=2.76, acc(valid)=0.214, \n",
      "prevValidError: 2.78\n",
      "curInputProb: 0.75, curHiddenProb: 0.55\n",
      "End epoch 27 (36.55 secs): err(train)=2.06, acc(train)=0.366, err(valid)=2.81, acc(valid)=0.209, \n",
      "prevValidError: 2.79\n",
      "curInputProb: 0.65, curHiddenProb: 0.37\n",
      "End epoch 28 (35.79 secs): err(train)=2.35, acc(train)=0.289, err(valid)=2.74, acc(valid)=0.217, \n",
      "prevValidError: 2.77\n",
      "curInputProb: 0.70, curHiddenProb: 0.46\n",
      "End epoch 29 (35.80 secs): err(train)=2.19, acc(train)=0.331, err(valid)=2.77, acc(valid)=0.213, \n",
      "prevValidError: 2.77\n",
      "curInputProb: 0.75, curHiddenProb: 0.55\n",
      "End epoch 30 (35.75 secs): err(train)=2.02, acc(train)=0.376, err(valid)=2.82, acc(valid)=0.206, \n",
      "prevValidError: 2.79\n",
      "curInputProb: 0.65, curHiddenProb: 0.37\n",
      "End epoch 31 (35.74 secs): err(train)=2.32, acc(train)=0.298, err(valid)=2.77, acc(valid)=0.214, \n",
      "prevValidError: 2.78\n",
      "curInputProb: 0.70, curHiddenProb: 0.46\n",
      "End epoch 32 (35.75 secs): err(train)=2.16, acc(train)=0.345, err(valid)=2.78, acc(valid)=0.212, \n",
      "prevValidError: 2.78\n",
      "curInputProb: 0.60, curHiddenProb: 0.28\n",
      "End epoch 33 (35.74 secs): err(train)=2.49, acc(train)=0.257, err(valid)=2.71, acc(valid)=0.218, \n",
      "prevValidError: 2.75\n",
      "curInputProb: 0.65, curHiddenProb: 0.37\n",
      "End epoch 34 (35.74 secs): err(train)=2.30, acc(train)=0.304, err(valid)=2.70, acc(valid)=0.218, \n",
      "prevValidError: 2.73\n",
      "curInputProb: 0.70, curHiddenProb: 0.46\n",
      "End epoch 35 (35.79 secs): err(train)=2.13, acc(train)=0.345, err(valid)=2.76, acc(valid)=0.211, \n",
      "prevValidError: 2.74\n",
      "curInputProb: 0.60, curHiddenProb: 0.28\n",
      "End epoch 36 (35.79 secs): err(train)=2.48, acc(train)=0.258, err(valid)=2.71, acc(valid)=0.218, \n",
      "prevValidError: 2.73\n",
      "curInputProb: 0.65, curHiddenProb: 0.37\n",
      "End epoch 37 (35.80 secs): err(train)=2.29, acc(train)=0.306, err(valid)=2.70, acc(valid)=0.218, \n",
      "prevValidError: 2.72\n",
      "curInputProb: 0.70, curHiddenProb: 0.46\n",
      "End epoch 38 (36.38 secs): err(train)=2.12, acc(train)=0.353, err(valid)=2.75, acc(valid)=0.208, \n",
      "prevValidError: 2.73\n",
      "curInputProb: 0.60, curHiddenProb: 0.28\n",
      "End epoch 39 (35.69 secs): err(train)=2.47, acc(train)=0.261, err(valid)=2.72, acc(valid)=0.219, \n",
      "prevValidError: 2.72\n",
      "curInputProb: 0.65, curHiddenProb: 0.37\n",
      "End epoch 40 (36.23 secs): err(train)=2.28, acc(train)=0.308, err(valid)=2.70, acc(valid)=0.217, \n",
      "prevValidError: 2.72\n",
      "curInputProb: 0.70, curHiddenProb: 0.46\n",
      "End epoch 41 (35.69 secs): err(train)=2.12, acc(train)=0.356, err(valid)=2.75, acc(valid)=0.215, \n",
      "prevValidError: 2.73\n",
      "curInputProb: 0.60, curHiddenProb: 0.28\n",
      "End epoch 42 (35.80 secs): err(train)=2.47, acc(train)=0.263, err(valid)=2.72, acc(valid)=0.219, \n",
      "prevValidError: 2.72\n",
      "curInputProb: 0.65, curHiddenProb: 0.37\n",
      "End epoch 43 (35.75 secs): err(train)=2.27, acc(train)=0.313, err(valid)=2.70, acc(valid)=0.216, \n",
      "prevValidError: 2.72\n",
      "curInputProb: 0.70, curHiddenProb: 0.46\n",
      "End epoch 44 (35.71 secs): err(train)=2.10, acc(train)=0.355, err(valid)=2.76, acc(valid)=0.209, \n",
      "prevValidError: 2.73\n",
      "curInputProb: 0.60, curHiddenProb: 0.28\n",
      "End epoch 45 (35.76 secs): err(train)=2.46, acc(train)=0.265, err(valid)=2.72, acc(valid)=0.217, \n",
      "prevValidError: 2.73\n",
      "curInputProb: 0.65, curHiddenProb: 0.37\n",
      "End epoch 46 (35.77 secs): err(train)=2.26, acc(train)=0.314, err(valid)=2.71, acc(valid)=0.216, \n",
      "prevValidError: 2.72\n",
      "curInputProb: 0.70, curHiddenProb: 0.46\n",
      "End epoch 47 (35.67 secs): err(train)=2.09, acc(train)=0.356, err(valid)=2.77, acc(valid)=0.213, \n",
      "prevValidError: 2.74\n",
      "curInputProb: 0.60, curHiddenProb: 0.28\n",
      "End epoch 48 (35.78 secs): err(train)=2.45, acc(train)=0.268, err(valid)=2.71, acc(valid)=0.222, \n",
      "prevValidError: 2.73\n",
      "curInputProb: 0.65, curHiddenProb: 0.37\n",
      "End epoch 49 (35.72 secs): err(train)=2.25, acc(train)=0.317, err(valid)=2.71, acc(valid)=0.221, \n",
      "prevValidError: 2.72\n",
      "curInputProb: 0.70, curHiddenProb: 0.46\n",
      "End epoch 50 (35.71 secs): err(train)=2.08, acc(train)=0.363, err(valid)=2.76, acc(valid)=0.216, \n",
      "prevValidError: 2.74\n",
      "curInputProb: 0.60, curHiddenProb: 0.28\n",
      "End epoch 51 (35.75 secs): err(train)=2.45, acc(train)=0.271, err(valid)=2.72, acc(valid)=0.218, \n",
      "prevValidError: 2.73\n",
      "curInputProb: 0.65, curHiddenProb: 0.37\n",
      "End epoch 52 (35.78 secs): err(train)=2.24, acc(train)=0.317, err(valid)=2.71, acc(valid)=0.222, \n",
      "prevValidError: 2.72\n",
      "curInputProb: 0.70, curHiddenProb: 0.46\n",
      "End epoch 53 (35.72 secs): err(train)=2.06, acc(train)=0.368, err(valid)=2.77, acc(valid)=0.215, \n",
      "prevValidError: 2.74\n",
      "curInputProb: 0.60, curHiddenProb: 0.28\n",
      "End epoch 54 (35.76 secs): err(train)=2.45, acc(train)=0.269, err(valid)=2.73, acc(valid)=0.221, \n",
      "prevValidError: 2.74\n",
      "curInputProb: 0.65, curHiddenProb: 0.37\n",
      "End epoch 55 (36.93 secs): err(train)=2.23, acc(train)=0.325, err(valid)=2.72, acc(valid)=0.220, \n",
      "prevValidError: 2.73\n",
      "curInputProb: 0.70, curHiddenProb: 0.46\n",
      "End epoch 56 (35.86 secs): err(train)=2.04, acc(train)=0.373, err(valid)=2.79, acc(valid)=0.212, \n",
      "prevValidError: 2.75\n",
      "curInputProb: 0.60, curHiddenProb: 0.28\n",
      "End epoch 57 (35.89 secs): err(train)=2.44, acc(train)=0.272, err(valid)=2.72, acc(valid)=0.219, \n",
      "prevValidError: 2.74\n",
      "curInputProb: 0.65, curHiddenProb: 0.37\n",
      "End epoch 58 (35.80 secs): err(train)=2.21, acc(train)=0.328, err(valid)=2.73, acc(valid)=0.219, \n",
      "prevValidError: 2.73\n",
      "curInputProb: 0.70, curHiddenProb: 0.46\n",
      "End epoch 59 (35.87 secs): err(train)=2.04, acc(train)=0.376, err(valid)=2.79, acc(valid)=0.212, \n",
      "prevValidError: 2.75\n",
      "curInputProb: 0.60, curHiddenProb: 0.28\n",
      "End epoch 60 (36.01 secs): err(train)=2.43, acc(train)=0.275, err(valid)=2.74, acc(valid)=0.221, \n",
      "prevValidError: 2.75\n",
      "CPU times: user 33min 15s, sys: 4min 24s, total: 37min 40s\n",
      "Wall time: 38min 23s\n"
     ]
    },
    {
     "data": {
      "image/png": "[encoded data removed]",
      "text/plain": [
       "<matplotlib.figure.Figure at 0x7f6cb6bc3850>"
      ]
     },
     "metadata": {},
     "output_type": "display_data"
    },
    {
     "data": {
      "image/png": "[encoded data removed]",
      "text/plain": [
       "<matplotlib.figure.Figure at 0x7f6cb41f1ed0>"
      ]
     },
     "metadata": {},
     "output_type": "display_data"
    }
   ],
   "source": [
    "%%time\n",
    "\n",
    "epochs = 60\n",
    "minInputProb = 0.5\n",
    "minHiddenProb = 0.1\n",
    "resolution = 10\n",
    "gamma = 0.6\n",
    "\n",
    "#configuration above\n",
    "\n",
    "maxProb = 1.\n",
    "\n",
    "stepInputProb = (maxProb - minInputProb) / resolution\n",
    "stepHiddenProb =  (maxProb - minHiddenProb) / resolution\n",
    "\n",
    "curInputProb = 0.5\n",
    "curHiddenProb = 0.5\n",
    "\n",
    "#prevValidAccuracy = 0.\n",
    "prevValidError = 10 #because we have rarely seen validation error larger than this value\n",
    "\n",
    "#with tf.Session(graph=graph, config=config) as sess:\n",
    "sess = tf.Session(graph=graph, config=config)\n",
    "sess.run(init) #initialization to initialize all variables\n",
    "\n",
    "stats, keys = initStats(epochs)\n",
    "valid_error, valid_accuracy = 0., 0.\n",
    "\n",
    "for e in range(epochs):\n",
    "    print \"curInputProb: %.2f, curHiddenProb: %.2f\" % (curInputProb, curHiddenProb)\n",
    "\n",
    "    (train_error, train_accuracy), runTime = getRunTime(lambda _ = None : trainEpoch(\n",
    "        inputs, targets, sess, e, train_data, train_step, error, accuracy, merge_dicts(\n",
    "            {training: True}, constructProbs(keep_probs, curInputProb, curHiddenProb)\n",
    "        )\n",
    "    ))\n",
    "\n",
    "    #print 'End epoch %02d (%.3f secs): err(train)=%.2f acc(train)=%.2f' % (e+1, runTime, train_error,train_accuracy)\n",
    "\n",
    "    if (e + 1) % 1 == 0:\n",
    "        valid_error, valid_accuracy = validateEpoch(inputs, targets, sess, e, valid_data, error, accuracy,\n",
    "                                                    keep_probs, {training: False})\n",
    "\n",
    "#             print((' ' * 27) + 'err(valid)={0:.2f} acc(valid)={1:.2f}'.format(valid_error, valid_accuracy))\n",
    "#             print\n",
    "\n",
    "        #if valid_accuracy >= prevValidAccuracy:\n",
    "        if valid_error < prevValidError:\n",
    "            #things are going better then reduce regularization\n",
    "            curInputProb += stepInputProb\n",
    "            curHiddenProb += stepHiddenProb\n",
    "        else: #things are going worse so we better increase regularization\n",
    "            curInputProb -= 2*stepInputProb\n",
    "            curHiddenProb -= 2*stepHiddenProb\n",
    "\n",
    "        #thresholding\n",
    "        curInputProb = max(min(maxProb, curInputProb), minInputProb)\n",
    "        curHiddenProb = max(min(maxProb, curHiddenProb), minHiddenProb)\n",
    "\n",
    "        #update\n",
    "        prevValidError = gamma * prevValidError + valid_error * (1 - gamma)\n",
    "\n",
    "    stats = gatherStats(e, train_error, train_accuracy, valid_error, valid_accuracy, stats)\n",
    "\n",
    "    print 'End epoch %02d (%.2f secs): err(train)=%.2f, acc(train)=%.3f, err(valid)=%.2f, acc(valid)=%.3f, ' %\\\n",
    "        (e+1, runTime, train_error, train_accuracy, valid_error, valid_accuracy)\n",
    "    print \"prevValidError: %.2f\" % prevValidError\n",
    "\n",
    "#test_inputs = np.load(os.path.join(os.environ['MLP_DATA_DIR'], 'msd-25-genre-test-inputs.npz'))['inputs']\n",
    "#test_inputs = test_inputs.reshape((test_inputs.shape[0], -1))\n",
    "#test_predictions = sess.run(tf.nn.softmax(outputs), feed_dict={inputs: test_inputs, keep_prob_0: 1., keep_prob_1: 1.})\n",
    "\n",
    "fig_1, ax_1, fig_2, ax_2 = plotStats(stats, keys)\n",
    "figcount += 1\n",
    "fig_1.savefig('cw3_part5_%02d_fig_error.svg' % figcount)\n",
    "fig_2.savefig('cw3_part5_%02d_fig_valid.svg' % figcount)"
   ]
  },
  {
   "cell_type": "markdown",
   "metadata": {},
   "source": [
    "#### Conclusion\n",
    "We see that the classification of the 25 genres is a much more difficult task for an even deeper neural network. More computational power is required and the learning rate is slower.\n",
    "\n",
    "More resources are needed timewise as well because we should let the algorithm run for longer periods to get satisfactory results.\n",
    "\n",
    "Thankfully our protocol has performed well in terms of regularization since we see that the validation error has remained stable.\n",
    "\n",
    "The maximum validation accuracy recorded is ~22%"
   ]
  },
  {
   "cell_type": "markdown",
   "metadata": {},
   "source": [
    "## Predicting test data classes and creating a Kaggle submission file\n",
    "\n",
    "An optional [Kaggle in Class](https://inclass.kaggle.com/c/mlp2016-7-msd-genre) competition (see email for invite link, you will need to sign-up with a `ed.ac.uk` email address to be able to enter) is being run on the 25 genre classification task. The scores for the competition are calculated by calculating the proportion of classes correctly predicted on the test set inputs (for which no class labels are provided). Half of the 10000 test inputs are used to calculate a public leaderboard score which will be visible while the competition is in progress and the other half are used to compute the private leaderboard score which will only be unveiled at the end of the competition. Each entrant can make up to two submissions of predictions each day during the competition.\n",
    "\n",
    "The code and helper function below illustrate how to use the predicted outputs of the TensorFlow network model we just trained to create a submission file which can be uploaded to Kaggle. The required format of the submission file is a `.csv` (Comma Separated Variable) file with two columns: the first is the integer index of the test input in the array in the provided data file (i.e. first row 0, second row 1 and so on) and the second column the corresponding predicted class label as an integer. The predictions must be preceded by a header line as in the following example\n",
    "\n",
    "```\n",
    "Id,Class\n",
    "0,12\n",
    "1,24\n",
    "2,9\n",
    "...\n",
    "```\n",
    "\n",
    "Integer class label predictions can be computed from the class probability outputs of the model by performing an `argmax` operation along the last dimension."
   ]
  },
  {
   "cell_type": "code",
   "execution_count": 26,
   "metadata": {
    "collapsed": false
   },
   "outputs": [],
   "source": [
    "test_inputs = np.load(os.path.join(os.environ['MLP_DATA_DIR'], 'msd-25-genre-test-inputs.npz'))['inputs']\n",
    "test_inputs = test_inputs.reshape((test_inputs.shape[0], -1))\n",
    "test_predictions = sess.run(tf.nn.softmax(outputs), feed_dict=merge_dicts({inputs: test_inputs, training: False},\n",
    "                                                                         constructProbs(keep_probs, 1., 1.)) )"
   ]
  },
  {
   "cell_type": "code",
   "execution_count": 27,
   "metadata": {
    "collapsed": true
   },
   "outputs": [],
   "source": [
    "def create_kaggle_submission_file(predictions, output_file, overwrite=False):\n",
    "    if predictions.shape != (10000, 25):\n",
    "        raise ValueError('predictions should be an array of shape (10000, 25).')\n",
    "    if not (np.all(predictions >= 0.) and \n",
    "            np.all(predictions <= 1.)):\n",
    "        raise ValueError('predictions should be an array of probabilities in [0, 1].')\n",
    "    if not np.allclose(predictions.sum(-1), 1):\n",
    "        raise ValueError('predictions rows should sum to one.')\n",
    "    if os.path.exists(output_file) and not overwrite:\n",
    "        raise ValueError('File already exists at {0}'.format(output_file))\n",
    "    pred_classes = predictions.argmax(-1)\n",
    "    ids = np.arange(pred_classes.shape[0])\n",
    "    np.savetxt(output_file, np.column_stack([ids, pred_classes]), fmt='%d',\n",
    "               delimiter=',', header='Id,Class', comments='')"
   ]
  },
  {
   "cell_type": "code",
   "execution_count": 28,
   "metadata": {
    "collapsed": false
   },
   "outputs": [],
   "source": [
    "create_kaggle_submission_file(test_predictions, 'msd-25-tanh-batch-norm-dropout-network-submission.csv', True)"
   ]
  },
  {
   "cell_type": "code",
   "execution_count": 29,
   "metadata": {
    "collapsed": true
   },
   "outputs": [],
   "source": [
    "sess.close()"
   ]
  }
 ],
 "metadata": {
  "anaconda-cloud": {},
  "kernelspec": {
   "display_name": "Python 2",
   "language": "python",
   "name": "python2"
  },
  "language_info": {
   "codemirror_mode": {
    "name": "ipython",
    "version": 2
   },
   "file_extension": ".py",
   "mimetype": "text/x-python",
   "name": "python",
   "nbconvert_exporter": "python",
   "pygments_lexer": "ipython2",
   "version": "2.7.13"
  }
 },
 "nbformat": 4,
 "nbformat_minor": 1
}
